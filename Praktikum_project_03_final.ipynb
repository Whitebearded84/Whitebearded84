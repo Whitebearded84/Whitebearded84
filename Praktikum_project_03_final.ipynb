{
 "cells": [
  {
   "cell_type": "markdown",
   "metadata": {},
   "source": [
    "# Определение перспективного тарифа для телеком компании"
   ]
  },
  {
   "cell_type": "markdown",
   "metadata": {},
   "source": [
    "Компания «Мегалайн» — федеральный оператор сотовой связи. Она предлагает клиентам два тарифных плана: «Смарт» и «Ультра». Чтобы скорректировать рекламный бюджет, коммерческий департамент хочет понять, какой тариф приносит больше денег.\n",
    "\n",
    "\n",
    "Нам предстоит сделать предварительный анализ тарифов на небольшой выборке клиентов. В нашем распоряжении данные 500 пользователей «Мегалайна»: кто они, откуда, каким тарифом пользуются, сколько звонков и сообщений каждый отправил за 2018 год. \n",
    "\n",
    "\n",
    "Нужно проанализировать поведение клиентов и сделать вывод — какой тариф лучше."
   ]
  },
  {
   "cell_type": "markdown",
   "metadata": {},
   "source": [
    "## Изучение и подготовка данных"
   ]
  },
  {
   "cell_type": "markdown",
   "metadata": {},
   "source": [
    "Импортируем необходимые для работы библиотеки."
   ]
  },
  {
   "cell_type": "code",
   "execution_count": 1,
   "metadata": {},
   "outputs": [],
   "source": [
    "import pandas as pd\n",
    "import matplotlib.pyplot as plt\n",
    "import numpy as np\n",
    "from scipy import stats as st\n",
    "\n",
    "%matplotlib inline"
   ]
  },
  {
   "cell_type": "markdown",
   "metadata": {},
   "source": [
    "Первым шагом рассмотрим общую информацию о данных в таблицах. Прочитаем её из .csv-файлов и выведем общую информацию."
   ]
  },
  {
   "cell_type": "code",
   "execution_count": 2,
   "metadata": {},
   "outputs": [],
   "source": [
    "users = pd.read_csv('/datasets/users.csv')\n",
    "calls = pd.read_csv('/datasets/calls.csv')\n",
    "messages = pd.read_csv('/datasets/messages.csv')\n",
    "internet = pd.read_csv('/datasets/internet.csv')\n",
    "tariffs = pd.read_csv('/datasets/tariffs.csv')"
   ]
  },
  {
   "cell_type": "markdown",
   "metadata": {},
   "source": [
    "Сначала - общие данные о **пользователях**."
   ]
  },
  {
   "cell_type": "code",
   "execution_count": 3,
   "metadata": {},
   "outputs": [
    {
     "name": "stdout",
     "output_type": "stream",
     "text": [
      "<class 'pandas.core.frame.DataFrame'>\n",
      "RangeIndex: 500 entries, 0 to 499\n",
      "Data columns (total 8 columns):\n",
      "user_id       500 non-null int64\n",
      "age           500 non-null int64\n",
      "churn_date    38 non-null object\n",
      "city          500 non-null object\n",
      "first_name    500 non-null object\n",
      "last_name     500 non-null object\n",
      "reg_date      500 non-null object\n",
      "tariff        500 non-null object\n",
      "dtypes: int64(2), object(6)\n",
      "memory usage: 31.4+ KB\n"
     ]
    }
   ],
   "source": [
    "users.info()"
   ]
  },
  {
   "cell_type": "code",
   "execution_count": 4,
   "metadata": {},
   "outputs": [
    {
     "data": {
      "text/html": [
       "<div>\n",
       "<style scoped>\n",
       "    .dataframe tbody tr th:only-of-type {\n",
       "        vertical-align: middle;\n",
       "    }\n",
       "\n",
       "    .dataframe tbody tr th {\n",
       "        vertical-align: top;\n",
       "    }\n",
       "\n",
       "    .dataframe thead th {\n",
       "        text-align: right;\n",
       "    }\n",
       "</style>\n",
       "<table border=\"1\" class=\"dataframe\">\n",
       "  <thead>\n",
       "    <tr style=\"text-align: right;\">\n",
       "      <th></th>\n",
       "      <th>user_id</th>\n",
       "      <th>age</th>\n",
       "      <th>churn_date</th>\n",
       "      <th>city</th>\n",
       "      <th>first_name</th>\n",
       "      <th>last_name</th>\n",
       "      <th>reg_date</th>\n",
       "      <th>tariff</th>\n",
       "    </tr>\n",
       "  </thead>\n",
       "  <tbody>\n",
       "    <tr>\n",
       "      <td>0</td>\n",
       "      <td>1000</td>\n",
       "      <td>52</td>\n",
       "      <td>NaN</td>\n",
       "      <td>Краснодар</td>\n",
       "      <td>Рафаил</td>\n",
       "      <td>Верещагин</td>\n",
       "      <td>2018-05-25</td>\n",
       "      <td>ultra</td>\n",
       "    </tr>\n",
       "    <tr>\n",
       "      <td>1</td>\n",
       "      <td>1001</td>\n",
       "      <td>41</td>\n",
       "      <td>NaN</td>\n",
       "      <td>Москва</td>\n",
       "      <td>Иван</td>\n",
       "      <td>Ежов</td>\n",
       "      <td>2018-11-01</td>\n",
       "      <td>smart</td>\n",
       "    </tr>\n",
       "    <tr>\n",
       "      <td>2</td>\n",
       "      <td>1002</td>\n",
       "      <td>59</td>\n",
       "      <td>NaN</td>\n",
       "      <td>Стерлитамак</td>\n",
       "      <td>Евгений</td>\n",
       "      <td>Абрамович</td>\n",
       "      <td>2018-06-17</td>\n",
       "      <td>smart</td>\n",
       "    </tr>\n",
       "    <tr>\n",
       "      <td>3</td>\n",
       "      <td>1003</td>\n",
       "      <td>23</td>\n",
       "      <td>NaN</td>\n",
       "      <td>Москва</td>\n",
       "      <td>Белла</td>\n",
       "      <td>Белякова</td>\n",
       "      <td>2018-08-17</td>\n",
       "      <td>ultra</td>\n",
       "    </tr>\n",
       "    <tr>\n",
       "      <td>4</td>\n",
       "      <td>1004</td>\n",
       "      <td>68</td>\n",
       "      <td>NaN</td>\n",
       "      <td>Новокузнецк</td>\n",
       "      <td>Татьяна</td>\n",
       "      <td>Авдеенко</td>\n",
       "      <td>2018-05-14</td>\n",
       "      <td>ultra</td>\n",
       "    </tr>\n",
       "  </tbody>\n",
       "</table>\n",
       "</div>"
      ],
      "text/plain": [
       "   user_id  age churn_date         city first_name  last_name    reg_date  \\\n",
       "0     1000   52        NaN    Краснодар     Рафаил  Верещагин  2018-05-25   \n",
       "1     1001   41        NaN       Москва       Иван       Ежов  2018-11-01   \n",
       "2     1002   59        NaN  Стерлитамак    Евгений  Абрамович  2018-06-17   \n",
       "3     1003   23        NaN       Москва      Белла   Белякова  2018-08-17   \n",
       "4     1004   68        NaN  Новокузнецк    Татьяна   Авдеенко  2018-05-14   \n",
       "\n",
       "  tariff  \n",
       "0  ultra  \n",
       "1  smart  \n",
       "2  smart  \n",
       "3  ultra  \n",
       "4  ultra  "
      ]
     },
     "execution_count": 4,
     "metadata": {},
     "output_type": "execute_result"
    }
   ],
   "source": [
    "users.head()"
   ]
  },
  {
   "cell_type": "markdown",
   "metadata": {},
   "source": [
    "Проверим на пропуски."
   ]
  },
  {
   "cell_type": "code",
   "execution_count": 5,
   "metadata": {},
   "outputs": [
    {
     "data": {
      "text/plain": [
       "user_id         0\n",
       "age             0\n",
       "churn_date    462\n",
       "city            0\n",
       "first_name      0\n",
       "last_name       0\n",
       "reg_date        0\n",
       "tariff          0\n",
       "dtype: int64"
      ]
     },
     "execution_count": 5,
     "metadata": {},
     "output_type": "execute_result"
    }
   ],
   "source": [
    "users.isna().sum()"
   ]
  },
  {
   "cell_type": "markdown",
   "metadata": {},
   "source": [
    "churn_date — дата прекращения пользования тарифом (если значение пропущено, то тариф ещё действовал на момент выгрузки данных). Оставляем пропуски незаполненными."
   ]
  },
  {
   "cell_type": "markdown",
   "metadata": {},
   "source": [
    "Приведём столбцы с датами к формату \"дата-время\"."
   ]
  },
  {
   "cell_type": "code",
   "execution_count": 6,
   "metadata": {},
   "outputs": [],
   "source": [
    "users['churn_date'] = pd.to_datetime(users.churn_date)\n",
    "users['reg_date'] = pd.to_datetime(users.reg_date)"
   ]
  },
  {
   "cell_type": "code",
   "execution_count": 7,
   "metadata": {
    "scrolled": false
   },
   "outputs": [
    {
     "data": {
      "text/html": [
       "<div>\n",
       "<style scoped>\n",
       "    .dataframe tbody tr th:only-of-type {\n",
       "        vertical-align: middle;\n",
       "    }\n",
       "\n",
       "    .dataframe tbody tr th {\n",
       "        vertical-align: top;\n",
       "    }\n",
       "\n",
       "    .dataframe thead th {\n",
       "        text-align: right;\n",
       "    }\n",
       "</style>\n",
       "<table border=\"1\" class=\"dataframe\">\n",
       "  <thead>\n",
       "    <tr style=\"text-align: right;\">\n",
       "      <th></th>\n",
       "      <th>user_id</th>\n",
       "      <th>age</th>\n",
       "      <th>churn_date</th>\n",
       "      <th>city</th>\n",
       "      <th>first_name</th>\n",
       "      <th>last_name</th>\n",
       "      <th>reg_date</th>\n",
       "      <th>tariff</th>\n",
       "    </tr>\n",
       "  </thead>\n",
       "  <tbody>\n",
       "    <tr>\n",
       "      <td>0</td>\n",
       "      <td>1000</td>\n",
       "      <td>52</td>\n",
       "      <td>NaT</td>\n",
       "      <td>Краснодар</td>\n",
       "      <td>Рафаил</td>\n",
       "      <td>Верещагин</td>\n",
       "      <td>2018-05-25</td>\n",
       "      <td>ultra</td>\n",
       "    </tr>\n",
       "    <tr>\n",
       "      <td>1</td>\n",
       "      <td>1001</td>\n",
       "      <td>41</td>\n",
       "      <td>NaT</td>\n",
       "      <td>Москва</td>\n",
       "      <td>Иван</td>\n",
       "      <td>Ежов</td>\n",
       "      <td>2018-11-01</td>\n",
       "      <td>smart</td>\n",
       "    </tr>\n",
       "    <tr>\n",
       "      <td>2</td>\n",
       "      <td>1002</td>\n",
       "      <td>59</td>\n",
       "      <td>NaT</td>\n",
       "      <td>Стерлитамак</td>\n",
       "      <td>Евгений</td>\n",
       "      <td>Абрамович</td>\n",
       "      <td>2018-06-17</td>\n",
       "      <td>smart</td>\n",
       "    </tr>\n",
       "    <tr>\n",
       "      <td>3</td>\n",
       "      <td>1003</td>\n",
       "      <td>23</td>\n",
       "      <td>NaT</td>\n",
       "      <td>Москва</td>\n",
       "      <td>Белла</td>\n",
       "      <td>Белякова</td>\n",
       "      <td>2018-08-17</td>\n",
       "      <td>ultra</td>\n",
       "    </tr>\n",
       "    <tr>\n",
       "      <td>4</td>\n",
       "      <td>1004</td>\n",
       "      <td>68</td>\n",
       "      <td>NaT</td>\n",
       "      <td>Новокузнецк</td>\n",
       "      <td>Татьяна</td>\n",
       "      <td>Авдеенко</td>\n",
       "      <td>2018-05-14</td>\n",
       "      <td>ultra</td>\n",
       "    </tr>\n",
       "  </tbody>\n",
       "</table>\n",
       "</div>"
      ],
      "text/plain": [
       "   user_id  age churn_date         city first_name  last_name   reg_date  \\\n",
       "0     1000   52        NaT    Краснодар     Рафаил  Верещагин 2018-05-25   \n",
       "1     1001   41        NaT       Москва       Иван       Ежов 2018-11-01   \n",
       "2     1002   59        NaT  Стерлитамак    Евгений  Абрамович 2018-06-17   \n",
       "3     1003   23        NaT       Москва      Белла   Белякова 2018-08-17   \n",
       "4     1004   68        NaT  Новокузнецк    Татьяна   Авдеенко 2018-05-14   \n",
       "\n",
       "  tariff  \n",
       "0  ultra  \n",
       "1  smart  \n",
       "2  smart  \n",
       "3  ultra  \n",
       "4  ultra  "
      ]
     },
     "execution_count": 7,
     "metadata": {},
     "output_type": "execute_result"
    }
   ],
   "source": [
    "users.head()"
   ]
  },
  {
   "cell_type": "code",
   "execution_count": 8,
   "metadata": {},
   "outputs": [
    {
     "name": "stdout",
     "output_type": "stream",
     "text": [
      "<class 'pandas.core.frame.DataFrame'>\n",
      "RangeIndex: 500 entries, 0 to 499\n",
      "Data columns (total 8 columns):\n",
      "user_id       500 non-null int64\n",
      "age           500 non-null int64\n",
      "churn_date    38 non-null datetime64[ns]\n",
      "city          500 non-null object\n",
      "first_name    500 non-null object\n",
      "last_name     500 non-null object\n",
      "reg_date      500 non-null datetime64[ns]\n",
      "tariff        500 non-null object\n",
      "dtypes: datetime64[ns](2), int64(2), object(4)\n",
      "memory usage: 31.4+ KB\n"
     ]
    }
   ],
   "source": [
    "users.info()"
   ]
  },
  {
   "cell_type": "markdown",
   "metadata": {},
   "source": [
    "Выведем общую информацию по таблице данных **о звонках**."
   ]
  },
  {
   "cell_type": "code",
   "execution_count": 9,
   "metadata": {},
   "outputs": [
    {
     "name": "stdout",
     "output_type": "stream",
     "text": [
      "<class 'pandas.core.frame.DataFrame'>\n",
      "RangeIndex: 202607 entries, 0 to 202606\n",
      "Data columns (total 4 columns):\n",
      "id           202607 non-null object\n",
      "call_date    202607 non-null object\n",
      "duration     202607 non-null float64\n",
      "user_id      202607 non-null int64\n",
      "dtypes: float64(1), int64(1), object(2)\n",
      "memory usage: 6.2+ MB\n"
     ]
    }
   ],
   "source": [
    "calls.info()"
   ]
  },
  {
   "cell_type": "code",
   "execution_count": 10,
   "metadata": {},
   "outputs": [
    {
     "data": {
      "text/html": [
       "<div>\n",
       "<style scoped>\n",
       "    .dataframe tbody tr th:only-of-type {\n",
       "        vertical-align: middle;\n",
       "    }\n",
       "\n",
       "    .dataframe tbody tr th {\n",
       "        vertical-align: top;\n",
       "    }\n",
       "\n",
       "    .dataframe thead th {\n",
       "        text-align: right;\n",
       "    }\n",
       "</style>\n",
       "<table border=\"1\" class=\"dataframe\">\n",
       "  <thead>\n",
       "    <tr style=\"text-align: right;\">\n",
       "      <th></th>\n",
       "      <th>id</th>\n",
       "      <th>call_date</th>\n",
       "      <th>duration</th>\n",
       "      <th>user_id</th>\n",
       "    </tr>\n",
       "  </thead>\n",
       "  <tbody>\n",
       "    <tr>\n",
       "      <td>0</td>\n",
       "      <td>1000_0</td>\n",
       "      <td>2018-07-25</td>\n",
       "      <td>0.00</td>\n",
       "      <td>1000</td>\n",
       "    </tr>\n",
       "    <tr>\n",
       "      <td>1</td>\n",
       "      <td>1000_1</td>\n",
       "      <td>2018-08-17</td>\n",
       "      <td>0.00</td>\n",
       "      <td>1000</td>\n",
       "    </tr>\n",
       "    <tr>\n",
       "      <td>2</td>\n",
       "      <td>1000_2</td>\n",
       "      <td>2018-06-11</td>\n",
       "      <td>2.85</td>\n",
       "      <td>1000</td>\n",
       "    </tr>\n",
       "    <tr>\n",
       "      <td>3</td>\n",
       "      <td>1000_3</td>\n",
       "      <td>2018-09-21</td>\n",
       "      <td>13.80</td>\n",
       "      <td>1000</td>\n",
       "    </tr>\n",
       "    <tr>\n",
       "      <td>4</td>\n",
       "      <td>1000_4</td>\n",
       "      <td>2018-12-15</td>\n",
       "      <td>5.18</td>\n",
       "      <td>1000</td>\n",
       "    </tr>\n",
       "  </tbody>\n",
       "</table>\n",
       "</div>"
      ],
      "text/plain": [
       "       id   call_date  duration  user_id\n",
       "0  1000_0  2018-07-25      0.00     1000\n",
       "1  1000_1  2018-08-17      0.00     1000\n",
       "2  1000_2  2018-06-11      2.85     1000\n",
       "3  1000_3  2018-09-21     13.80     1000\n",
       "4  1000_4  2018-12-15      5.18     1000"
      ]
     },
     "execution_count": 10,
     "metadata": {},
     "output_type": "execute_result"
    }
   ],
   "source": [
    "calls.head(5)"
   ]
  },
  {
   "cell_type": "markdown",
   "metadata": {},
   "source": [
    "Рассмотрим базовые статистики по таблице."
   ]
  },
  {
   "cell_type": "code",
   "execution_count": 11,
   "metadata": {},
   "outputs": [
    {
     "data": {
      "text/html": [
       "<div>\n",
       "<style scoped>\n",
       "    .dataframe tbody tr th:only-of-type {\n",
       "        vertical-align: middle;\n",
       "    }\n",
       "\n",
       "    .dataframe tbody tr th {\n",
       "        vertical-align: top;\n",
       "    }\n",
       "\n",
       "    .dataframe thead th {\n",
       "        text-align: right;\n",
       "    }\n",
       "</style>\n",
       "<table border=\"1\" class=\"dataframe\">\n",
       "  <thead>\n",
       "    <tr style=\"text-align: right;\">\n",
       "      <th></th>\n",
       "      <th>duration</th>\n",
       "      <th>user_id</th>\n",
       "    </tr>\n",
       "  </thead>\n",
       "  <tbody>\n",
       "    <tr>\n",
       "      <td>count</td>\n",
       "      <td>202607.000000</td>\n",
       "      <td>202607.000000</td>\n",
       "    </tr>\n",
       "    <tr>\n",
       "      <td>mean</td>\n",
       "      <td>6.755887</td>\n",
       "      <td>1253.940619</td>\n",
       "    </tr>\n",
       "    <tr>\n",
       "      <td>std</td>\n",
       "      <td>5.843365</td>\n",
       "      <td>144.722751</td>\n",
       "    </tr>\n",
       "    <tr>\n",
       "      <td>min</td>\n",
       "      <td>0.000000</td>\n",
       "      <td>1000.000000</td>\n",
       "    </tr>\n",
       "    <tr>\n",
       "      <td>25%</td>\n",
       "      <td>1.300000</td>\n",
       "      <td>1126.000000</td>\n",
       "    </tr>\n",
       "    <tr>\n",
       "      <td>50%</td>\n",
       "      <td>6.000000</td>\n",
       "      <td>1260.000000</td>\n",
       "    </tr>\n",
       "    <tr>\n",
       "      <td>75%</td>\n",
       "      <td>10.700000</td>\n",
       "      <td>1379.000000</td>\n",
       "    </tr>\n",
       "    <tr>\n",
       "      <td>max</td>\n",
       "      <td>38.000000</td>\n",
       "      <td>1499.000000</td>\n",
       "    </tr>\n",
       "  </tbody>\n",
       "</table>\n",
       "</div>"
      ],
      "text/plain": [
       "            duration        user_id\n",
       "count  202607.000000  202607.000000\n",
       "mean        6.755887    1253.940619\n",
       "std         5.843365     144.722751\n",
       "min         0.000000    1000.000000\n",
       "25%         1.300000    1126.000000\n",
       "50%         6.000000    1260.000000\n",
       "75%        10.700000    1379.000000\n",
       "max        38.000000    1499.000000"
      ]
     },
     "execution_count": 11,
     "metadata": {},
     "output_type": "execute_result"
    }
   ],
   "source": [
    "calls.describe()"
   ]
  },
  {
   "cell_type": "markdown",
   "metadata": {},
   "source": [
    "В среднем, звонки не превышают семь минут. Максимальное время - 38 минут. Есть и звонки с нулевой продолжительностью. Как говорится в сопроводительной информации от «Мегалайн» - это не ошибка: нулями обозначены пропущенные звонки, поэтому их не нужно удалять."
   ]
  },
  {
   "cell_type": "markdown",
   "metadata": {},
   "source": [
    "Построим графики."
   ]
  },
  {
   "cell_type": "code",
   "execution_count": 12,
   "metadata": {},
   "outputs": [
    {
     "data": {
      "image/png": "[encoded data removed]",
      "text/plain": [
       "<Figure size 1008x432 with 1 Axes>"
      ]
     },
     "metadata": {
      "needs_background": "light"
     },
     "output_type": "display_data"
    }
   ],
   "source": [
    "plt.figure(figsize=(14, 6))\n",
    "calls.duration.plot(kind='hist', bins=40)\n",
    "plt.show()"
   ]
  },
  {
   "cell_type": "code",
   "execution_count": 13,
   "metadata": {},
   "outputs": [
    {
     "data": {
      "image/png": "[encoded data removed]",
      "text/plain": [
       "<Figure size 1008x288 with 1 Axes>"
      ]
     },
     "metadata": {
      "needs_background": "light"
     },
     "output_type": "display_data"
    }
   ],
   "source": [
    "plt.figure(figsize=(14, 4))\n",
    "calls.duration.plot(kind='box', grid=True, vert=False)\n",
    "plt.xlim(-1, 30)\n",
    "plt.show()"
   ]
  },
  {
   "cell_type": "markdown",
   "metadata": {},
   "source": [
    "Судя по графикам, датасет скошен вправо. Присутствует большое количество околонулевых (от одной секунды), пропущенных звонков и выбросов. Но на медианное значение это практически не влияет.\n",
    "\n",
    "Основная масса абонентов разговаривает, примерно, от двух до десяти минут.\n",
    "\n",
    "Достаточно много людей проводит в звонке до 20 минут и более. Однако, в районе 25 минут начинаются экстремальные значения - выбросы. Людей, говорящих так долго, не много."
   ]
  },
  {
   "cell_type": "markdown",
   "metadata": {},
   "source": [
    "Проверим на пропуски."
   ]
  },
  {
   "cell_type": "code",
   "execution_count": 14,
   "metadata": {},
   "outputs": [
    {
     "data": {
      "text/plain": [
       "id           0\n",
       "call_date    0\n",
       "duration     0\n",
       "user_id      0\n",
       "dtype: int64"
      ]
     },
     "execution_count": 14,
     "metadata": {},
     "output_type": "execute_result"
    }
   ],
   "source": [
    "calls.isna().sum()"
   ]
  },
  {
   "cell_type": "markdown",
   "metadata": {},
   "source": [
    "Приведём столбец с датой к формату \"дата-время\"."
   ]
  },
  {
   "cell_type": "code",
   "execution_count": 15,
   "metadata": {},
   "outputs": [],
   "source": [
    "calls['call_date'] = pd.to_datetime(calls.call_date)"
   ]
  },
  {
   "cell_type": "markdown",
   "metadata": {},
   "source": [
    "duration — длительность звонка в минутах. «Мегалайн» всегда округляет секунды до минут, а мегабайты — до гигабайт. Каждый звонок округляется отдельно: даже если он длился всего 1 секунду, будет засчитан как 1 минута."
   ]
  },
  {
   "cell_type": "markdown",
   "metadata": {},
   "source": [
    "Проверим, сколько \"секундных\" звонков в нашей таблице."
   ]
  },
  {
   "cell_type": "code",
   "execution_count": 16,
   "metadata": {},
   "outputs": [
    {
     "data": {
      "text/plain": [
       "id           101\n",
       "call_date    101\n",
       "duration     101\n",
       "user_id      101\n",
       "dtype: int64"
      ]
     },
     "execution_count": 16,
     "metadata": {},
     "output_type": "execute_result"
    }
   ],
   "source": [
    "calls.loc[calls.duration == 0.01].count()"
   ]
  },
  {
   "cell_type": "markdown",
   "metadata": {},
   "source": [
    "Сто звонков. А ведь есть звонки по две, пять, двадцать секунд. Округлим их в бОльшую сторону, согласно правилам «Мегалайн»."
   ]
  },
  {
   "cell_type": "markdown",
   "metadata": {},
   "source": [
    "Импортируем из библиотеки math  функцию для округления в нужную сторону."
   ]
  },
  {
   "cell_type": "code",
   "execution_count": 17,
   "metadata": {},
   "outputs": [],
   "source": [
    "from math import ceil"
   ]
  },
  {
   "cell_type": "markdown",
   "metadata": {},
   "source": [
    "Округляем и смотрим на результат."
   ]
  },
  {
   "cell_type": "code",
   "execution_count": 18,
   "metadata": {},
   "outputs": [],
   "source": [
    "#calls['duration'] = calls['duration'].apply(ceil)\n",
    "calls['duration'] = np.ceil(calls['duration'])"
   ]
  },
  {
   "cell_type": "code",
   "execution_count": 19,
   "metadata": {},
   "outputs": [
    {
     "data": {
      "text/html": [
       "<div>\n",
       "<style scoped>\n",
       "    .dataframe tbody tr th:only-of-type {\n",
       "        vertical-align: middle;\n",
       "    }\n",
       "\n",
       "    .dataframe tbody tr th {\n",
       "        vertical-align: top;\n",
       "    }\n",
       "\n",
       "    .dataframe thead th {\n",
       "        text-align: right;\n",
       "    }\n",
       "</style>\n",
       "<table border=\"1\" class=\"dataframe\">\n",
       "  <thead>\n",
       "    <tr style=\"text-align: right;\">\n",
       "      <th></th>\n",
       "      <th>id</th>\n",
       "      <th>call_date</th>\n",
       "      <th>duration</th>\n",
       "      <th>user_id</th>\n",
       "    </tr>\n",
       "  </thead>\n",
       "  <tbody>\n",
       "    <tr>\n",
       "      <td>0</td>\n",
       "      <td>1000_0</td>\n",
       "      <td>2018-07-25</td>\n",
       "      <td>0.0</td>\n",
       "      <td>1000</td>\n",
       "    </tr>\n",
       "    <tr>\n",
       "      <td>1</td>\n",
       "      <td>1000_1</td>\n",
       "      <td>2018-08-17</td>\n",
       "      <td>0.0</td>\n",
       "      <td>1000</td>\n",
       "    </tr>\n",
       "    <tr>\n",
       "      <td>2</td>\n",
       "      <td>1000_2</td>\n",
       "      <td>2018-06-11</td>\n",
       "      <td>3.0</td>\n",
       "      <td>1000</td>\n",
       "    </tr>\n",
       "    <tr>\n",
       "      <td>3</td>\n",
       "      <td>1000_3</td>\n",
       "      <td>2018-09-21</td>\n",
       "      <td>14.0</td>\n",
       "      <td>1000</td>\n",
       "    </tr>\n",
       "    <tr>\n",
       "      <td>4</td>\n",
       "      <td>1000_4</td>\n",
       "      <td>2018-12-15</td>\n",
       "      <td>6.0</td>\n",
       "      <td>1000</td>\n",
       "    </tr>\n",
       "  </tbody>\n",
       "</table>\n",
       "</div>"
      ],
      "text/plain": [
       "       id  call_date  duration  user_id\n",
       "0  1000_0 2018-07-25       0.0     1000\n",
       "1  1000_1 2018-08-17       0.0     1000\n",
       "2  1000_2 2018-06-11       3.0     1000\n",
       "3  1000_3 2018-09-21      14.0     1000\n",
       "4  1000_4 2018-12-15       6.0     1000"
      ]
     },
     "execution_count": 19,
     "metadata": {},
     "output_type": "execute_result"
    }
   ],
   "source": [
    "calls.head()"
   ]
  },
  {
   "cell_type": "markdown",
   "metadata": {},
   "source": [
    "Как видим, округление в бОльшую сторону произошло."
   ]
  },
  {
   "cell_type": "markdown",
   "metadata": {},
   "source": [
    "На очереди таблица с **сообщениями**."
   ]
  },
  {
   "cell_type": "code",
   "execution_count": 20,
   "metadata": {},
   "outputs": [
    {
     "name": "stdout",
     "output_type": "stream",
     "text": [
      "<class 'pandas.core.frame.DataFrame'>\n",
      "RangeIndex: 123036 entries, 0 to 123035\n",
      "Data columns (total 3 columns):\n",
      "id              123036 non-null object\n",
      "message_date    123036 non-null object\n",
      "user_id         123036 non-null int64\n",
      "dtypes: int64(1), object(2)\n",
      "memory usage: 2.8+ MB\n"
     ]
    }
   ],
   "source": [
    "messages.info()"
   ]
  },
  {
   "cell_type": "code",
   "execution_count": 21,
   "metadata": {},
   "outputs": [
    {
     "data": {
      "text/html": [
       "<div>\n",
       "<style scoped>\n",
       "    .dataframe tbody tr th:only-of-type {\n",
       "        vertical-align: middle;\n",
       "    }\n",
       "\n",
       "    .dataframe tbody tr th {\n",
       "        vertical-align: top;\n",
       "    }\n",
       "\n",
       "    .dataframe thead th {\n",
       "        text-align: right;\n",
       "    }\n",
       "</style>\n",
       "<table border=\"1\" class=\"dataframe\">\n",
       "  <thead>\n",
       "    <tr style=\"text-align: right;\">\n",
       "      <th></th>\n",
       "      <th>id</th>\n",
       "      <th>message_date</th>\n",
       "      <th>user_id</th>\n",
       "    </tr>\n",
       "  </thead>\n",
       "  <tbody>\n",
       "    <tr>\n",
       "      <td>0</td>\n",
       "      <td>1000_0</td>\n",
       "      <td>2018-06-27</td>\n",
       "      <td>1000</td>\n",
       "    </tr>\n",
       "    <tr>\n",
       "      <td>1</td>\n",
       "      <td>1000_1</td>\n",
       "      <td>2018-10-08</td>\n",
       "      <td>1000</td>\n",
       "    </tr>\n",
       "    <tr>\n",
       "      <td>2</td>\n",
       "      <td>1000_2</td>\n",
       "      <td>2018-08-04</td>\n",
       "      <td>1000</td>\n",
       "    </tr>\n",
       "    <tr>\n",
       "      <td>3</td>\n",
       "      <td>1000_3</td>\n",
       "      <td>2018-06-16</td>\n",
       "      <td>1000</td>\n",
       "    </tr>\n",
       "    <tr>\n",
       "      <td>4</td>\n",
       "      <td>1000_4</td>\n",
       "      <td>2018-12-05</td>\n",
       "      <td>1000</td>\n",
       "    </tr>\n",
       "  </tbody>\n",
       "</table>\n",
       "</div>"
      ],
      "text/plain": [
       "       id message_date  user_id\n",
       "0  1000_0   2018-06-27     1000\n",
       "1  1000_1   2018-10-08     1000\n",
       "2  1000_2   2018-08-04     1000\n",
       "3  1000_3   2018-06-16     1000\n",
       "4  1000_4   2018-12-05     1000"
      ]
     },
     "execution_count": 21,
     "metadata": {},
     "output_type": "execute_result"
    }
   ],
   "source": [
    "messages.head()"
   ]
  },
  {
   "cell_type": "markdown",
   "metadata": {},
   "source": [
    "Смотрим пропуски."
   ]
  },
  {
   "cell_type": "code",
   "execution_count": 22,
   "metadata": {},
   "outputs": [
    {
     "data": {
      "text/plain": [
       "id              0\n",
       "message_date    0\n",
       "user_id         0\n",
       "dtype: int64"
      ]
     },
     "execution_count": 22,
     "metadata": {},
     "output_type": "execute_result"
    }
   ],
   "source": [
    "messages.isna().sum()"
   ]
  },
  {
   "cell_type": "markdown",
   "metadata": {},
   "source": [
    "Приводим столбец к \"дата-время\"."
   ]
  },
  {
   "cell_type": "code",
   "execution_count": 23,
   "metadata": {},
   "outputs": [],
   "source": [
    "messages['message_date'] = pd.to_datetime(messages.message_date)"
   ]
  },
  {
   "cell_type": "code",
   "execution_count": 24,
   "metadata": {},
   "outputs": [
    {
     "name": "stdout",
     "output_type": "stream",
     "text": [
      "<class 'pandas.core.frame.DataFrame'>\n",
      "RangeIndex: 123036 entries, 0 to 123035\n",
      "Data columns (total 3 columns):\n",
      "id              123036 non-null object\n",
      "message_date    123036 non-null datetime64[ns]\n",
      "user_id         123036 non-null int64\n",
      "dtypes: datetime64[ns](1), int64(1), object(1)\n",
      "memory usage: 2.8+ MB\n"
     ]
    }
   ],
   "source": [
    "messages.info()"
   ]
  },
  {
   "cell_type": "markdown",
   "metadata": {},
   "source": [
    "Таблица с информацией об **интернет-сессиях**."
   ]
  },
  {
   "cell_type": "code",
   "execution_count": 25,
   "metadata": {},
   "outputs": [
    {
     "name": "stdout",
     "output_type": "stream",
     "text": [
      "<class 'pandas.core.frame.DataFrame'>\n",
      "RangeIndex: 149396 entries, 0 to 149395\n",
      "Data columns (total 5 columns):\n",
      "Unnamed: 0      149396 non-null int64\n",
      "id              149396 non-null object\n",
      "mb_used         149396 non-null float64\n",
      "session_date    149396 non-null object\n",
      "user_id         149396 non-null int64\n",
      "dtypes: float64(1), int64(2), object(2)\n",
      "memory usage: 5.7+ MB\n"
     ]
    }
   ],
   "source": [
    "internet.info()"
   ]
  },
  {
   "cell_type": "code",
   "execution_count": 26,
   "metadata": {},
   "outputs": [
    {
     "data": {
      "text/html": [
       "<div>\n",
       "<style scoped>\n",
       "    .dataframe tbody tr th:only-of-type {\n",
       "        vertical-align: middle;\n",
       "    }\n",
       "\n",
       "    .dataframe tbody tr th {\n",
       "        vertical-align: top;\n",
       "    }\n",
       "\n",
       "    .dataframe thead th {\n",
       "        text-align: right;\n",
       "    }\n",
       "</style>\n",
       "<table border=\"1\" class=\"dataframe\">\n",
       "  <thead>\n",
       "    <tr style=\"text-align: right;\">\n",
       "      <th></th>\n",
       "      <th>Unnamed: 0</th>\n",
       "      <th>id</th>\n",
       "      <th>mb_used</th>\n",
       "      <th>session_date</th>\n",
       "      <th>user_id</th>\n",
       "    </tr>\n",
       "  </thead>\n",
       "  <tbody>\n",
       "    <tr>\n",
       "      <td>0</td>\n",
       "      <td>0</td>\n",
       "      <td>1000_0</td>\n",
       "      <td>112.95</td>\n",
       "      <td>2018-11-25</td>\n",
       "      <td>1000</td>\n",
       "    </tr>\n",
       "    <tr>\n",
       "      <td>1</td>\n",
       "      <td>1</td>\n",
       "      <td>1000_1</td>\n",
       "      <td>1052.81</td>\n",
       "      <td>2018-09-07</td>\n",
       "      <td>1000</td>\n",
       "    </tr>\n",
       "    <tr>\n",
       "      <td>2</td>\n",
       "      <td>2</td>\n",
       "      <td>1000_2</td>\n",
       "      <td>1197.26</td>\n",
       "      <td>2018-06-25</td>\n",
       "      <td>1000</td>\n",
       "    </tr>\n",
       "    <tr>\n",
       "      <td>3</td>\n",
       "      <td>3</td>\n",
       "      <td>1000_3</td>\n",
       "      <td>550.27</td>\n",
       "      <td>2018-08-22</td>\n",
       "      <td>1000</td>\n",
       "    </tr>\n",
       "    <tr>\n",
       "      <td>4</td>\n",
       "      <td>4</td>\n",
       "      <td>1000_4</td>\n",
       "      <td>302.56</td>\n",
       "      <td>2018-09-24</td>\n",
       "      <td>1000</td>\n",
       "    </tr>\n",
       "  </tbody>\n",
       "</table>\n",
       "</div>"
      ],
      "text/plain": [
       "   Unnamed: 0      id  mb_used session_date  user_id\n",
       "0           0  1000_0   112.95   2018-11-25     1000\n",
       "1           1  1000_1  1052.81   2018-09-07     1000\n",
       "2           2  1000_2  1197.26   2018-06-25     1000\n",
       "3           3  1000_3   550.27   2018-08-22     1000\n",
       "4           4  1000_4   302.56   2018-09-24     1000"
      ]
     },
     "execution_count": 26,
     "metadata": {},
     "output_type": "execute_result"
    }
   ],
   "source": [
    "internet.head()"
   ]
  },
  {
   "cell_type": "markdown",
   "metadata": {},
   "source": [
    "В таблице видим столбец 'Unnamed: 0'. На первый взгляд, его значения совпадают с индексом таблицы. Проверим это."
   ]
  },
  {
   "cell_type": "code",
   "execution_count": 27,
   "metadata": {},
   "outputs": [
    {
     "data": {
      "text/plain": [
       "0              0\n",
       "1              1\n",
       "2              2\n",
       "3              3\n",
       "4              4\n",
       "           ...  \n",
       "149391    149391\n",
       "149392    149392\n",
       "149393    149393\n",
       "149394    149394\n",
       "149395    149395\n",
       "Name: Unnamed: 0, Length: 149396, dtype: int64"
      ]
     },
     "execution_count": 27,
     "metadata": {},
     "output_type": "execute_result"
    }
   ],
   "source": [
    "internet['Unnamed: 0'].sort_values()"
   ]
  },
  {
   "cell_type": "markdown",
   "metadata": {},
   "source": [
    "Так и есть. Очевидное совпадение. Скорее всего, при выгрузке данных, значения индекса попали в отдельный столбец. Можем смело его удалить."
   ]
  },
  {
   "cell_type": "code",
   "execution_count": 28,
   "metadata": {},
   "outputs": [],
   "source": [
    "internet.drop('Unnamed: 0', axis=1, inplace=True)"
   ]
  },
  {
   "cell_type": "markdown",
   "metadata": {},
   "source": [
    "Приводим нужный столбец к \"дата-время\"."
   ]
  },
  {
   "cell_type": "code",
   "execution_count": 29,
   "metadata": {},
   "outputs": [],
   "source": [
    "internet['session_date'] = pd.to_datetime(internet.session_date)"
   ]
  },
  {
   "cell_type": "code",
   "execution_count": 30,
   "metadata": {},
   "outputs": [
    {
     "data": {
      "text/html": [
       "<div>\n",
       "<style scoped>\n",
       "    .dataframe tbody tr th:only-of-type {\n",
       "        vertical-align: middle;\n",
       "    }\n",
       "\n",
       "    .dataframe tbody tr th {\n",
       "        vertical-align: top;\n",
       "    }\n",
       "\n",
       "    .dataframe thead th {\n",
       "        text-align: right;\n",
       "    }\n",
       "</style>\n",
       "<table border=\"1\" class=\"dataframe\">\n",
       "  <thead>\n",
       "    <tr style=\"text-align: right;\">\n",
       "      <th></th>\n",
       "      <th>id</th>\n",
       "      <th>mb_used</th>\n",
       "      <th>session_date</th>\n",
       "      <th>user_id</th>\n",
       "    </tr>\n",
       "  </thead>\n",
       "  <tbody>\n",
       "    <tr>\n",
       "      <td>0</td>\n",
       "      <td>1000_0</td>\n",
       "      <td>112.95</td>\n",
       "      <td>2018-11-25</td>\n",
       "      <td>1000</td>\n",
       "    </tr>\n",
       "    <tr>\n",
       "      <td>1</td>\n",
       "      <td>1000_1</td>\n",
       "      <td>1052.81</td>\n",
       "      <td>2018-09-07</td>\n",
       "      <td>1000</td>\n",
       "    </tr>\n",
       "    <tr>\n",
       "      <td>2</td>\n",
       "      <td>1000_2</td>\n",
       "      <td>1197.26</td>\n",
       "      <td>2018-06-25</td>\n",
       "      <td>1000</td>\n",
       "    </tr>\n",
       "    <tr>\n",
       "      <td>3</td>\n",
       "      <td>1000_3</td>\n",
       "      <td>550.27</td>\n",
       "      <td>2018-08-22</td>\n",
       "      <td>1000</td>\n",
       "    </tr>\n",
       "    <tr>\n",
       "      <td>4</td>\n",
       "      <td>1000_4</td>\n",
       "      <td>302.56</td>\n",
       "      <td>2018-09-24</td>\n",
       "      <td>1000</td>\n",
       "    </tr>\n",
       "  </tbody>\n",
       "</table>\n",
       "</div>"
      ],
      "text/plain": [
       "       id  mb_used session_date  user_id\n",
       "0  1000_0   112.95   2018-11-25     1000\n",
       "1  1000_1  1052.81   2018-09-07     1000\n",
       "2  1000_2  1197.26   2018-06-25     1000\n",
       "3  1000_3   550.27   2018-08-22     1000\n",
       "4  1000_4   302.56   2018-09-24     1000"
      ]
     },
     "execution_count": 30,
     "metadata": {},
     "output_type": "execute_result"
    }
   ],
   "source": [
    "internet.head()"
   ]
  },
  {
   "cell_type": "markdown",
   "metadata": {},
   "source": [
    "Базовые статистики по таблице."
   ]
  },
  {
   "cell_type": "code",
   "execution_count": 31,
   "metadata": {},
   "outputs": [
    {
     "data": {
      "text/html": [
       "<div>\n",
       "<style scoped>\n",
       "    .dataframe tbody tr th:only-of-type {\n",
       "        vertical-align: middle;\n",
       "    }\n",
       "\n",
       "    .dataframe tbody tr th {\n",
       "        vertical-align: top;\n",
       "    }\n",
       "\n",
       "    .dataframe thead th {\n",
       "        text-align: right;\n",
       "    }\n",
       "</style>\n",
       "<table border=\"1\" class=\"dataframe\">\n",
       "  <thead>\n",
       "    <tr style=\"text-align: right;\">\n",
       "      <th></th>\n",
       "      <th>mb_used</th>\n",
       "      <th>user_id</th>\n",
       "    </tr>\n",
       "  </thead>\n",
       "  <tbody>\n",
       "    <tr>\n",
       "      <td>count</td>\n",
       "      <td>149396.000000</td>\n",
       "      <td>149396.000000</td>\n",
       "    </tr>\n",
       "    <tr>\n",
       "      <td>mean</td>\n",
       "      <td>370.192426</td>\n",
       "      <td>1252.099842</td>\n",
       "    </tr>\n",
       "    <tr>\n",
       "      <td>std</td>\n",
       "      <td>278.300951</td>\n",
       "      <td>144.050823</td>\n",
       "    </tr>\n",
       "    <tr>\n",
       "      <td>min</td>\n",
       "      <td>0.000000</td>\n",
       "      <td>1000.000000</td>\n",
       "    </tr>\n",
       "    <tr>\n",
       "      <td>25%</td>\n",
       "      <td>138.187500</td>\n",
       "      <td>1130.000000</td>\n",
       "    </tr>\n",
       "    <tr>\n",
       "      <td>50%</td>\n",
       "      <td>348.015000</td>\n",
       "      <td>1251.000000</td>\n",
       "    </tr>\n",
       "    <tr>\n",
       "      <td>75%</td>\n",
       "      <td>559.552500</td>\n",
       "      <td>1380.000000</td>\n",
       "    </tr>\n",
       "    <tr>\n",
       "      <td>max</td>\n",
       "      <td>1724.830000</td>\n",
       "      <td>1499.000000</td>\n",
       "    </tr>\n",
       "  </tbody>\n",
       "</table>\n",
       "</div>"
      ],
      "text/plain": [
       "             mb_used        user_id\n",
       "count  149396.000000  149396.000000\n",
       "mean      370.192426    1252.099842\n",
       "std       278.300951     144.050823\n",
       "min         0.000000    1000.000000\n",
       "25%       138.187500    1130.000000\n",
       "50%       348.015000    1251.000000\n",
       "75%       559.552500    1380.000000\n",
       "max      1724.830000    1499.000000"
      ]
     },
     "execution_count": 31,
     "metadata": {},
     "output_type": "execute_result"
    }
   ],
   "source": [
    "internet.describe()"
   ]
  },
  {
   "cell_type": "markdown",
   "metadata": {},
   "source": [
    "В среднем, пользователи тратят 370 мегабайт трафика за одну сессию. Кто-то \"сжигает\" более полутора гигабайт за один присест, но есть, как минимум, одна сессия с нулевым значением. "
   ]
  },
  {
   "cell_type": "markdown",
   "metadata": {},
   "source": [
    "Узнаем, сколько всего нулевых сессий."
   ]
  },
  {
   "cell_type": "code",
   "execution_count": 32,
   "metadata": {},
   "outputs": [
    {
     "data": {
      "text/plain": [
       "19598"
      ]
     },
     "execution_count": 32,
     "metadata": {},
     "output_type": "execute_result"
    }
   ],
   "source": [
    "internet.loc[internet.mb_used == 0, 'mb_used'].count()"
   ]
  },
  {
   "cell_type": "markdown",
   "metadata": {},
   "source": [
    "Порядка двадцати тысяч строк, из почти ста пятидесяти тысяч. Это могут быть как сбои подключения, так и прерванные пользователем сессии, не превышающие один мегабайт. Либо, как вариант, ошибки при выгрузке данных по пользователю. Оставим нули как есть. Они не должны сильно повлиять на наши исследования."
   ]
  },
  {
   "cell_type": "markdown",
   "metadata": {},
   "source": [
    "Построим графики."
   ]
  },
  {
   "cell_type": "code",
   "execution_count": 33,
   "metadata": {},
   "outputs": [
    {
     "data": {
      "image/png": "[encoded data removed]",
      "text/plain": [
       "<Figure size 1008x432 with 1 Axes>"
      ]
     },
     "metadata": {
      "needs_background": "light"
     },
     "output_type": "display_data"
    }
   ],
   "source": [
    "plt.figure(figsize=(14, 6))\n",
    "internet.mb_used.plot(kind='hist', bins=50)\n",
    "plt.show()"
   ]
  },
  {
   "cell_type": "code",
   "execution_count": 34,
   "metadata": {},
   "outputs": [
    {
     "data": {
      "image/png": "[encoded data removed]",
      "text/plain": [
       "<Figure size 1008x288 with 1 Axes>"
      ]
     },
     "metadata": {
      "needs_background": "light"
     },
     "output_type": "display_data"
    }
   ],
   "source": [
    "plt.figure(figsize=(14, 4))\n",
    "internet.mb_used.plot(kind='box', grid=True, vert=False)\n",
    "plt.xlim(-1, 1500)\n",
    "plt.show()"
   ]
  },
  {
   "cell_type": "markdown",
   "metadata": {},
   "source": [
    "График скошен вправо и напоминает распределение \"звонков\". \n",
    "\n",
    "Как и в \"звонках\", много околонулевых значений и достаточное количество выбросов. В основном, трафик за сессию не превышает 600 мегабайт. Выбросы начинаются посе 1200 мегабайт."
   ]
  },
  {
   "cell_type": "markdown",
   "metadata": {},
   "source": [
    "И таблица с **информацией по тарифам**."
   ]
  },
  {
   "cell_type": "code",
   "execution_count": 35,
   "metadata": {
    "scrolled": true
   },
   "outputs": [
    {
     "name": "stdout",
     "output_type": "stream",
     "text": [
      "<class 'pandas.core.frame.DataFrame'>\n",
      "RangeIndex: 2 entries, 0 to 1\n",
      "Data columns (total 8 columns):\n",
      "messages_included        2 non-null int64\n",
      "mb_per_month_included    2 non-null int64\n",
      "minutes_included         2 non-null int64\n",
      "rub_monthly_fee          2 non-null int64\n",
      "rub_per_gb               2 non-null int64\n",
      "rub_per_message          2 non-null int64\n",
      "rub_per_minute           2 non-null int64\n",
      "tariff_name              2 non-null object\n",
      "dtypes: int64(7), object(1)\n",
      "memory usage: 256.0+ bytes\n"
     ]
    }
   ],
   "source": [
    "tariffs.info()"
   ]
  },
  {
   "cell_type": "code",
   "execution_count": 36,
   "metadata": {},
   "outputs": [
    {
     "data": {
      "text/html": [
       "<div>\n",
       "<style scoped>\n",
       "    .dataframe tbody tr th:only-of-type {\n",
       "        vertical-align: middle;\n",
       "    }\n",
       "\n",
       "    .dataframe tbody tr th {\n",
       "        vertical-align: top;\n",
       "    }\n",
       "\n",
       "    .dataframe thead th {\n",
       "        text-align: right;\n",
       "    }\n",
       "</style>\n",
       "<table border=\"1\" class=\"dataframe\">\n",
       "  <thead>\n",
       "    <tr style=\"text-align: right;\">\n",
       "      <th></th>\n",
       "      <th>messages_included</th>\n",
       "      <th>mb_per_month_included</th>\n",
       "      <th>minutes_included</th>\n",
       "      <th>rub_monthly_fee</th>\n",
       "      <th>rub_per_gb</th>\n",
       "      <th>rub_per_message</th>\n",
       "      <th>rub_per_minute</th>\n",
       "      <th>tariff_name</th>\n",
       "    </tr>\n",
       "  </thead>\n",
       "  <tbody>\n",
       "    <tr>\n",
       "      <td>0</td>\n",
       "      <td>50</td>\n",
       "      <td>15360</td>\n",
       "      <td>500</td>\n",
       "      <td>550</td>\n",
       "      <td>200</td>\n",
       "      <td>3</td>\n",
       "      <td>3</td>\n",
       "      <td>smart</td>\n",
       "    </tr>\n",
       "    <tr>\n",
       "      <td>1</td>\n",
       "      <td>1000</td>\n",
       "      <td>30720</td>\n",
       "      <td>3000</td>\n",
       "      <td>1950</td>\n",
       "      <td>150</td>\n",
       "      <td>1</td>\n",
       "      <td>1</td>\n",
       "      <td>ultra</td>\n",
       "    </tr>\n",
       "  </tbody>\n",
       "</table>\n",
       "</div>"
      ],
      "text/plain": [
       "   messages_included  mb_per_month_included  minutes_included  \\\n",
       "0                 50                  15360               500   \n",
       "1               1000                  30720              3000   \n",
       "\n",
       "   rub_monthly_fee  rub_per_gb  rub_per_message  rub_per_minute tariff_name  \n",
       "0              550         200                3               3       smart  \n",
       "1             1950         150                1               1       ultra  "
      ]
     },
     "execution_count": 36,
     "metadata": {},
     "output_type": "execute_result"
    }
   ],
   "source": [
    "tariffs.head()"
   ]
  },
  {
   "cell_type": "markdown",
   "metadata": {},
   "source": [
    "Тут ничего необычного."
   ]
  },
  {
   "cell_type": "markdown",
   "metadata": {},
   "source": [
    "## Подготовка сводной таблицы"
   ]
  },
  {
   "cell_type": "markdown",
   "metadata": {},
   "source": [
    "Для удобства подсчётов и анализа данных, сведём все имеющиеся таблицы в одну."
   ]
  },
  {
   "cell_type": "markdown",
   "metadata": {},
   "source": [
    "Начнём с данных по **звонкам пользователей**. Объединим таблицы с пользователями и звонками, по столбцу 'user_id'."
   ]
  },
  {
   "cell_type": "code",
   "execution_count": 37,
   "metadata": {},
   "outputs": [
    {
     "data": {
      "text/html": [
       "<div>\n",
       "<style scoped>\n",
       "    .dataframe tbody tr th:only-of-type {\n",
       "        vertical-align: middle;\n",
       "    }\n",
       "\n",
       "    .dataframe tbody tr th {\n",
       "        vertical-align: top;\n",
       "    }\n",
       "\n",
       "    .dataframe thead th {\n",
       "        text-align: right;\n",
       "    }\n",
       "</style>\n",
       "<table border=\"1\" class=\"dataframe\">\n",
       "  <thead>\n",
       "    <tr style=\"text-align: right;\">\n",
       "      <th></th>\n",
       "      <th>user_id</th>\n",
       "      <th>age</th>\n",
       "      <th>churn_date</th>\n",
       "      <th>city</th>\n",
       "      <th>first_name</th>\n",
       "      <th>last_name</th>\n",
       "      <th>reg_date</th>\n",
       "      <th>tariff</th>\n",
       "      <th>id</th>\n",
       "      <th>call_date</th>\n",
       "      <th>duration</th>\n",
       "    </tr>\n",
       "  </thead>\n",
       "  <tbody>\n",
       "    <tr>\n",
       "      <td>0</td>\n",
       "      <td>1000</td>\n",
       "      <td>52</td>\n",
       "      <td>NaT</td>\n",
       "      <td>Краснодар</td>\n",
       "      <td>Рафаил</td>\n",
       "      <td>Верещагин</td>\n",
       "      <td>2018-05-25</td>\n",
       "      <td>ultra</td>\n",
       "      <td>1000_0</td>\n",
       "      <td>2018-07-25</td>\n",
       "      <td>0.0</td>\n",
       "    </tr>\n",
       "    <tr>\n",
       "      <td>1</td>\n",
       "      <td>1000</td>\n",
       "      <td>52</td>\n",
       "      <td>NaT</td>\n",
       "      <td>Краснодар</td>\n",
       "      <td>Рафаил</td>\n",
       "      <td>Верещагин</td>\n",
       "      <td>2018-05-25</td>\n",
       "      <td>ultra</td>\n",
       "      <td>1000_1</td>\n",
       "      <td>2018-08-17</td>\n",
       "      <td>0.0</td>\n",
       "    </tr>\n",
       "    <tr>\n",
       "      <td>2</td>\n",
       "      <td>1000</td>\n",
       "      <td>52</td>\n",
       "      <td>NaT</td>\n",
       "      <td>Краснодар</td>\n",
       "      <td>Рафаил</td>\n",
       "      <td>Верещагин</td>\n",
       "      <td>2018-05-25</td>\n",
       "      <td>ultra</td>\n",
       "      <td>1000_2</td>\n",
       "      <td>2018-06-11</td>\n",
       "      <td>3.0</td>\n",
       "    </tr>\n",
       "    <tr>\n",
       "      <td>3</td>\n",
       "      <td>1000</td>\n",
       "      <td>52</td>\n",
       "      <td>NaT</td>\n",
       "      <td>Краснодар</td>\n",
       "      <td>Рафаил</td>\n",
       "      <td>Верещагин</td>\n",
       "      <td>2018-05-25</td>\n",
       "      <td>ultra</td>\n",
       "      <td>1000_3</td>\n",
       "      <td>2018-09-21</td>\n",
       "      <td>14.0</td>\n",
       "    </tr>\n",
       "    <tr>\n",
       "      <td>4</td>\n",
       "      <td>1000</td>\n",
       "      <td>52</td>\n",
       "      <td>NaT</td>\n",
       "      <td>Краснодар</td>\n",
       "      <td>Рафаил</td>\n",
       "      <td>Верещагин</td>\n",
       "      <td>2018-05-25</td>\n",
       "      <td>ultra</td>\n",
       "      <td>1000_4</td>\n",
       "      <td>2018-12-15</td>\n",
       "      <td>6.0</td>\n",
       "    </tr>\n",
       "  </tbody>\n",
       "</table>\n",
       "</div>"
      ],
      "text/plain": [
       "   user_id  age churn_date       city first_name  last_name   reg_date tariff  \\\n",
       "0     1000   52        NaT  Краснодар     Рафаил  Верещагин 2018-05-25  ultra   \n",
       "1     1000   52        NaT  Краснодар     Рафаил  Верещагин 2018-05-25  ultra   \n",
       "2     1000   52        NaT  Краснодар     Рафаил  Верещагин 2018-05-25  ultra   \n",
       "3     1000   52        NaT  Краснодар     Рафаил  Верещагин 2018-05-25  ultra   \n",
       "4     1000   52        NaT  Краснодар     Рафаил  Верещагин 2018-05-25  ultra   \n",
       "\n",
       "       id  call_date  duration  \n",
       "0  1000_0 2018-07-25       0.0  \n",
       "1  1000_1 2018-08-17       0.0  \n",
       "2  1000_2 2018-06-11       3.0  \n",
       "3  1000_3 2018-09-21      14.0  \n",
       "4  1000_4 2018-12-15       6.0  "
      ]
     },
     "execution_count": 37,
     "metadata": {},
     "output_type": "execute_result"
    }
   ],
   "source": [
    "data_calls = pd.merge(users, calls, on='user_id', how='left')\n",
    "data_calls.head()"
   ]
  },
  {
   "cell_type": "markdown",
   "metadata": {},
   "source": [
    "Добавим в сводную таблицу столбец с названием месяца, основываясь на дате звонка."
   ]
  },
  {
   "cell_type": "code",
   "execution_count": 38,
   "metadata": {},
   "outputs": [],
   "source": [
    "data_calls['month'] = data_calls.call_date.dt.month_name()"
   ]
  },
  {
   "cell_type": "code",
   "execution_count": 39,
   "metadata": {},
   "outputs": [
    {
     "data": {
      "text/html": [
       "<div>\n",
       "<style scoped>\n",
       "    .dataframe tbody tr th:only-of-type {\n",
       "        vertical-align: middle;\n",
       "    }\n",
       "\n",
       "    .dataframe tbody tr th {\n",
       "        vertical-align: top;\n",
       "    }\n",
       "\n",
       "    .dataframe thead th {\n",
       "        text-align: right;\n",
       "    }\n",
       "</style>\n",
       "<table border=\"1\" class=\"dataframe\">\n",
       "  <thead>\n",
       "    <tr style=\"text-align: right;\">\n",
       "      <th></th>\n",
       "      <th>user_id</th>\n",
       "      <th>age</th>\n",
       "      <th>churn_date</th>\n",
       "      <th>city</th>\n",
       "      <th>first_name</th>\n",
       "      <th>last_name</th>\n",
       "      <th>reg_date</th>\n",
       "      <th>tariff</th>\n",
       "      <th>id</th>\n",
       "      <th>call_date</th>\n",
       "      <th>duration</th>\n",
       "      <th>month</th>\n",
       "    </tr>\n",
       "  </thead>\n",
       "  <tbody>\n",
       "    <tr>\n",
       "      <td>0</td>\n",
       "      <td>1000</td>\n",
       "      <td>52</td>\n",
       "      <td>NaT</td>\n",
       "      <td>Краснодар</td>\n",
       "      <td>Рафаил</td>\n",
       "      <td>Верещагин</td>\n",
       "      <td>2018-05-25</td>\n",
       "      <td>ultra</td>\n",
       "      <td>1000_0</td>\n",
       "      <td>2018-07-25</td>\n",
       "      <td>0.0</td>\n",
       "      <td>July</td>\n",
       "    </tr>\n",
       "    <tr>\n",
       "      <td>1</td>\n",
       "      <td>1000</td>\n",
       "      <td>52</td>\n",
       "      <td>NaT</td>\n",
       "      <td>Краснодар</td>\n",
       "      <td>Рафаил</td>\n",
       "      <td>Верещагин</td>\n",
       "      <td>2018-05-25</td>\n",
       "      <td>ultra</td>\n",
       "      <td>1000_1</td>\n",
       "      <td>2018-08-17</td>\n",
       "      <td>0.0</td>\n",
       "      <td>August</td>\n",
       "    </tr>\n",
       "    <tr>\n",
       "      <td>2</td>\n",
       "      <td>1000</td>\n",
       "      <td>52</td>\n",
       "      <td>NaT</td>\n",
       "      <td>Краснодар</td>\n",
       "      <td>Рафаил</td>\n",
       "      <td>Верещагин</td>\n",
       "      <td>2018-05-25</td>\n",
       "      <td>ultra</td>\n",
       "      <td>1000_2</td>\n",
       "      <td>2018-06-11</td>\n",
       "      <td>3.0</td>\n",
       "      <td>June</td>\n",
       "    </tr>\n",
       "    <tr>\n",
       "      <td>3</td>\n",
       "      <td>1000</td>\n",
       "      <td>52</td>\n",
       "      <td>NaT</td>\n",
       "      <td>Краснодар</td>\n",
       "      <td>Рафаил</td>\n",
       "      <td>Верещагин</td>\n",
       "      <td>2018-05-25</td>\n",
       "      <td>ultra</td>\n",
       "      <td>1000_3</td>\n",
       "      <td>2018-09-21</td>\n",
       "      <td>14.0</td>\n",
       "      <td>September</td>\n",
       "    </tr>\n",
       "    <tr>\n",
       "      <td>4</td>\n",
       "      <td>1000</td>\n",
       "      <td>52</td>\n",
       "      <td>NaT</td>\n",
       "      <td>Краснодар</td>\n",
       "      <td>Рафаил</td>\n",
       "      <td>Верещагин</td>\n",
       "      <td>2018-05-25</td>\n",
       "      <td>ultra</td>\n",
       "      <td>1000_4</td>\n",
       "      <td>2018-12-15</td>\n",
       "      <td>6.0</td>\n",
       "      <td>December</td>\n",
       "    </tr>\n",
       "  </tbody>\n",
       "</table>\n",
       "</div>"
      ],
      "text/plain": [
       "   user_id  age churn_date       city first_name  last_name   reg_date tariff  \\\n",
       "0     1000   52        NaT  Краснодар     Рафаил  Верещагин 2018-05-25  ultra   \n",
       "1     1000   52        NaT  Краснодар     Рафаил  Верещагин 2018-05-25  ultra   \n",
       "2     1000   52        NaT  Краснодар     Рафаил  Верещагин 2018-05-25  ultra   \n",
       "3     1000   52        NaT  Краснодар     Рафаил  Верещагин 2018-05-25  ultra   \n",
       "4     1000   52        NaT  Краснодар     Рафаил  Верещагин 2018-05-25  ultra   \n",
       "\n",
       "       id  call_date  duration      month  \n",
       "0  1000_0 2018-07-25       0.0       July  \n",
       "1  1000_1 2018-08-17       0.0     August  \n",
       "2  1000_2 2018-06-11       3.0       June  \n",
       "3  1000_3 2018-09-21      14.0  September  \n",
       "4  1000_4 2018-12-15       6.0   December  "
      ]
     },
     "execution_count": 39,
     "metadata": {},
     "output_type": "execute_result"
    }
   ],
   "source": [
    "data_calls.head()"
   ]
  },
  {
   "cell_type": "markdown",
   "metadata": {},
   "source": [
    "Сгруппируем таблицу и посчитаем, **сколько звонков** было сделано пользователями **по месяцам**."
   ]
  },
  {
   "cell_type": "code",
   "execution_count": 40,
   "metadata": {},
   "outputs": [
    {
     "data": {
      "text/html": [
       "<div>\n",
       "<style scoped>\n",
       "    .dataframe tbody tr th:only-of-type {\n",
       "        vertical-align: middle;\n",
       "    }\n",
       "\n",
       "    .dataframe tbody tr th {\n",
       "        vertical-align: top;\n",
       "    }\n",
       "\n",
       "    .dataframe thead th {\n",
       "        text-align: right;\n",
       "    }\n",
       "</style>\n",
       "<table border=\"1\" class=\"dataframe\">\n",
       "  <thead>\n",
       "    <tr style=\"text-align: right;\">\n",
       "      <th></th>\n",
       "      <th>user_id</th>\n",
       "      <th>city</th>\n",
       "      <th>month</th>\n",
       "      <th>tariff</th>\n",
       "      <th>calls</th>\n",
       "    </tr>\n",
       "  </thead>\n",
       "  <tbody>\n",
       "    <tr>\n",
       "      <td>0</td>\n",
       "      <td>1000</td>\n",
       "      <td>Краснодар</td>\n",
       "      <td>August</td>\n",
       "      <td>ultra</td>\n",
       "      <td>52</td>\n",
       "    </tr>\n",
       "    <tr>\n",
       "      <td>1</td>\n",
       "      <td>1000</td>\n",
       "      <td>Краснодар</td>\n",
       "      <td>December</td>\n",
       "      <td>ultra</td>\n",
       "      <td>46</td>\n",
       "    </tr>\n",
       "    <tr>\n",
       "      <td>2</td>\n",
       "      <td>1000</td>\n",
       "      <td>Краснодар</td>\n",
       "      <td>July</td>\n",
       "      <td>ultra</td>\n",
       "      <td>47</td>\n",
       "    </tr>\n",
       "    <tr>\n",
       "      <td>3</td>\n",
       "      <td>1000</td>\n",
       "      <td>Краснодар</td>\n",
       "      <td>June</td>\n",
       "      <td>ultra</td>\n",
       "      <td>43</td>\n",
       "    </tr>\n",
       "    <tr>\n",
       "      <td>4</td>\n",
       "      <td>1000</td>\n",
       "      <td>Краснодар</td>\n",
       "      <td>May</td>\n",
       "      <td>ultra</td>\n",
       "      <td>22</td>\n",
       "    </tr>\n",
       "  </tbody>\n",
       "</table>\n",
       "</div>"
      ],
      "text/plain": [
       "   user_id       city     month tariff  calls\n",
       "0     1000  Краснодар    August  ultra     52\n",
       "1     1000  Краснодар  December  ultra     46\n",
       "2     1000  Краснодар      July  ultra     47\n",
       "3     1000  Краснодар      June  ultra     43\n",
       "4     1000  Краснодар       May  ultra     22"
      ]
     },
     "execution_count": 40,
     "metadata": {},
     "output_type": "execute_result"
    }
   ],
   "source": [
    "calls_by_month = data_calls.groupby(['user_id', 'city', 'month', 'tariff'], as_index=False).agg({'call_date':'count'})\n",
    "calls_by_month.columns = ['user_id', 'city', 'month', 'tariff', 'calls']\n",
    "calls_by_month.head()"
   ]
  },
  {
   "cell_type": "markdown",
   "metadata": {},
   "source": [
    "Сгруппируем таблицу и посчитаем, **сколько минут разговоров**, было потрачено пользователями **по месяцам**."
   ]
  },
  {
   "cell_type": "code",
   "execution_count": 41,
   "metadata": {},
   "outputs": [
    {
     "data": {
      "text/html": [
       "<div>\n",
       "<style scoped>\n",
       "    .dataframe tbody tr th:only-of-type {\n",
       "        vertical-align: middle;\n",
       "    }\n",
       "\n",
       "    .dataframe tbody tr th {\n",
       "        vertical-align: top;\n",
       "    }\n",
       "\n",
       "    .dataframe thead th {\n",
       "        text-align: right;\n",
       "    }\n",
       "</style>\n",
       "<table border=\"1\" class=\"dataframe\">\n",
       "  <thead>\n",
       "    <tr style=\"text-align: right;\">\n",
       "      <th></th>\n",
       "      <th>user_id</th>\n",
       "      <th>city</th>\n",
       "      <th>month</th>\n",
       "      <th>tariff</th>\n",
       "      <th>minutes</th>\n",
       "    </tr>\n",
       "  </thead>\n",
       "  <tbody>\n",
       "    <tr>\n",
       "      <td>0</td>\n",
       "      <td>1000</td>\n",
       "      <td>Краснодар</td>\n",
       "      <td>August</td>\n",
       "      <td>ultra</td>\n",
       "      <td>408.0</td>\n",
       "    </tr>\n",
       "    <tr>\n",
       "      <td>1</td>\n",
       "      <td>1000</td>\n",
       "      <td>Краснодар</td>\n",
       "      <td>December</td>\n",
       "      <td>ultra</td>\n",
       "      <td>333.0</td>\n",
       "    </tr>\n",
       "    <tr>\n",
       "      <td>2</td>\n",
       "      <td>1000</td>\n",
       "      <td>Краснодар</td>\n",
       "      <td>July</td>\n",
       "      <td>ultra</td>\n",
       "      <td>340.0</td>\n",
       "    </tr>\n",
       "    <tr>\n",
       "      <td>3</td>\n",
       "      <td>1000</td>\n",
       "      <td>Краснодар</td>\n",
       "      <td>June</td>\n",
       "      <td>ultra</td>\n",
       "      <td>172.0</td>\n",
       "    </tr>\n",
       "    <tr>\n",
       "      <td>4</td>\n",
       "      <td>1000</td>\n",
       "      <td>Краснодар</td>\n",
       "      <td>May</td>\n",
       "      <td>ultra</td>\n",
       "      <td>159.0</td>\n",
       "    </tr>\n",
       "  </tbody>\n",
       "</table>\n",
       "</div>"
      ],
      "text/plain": [
       "   user_id       city     month tariff  minutes\n",
       "0     1000  Краснодар    August  ultra    408.0\n",
       "1     1000  Краснодар  December  ultra    333.0\n",
       "2     1000  Краснодар      July  ultra    340.0\n",
       "3     1000  Краснодар      June  ultra    172.0\n",
       "4     1000  Краснодар       May  ultra    159.0"
      ]
     },
     "execution_count": 41,
     "metadata": {},
     "output_type": "execute_result"
    }
   ],
   "source": [
    "minutes_by_month = data_calls.groupby(['user_id', 'city', 'month', 'tariff'], as_index=False).agg({'duration':'sum'})\n",
    "minutes_by_month.columns = ['user_id', 'city', 'month', 'tariff', 'minutes']\n",
    "minutes_by_month.minutes = round(minutes_by_month.minutes)\n",
    "minutes_by_month.head()"
   ]
  },
  {
   "cell_type": "markdown",
   "metadata": {},
   "source": [
    "По образцу со звонками, сделаем таблицу с **сообщениями пользователей**."
   ]
  },
  {
   "cell_type": "code",
   "execution_count": 42,
   "metadata": {},
   "outputs": [
    {
     "data": {
      "text/html": [
       "<div>\n",
       "<style scoped>\n",
       "    .dataframe tbody tr th:only-of-type {\n",
       "        vertical-align: middle;\n",
       "    }\n",
       "\n",
       "    .dataframe tbody tr th {\n",
       "        vertical-align: top;\n",
       "    }\n",
       "\n",
       "    .dataframe thead th {\n",
       "        text-align: right;\n",
       "    }\n",
       "</style>\n",
       "<table border=\"1\" class=\"dataframe\">\n",
       "  <thead>\n",
       "    <tr style=\"text-align: right;\">\n",
       "      <th></th>\n",
       "      <th>user_id</th>\n",
       "      <th>age</th>\n",
       "      <th>churn_date</th>\n",
       "      <th>city</th>\n",
       "      <th>first_name</th>\n",
       "      <th>last_name</th>\n",
       "      <th>reg_date</th>\n",
       "      <th>tariff</th>\n",
       "      <th>id</th>\n",
       "      <th>message_date</th>\n",
       "      <th>month</th>\n",
       "    </tr>\n",
       "  </thead>\n",
       "  <tbody>\n",
       "    <tr>\n",
       "      <td>0</td>\n",
       "      <td>1000</td>\n",
       "      <td>52</td>\n",
       "      <td>NaT</td>\n",
       "      <td>Краснодар</td>\n",
       "      <td>Рафаил</td>\n",
       "      <td>Верещагин</td>\n",
       "      <td>2018-05-25</td>\n",
       "      <td>ultra</td>\n",
       "      <td>1000_0</td>\n",
       "      <td>2018-06-27</td>\n",
       "      <td>June</td>\n",
       "    </tr>\n",
       "    <tr>\n",
       "      <td>1</td>\n",
       "      <td>1000</td>\n",
       "      <td>52</td>\n",
       "      <td>NaT</td>\n",
       "      <td>Краснодар</td>\n",
       "      <td>Рафаил</td>\n",
       "      <td>Верещагин</td>\n",
       "      <td>2018-05-25</td>\n",
       "      <td>ultra</td>\n",
       "      <td>1000_1</td>\n",
       "      <td>2018-10-08</td>\n",
       "      <td>October</td>\n",
       "    </tr>\n",
       "    <tr>\n",
       "      <td>2</td>\n",
       "      <td>1000</td>\n",
       "      <td>52</td>\n",
       "      <td>NaT</td>\n",
       "      <td>Краснодар</td>\n",
       "      <td>Рафаил</td>\n",
       "      <td>Верещагин</td>\n",
       "      <td>2018-05-25</td>\n",
       "      <td>ultra</td>\n",
       "      <td>1000_2</td>\n",
       "      <td>2018-08-04</td>\n",
       "      <td>August</td>\n",
       "    </tr>\n",
       "    <tr>\n",
       "      <td>3</td>\n",
       "      <td>1000</td>\n",
       "      <td>52</td>\n",
       "      <td>NaT</td>\n",
       "      <td>Краснодар</td>\n",
       "      <td>Рафаил</td>\n",
       "      <td>Верещагин</td>\n",
       "      <td>2018-05-25</td>\n",
       "      <td>ultra</td>\n",
       "      <td>1000_3</td>\n",
       "      <td>2018-06-16</td>\n",
       "      <td>June</td>\n",
       "    </tr>\n",
       "    <tr>\n",
       "      <td>4</td>\n",
       "      <td>1000</td>\n",
       "      <td>52</td>\n",
       "      <td>NaT</td>\n",
       "      <td>Краснодар</td>\n",
       "      <td>Рафаил</td>\n",
       "      <td>Верещагин</td>\n",
       "      <td>2018-05-25</td>\n",
       "      <td>ultra</td>\n",
       "      <td>1000_4</td>\n",
       "      <td>2018-12-05</td>\n",
       "      <td>December</td>\n",
       "    </tr>\n",
       "  </tbody>\n",
       "</table>\n",
       "</div>"
      ],
      "text/plain": [
       "   user_id  age churn_date       city first_name  last_name   reg_date tariff  \\\n",
       "0     1000   52        NaT  Краснодар     Рафаил  Верещагин 2018-05-25  ultra   \n",
       "1     1000   52        NaT  Краснодар     Рафаил  Верещагин 2018-05-25  ultra   \n",
       "2     1000   52        NaT  Краснодар     Рафаил  Верещагин 2018-05-25  ultra   \n",
       "3     1000   52        NaT  Краснодар     Рафаил  Верещагин 2018-05-25  ultra   \n",
       "4     1000   52        NaT  Краснодар     Рафаил  Верещагин 2018-05-25  ultra   \n",
       "\n",
       "       id message_date     month  \n",
       "0  1000_0   2018-06-27      June  \n",
       "1  1000_1   2018-10-08   October  \n",
       "2  1000_2   2018-08-04    August  \n",
       "3  1000_3   2018-06-16      June  \n",
       "4  1000_4   2018-12-05  December  "
      ]
     },
     "execution_count": 42,
     "metadata": {},
     "output_type": "execute_result"
    }
   ],
   "source": [
    "data_messages = pd.merge(users, messages, on='user_id', how='left')\n",
    "data_messages['month'] = data_messages.message_date.dt.month_name()\n",
    "data_messages.head()"
   ]
  },
  {
   "cell_type": "markdown",
   "metadata": {},
   "source": [
    "Сгруппируем по **количеству сообщений в месяц**. "
   ]
  },
  {
   "cell_type": "code",
   "execution_count": 43,
   "metadata": {},
   "outputs": [
    {
     "data": {
      "text/html": [
       "<div>\n",
       "<style scoped>\n",
       "    .dataframe tbody tr th:only-of-type {\n",
       "        vertical-align: middle;\n",
       "    }\n",
       "\n",
       "    .dataframe tbody tr th {\n",
       "        vertical-align: top;\n",
       "    }\n",
       "\n",
       "    .dataframe thead th {\n",
       "        text-align: right;\n",
       "    }\n",
       "</style>\n",
       "<table border=\"1\" class=\"dataframe\">\n",
       "  <thead>\n",
       "    <tr style=\"text-align: right;\">\n",
       "      <th></th>\n",
       "      <th>user_id</th>\n",
       "      <th>city</th>\n",
       "      <th>month</th>\n",
       "      <th>tariff</th>\n",
       "      <th>messages</th>\n",
       "    </tr>\n",
       "  </thead>\n",
       "  <tbody>\n",
       "    <tr>\n",
       "      <td>0</td>\n",
       "      <td>1000</td>\n",
       "      <td>Краснодар</td>\n",
       "      <td>August</td>\n",
       "      <td>ultra</td>\n",
       "      <td>81</td>\n",
       "    </tr>\n",
       "    <tr>\n",
       "      <td>1</td>\n",
       "      <td>1000</td>\n",
       "      <td>Краснодар</td>\n",
       "      <td>December</td>\n",
       "      <td>ultra</td>\n",
       "      <td>70</td>\n",
       "    </tr>\n",
       "    <tr>\n",
       "      <td>2</td>\n",
       "      <td>1000</td>\n",
       "      <td>Краснодар</td>\n",
       "      <td>July</td>\n",
       "      <td>ultra</td>\n",
       "      <td>75</td>\n",
       "    </tr>\n",
       "    <tr>\n",
       "      <td>3</td>\n",
       "      <td>1000</td>\n",
       "      <td>Краснодар</td>\n",
       "      <td>June</td>\n",
       "      <td>ultra</td>\n",
       "      <td>60</td>\n",
       "    </tr>\n",
       "    <tr>\n",
       "      <td>4</td>\n",
       "      <td>1000</td>\n",
       "      <td>Краснодар</td>\n",
       "      <td>May</td>\n",
       "      <td>ultra</td>\n",
       "      <td>22</td>\n",
       "    </tr>\n",
       "  </tbody>\n",
       "</table>\n",
       "</div>"
      ],
      "text/plain": [
       "   user_id       city     month tariff  messages\n",
       "0     1000  Краснодар    August  ultra        81\n",
       "1     1000  Краснодар  December  ultra        70\n",
       "2     1000  Краснодар      July  ultra        75\n",
       "3     1000  Краснодар      June  ultra        60\n",
       "4     1000  Краснодар       May  ultra        22"
      ]
     },
     "execution_count": 43,
     "metadata": {},
     "output_type": "execute_result"
    }
   ],
   "source": [
    "messages_by_month = data_messages.groupby(['user_id', 'city', 'month', 'tariff'], as_index=False).agg({'message_date':'count'})\n",
    "messages_by_month.columns = ['user_id', 'city', 'month', 'tariff', 'messages']\n",
    "messages_by_month.head()"
   ]
  },
  {
   "cell_type": "markdown",
   "metadata": {},
   "source": [
    "Сводная таблица по **интернет-трафику**."
   ]
  },
  {
   "cell_type": "code",
   "execution_count": 44,
   "metadata": {},
   "outputs": [
    {
     "data": {
      "text/html": [
       "<div>\n",
       "<style scoped>\n",
       "    .dataframe tbody tr th:only-of-type {\n",
       "        vertical-align: middle;\n",
       "    }\n",
       "\n",
       "    .dataframe tbody tr th {\n",
       "        vertical-align: top;\n",
       "    }\n",
       "\n",
       "    .dataframe thead th {\n",
       "        text-align: right;\n",
       "    }\n",
       "</style>\n",
       "<table border=\"1\" class=\"dataframe\">\n",
       "  <thead>\n",
       "    <tr style=\"text-align: right;\">\n",
       "      <th></th>\n",
       "      <th>user_id</th>\n",
       "      <th>age</th>\n",
       "      <th>churn_date</th>\n",
       "      <th>city</th>\n",
       "      <th>first_name</th>\n",
       "      <th>last_name</th>\n",
       "      <th>reg_date</th>\n",
       "      <th>tariff</th>\n",
       "      <th>id</th>\n",
       "      <th>mb_used</th>\n",
       "      <th>session_date</th>\n",
       "      <th>month</th>\n",
       "    </tr>\n",
       "  </thead>\n",
       "  <tbody>\n",
       "    <tr>\n",
       "      <td>0</td>\n",
       "      <td>1000</td>\n",
       "      <td>52</td>\n",
       "      <td>NaT</td>\n",
       "      <td>Краснодар</td>\n",
       "      <td>Рафаил</td>\n",
       "      <td>Верещагин</td>\n",
       "      <td>2018-05-25</td>\n",
       "      <td>ultra</td>\n",
       "      <td>1000_0</td>\n",
       "      <td>112.95</td>\n",
       "      <td>2018-11-25</td>\n",
       "      <td>November</td>\n",
       "    </tr>\n",
       "    <tr>\n",
       "      <td>1</td>\n",
       "      <td>1000</td>\n",
       "      <td>52</td>\n",
       "      <td>NaT</td>\n",
       "      <td>Краснодар</td>\n",
       "      <td>Рафаил</td>\n",
       "      <td>Верещагин</td>\n",
       "      <td>2018-05-25</td>\n",
       "      <td>ultra</td>\n",
       "      <td>1000_1</td>\n",
       "      <td>1052.81</td>\n",
       "      <td>2018-09-07</td>\n",
       "      <td>September</td>\n",
       "    </tr>\n",
       "    <tr>\n",
       "      <td>2</td>\n",
       "      <td>1000</td>\n",
       "      <td>52</td>\n",
       "      <td>NaT</td>\n",
       "      <td>Краснодар</td>\n",
       "      <td>Рафаил</td>\n",
       "      <td>Верещагин</td>\n",
       "      <td>2018-05-25</td>\n",
       "      <td>ultra</td>\n",
       "      <td>1000_2</td>\n",
       "      <td>1197.26</td>\n",
       "      <td>2018-06-25</td>\n",
       "      <td>June</td>\n",
       "    </tr>\n",
       "    <tr>\n",
       "      <td>3</td>\n",
       "      <td>1000</td>\n",
       "      <td>52</td>\n",
       "      <td>NaT</td>\n",
       "      <td>Краснодар</td>\n",
       "      <td>Рафаил</td>\n",
       "      <td>Верещагин</td>\n",
       "      <td>2018-05-25</td>\n",
       "      <td>ultra</td>\n",
       "      <td>1000_3</td>\n",
       "      <td>550.27</td>\n",
       "      <td>2018-08-22</td>\n",
       "      <td>August</td>\n",
       "    </tr>\n",
       "    <tr>\n",
       "      <td>4</td>\n",
       "      <td>1000</td>\n",
       "      <td>52</td>\n",
       "      <td>NaT</td>\n",
       "      <td>Краснодар</td>\n",
       "      <td>Рафаил</td>\n",
       "      <td>Верещагин</td>\n",
       "      <td>2018-05-25</td>\n",
       "      <td>ultra</td>\n",
       "      <td>1000_4</td>\n",
       "      <td>302.56</td>\n",
       "      <td>2018-09-24</td>\n",
       "      <td>September</td>\n",
       "    </tr>\n",
       "  </tbody>\n",
       "</table>\n",
       "</div>"
      ],
      "text/plain": [
       "   user_id  age churn_date       city first_name  last_name   reg_date tariff  \\\n",
       "0     1000   52        NaT  Краснодар     Рафаил  Верещагин 2018-05-25  ultra   \n",
       "1     1000   52        NaT  Краснодар     Рафаил  Верещагин 2018-05-25  ultra   \n",
       "2     1000   52        NaT  Краснодар     Рафаил  Верещагин 2018-05-25  ultra   \n",
       "3     1000   52        NaT  Краснодар     Рафаил  Верещагин 2018-05-25  ultra   \n",
       "4     1000   52        NaT  Краснодар     Рафаил  Верещагин 2018-05-25  ultra   \n",
       "\n",
       "       id  mb_used session_date      month  \n",
       "0  1000_0   112.95   2018-11-25   November  \n",
       "1  1000_1  1052.81   2018-09-07  September  \n",
       "2  1000_2  1197.26   2018-06-25       June  \n",
       "3  1000_3   550.27   2018-08-22     August  \n",
       "4  1000_4   302.56   2018-09-24  September  "
      ]
     },
     "execution_count": 44,
     "metadata": {},
     "output_type": "execute_result"
    }
   ],
   "source": [
    "data_traffic = pd.merge(users, internet, on='user_id', how='left')\n",
    "data_traffic['month'] = data_traffic.session_date.dt.month_name()\n",
    "data_traffic.head()"
   ]
  },
  {
   "cell_type": "markdown",
   "metadata": {},
   "source": [
    "Как мы знаем, по тарифам «Мегалайн», для веб-трафика отдельные сессии не считаются. Вместо этого общая сумма за месяц округляется в бо́льшую сторону. Если абонент использует 1025 мегабайт в этом месяце, с него возьмут плату за 2 гигабайта."
   ]
  },
  {
   "cell_type": "markdown",
   "metadata": {},
   "source": [
    "Сделаем сводную таблицу **трафика по месяцам** и переведём мегабайты в гигабайты."
   ]
  },
  {
   "cell_type": "code",
   "execution_count": 45,
   "metadata": {},
   "outputs": [
    {
     "data": {
      "text/html": [
       "<div>\n",
       "<style scoped>\n",
       "    .dataframe tbody tr th:only-of-type {\n",
       "        vertical-align: middle;\n",
       "    }\n",
       "\n",
       "    .dataframe tbody tr th {\n",
       "        vertical-align: top;\n",
       "    }\n",
       "\n",
       "    .dataframe thead th {\n",
       "        text-align: right;\n",
       "    }\n",
       "</style>\n",
       "<table border=\"1\" class=\"dataframe\">\n",
       "  <thead>\n",
       "    <tr style=\"text-align: right;\">\n",
       "      <th></th>\n",
       "      <th>user_id</th>\n",
       "      <th>city</th>\n",
       "      <th>month</th>\n",
       "      <th>tariff</th>\n",
       "      <th>gigabytes</th>\n",
       "    </tr>\n",
       "  </thead>\n",
       "  <tbody>\n",
       "    <tr>\n",
       "      <td>0</td>\n",
       "      <td>1000</td>\n",
       "      <td>Краснодар</td>\n",
       "      <td>August</td>\n",
       "      <td>ultra</td>\n",
       "      <td>13.726</td>\n",
       "    </tr>\n",
       "    <tr>\n",
       "      <td>1</td>\n",
       "      <td>1000</td>\n",
       "      <td>Краснодар</td>\n",
       "      <td>December</td>\n",
       "      <td>ultra</td>\n",
       "      <td>9.588</td>\n",
       "    </tr>\n",
       "    <tr>\n",
       "      <td>2</td>\n",
       "      <td>1000</td>\n",
       "      <td>Краснодар</td>\n",
       "      <td>July</td>\n",
       "      <td>ultra</td>\n",
       "      <td>13.675</td>\n",
       "    </tr>\n",
       "    <tr>\n",
       "      <td>3</td>\n",
       "      <td>1000</td>\n",
       "      <td>Краснодар</td>\n",
       "      <td>June</td>\n",
       "      <td>ultra</td>\n",
       "      <td>22.689</td>\n",
       "    </tr>\n",
       "    <tr>\n",
       "      <td>4</td>\n",
       "      <td>1000</td>\n",
       "      <td>Краснодар</td>\n",
       "      <td>May</td>\n",
       "      <td>ultra</td>\n",
       "      <td>2.201</td>\n",
       "    </tr>\n",
       "  </tbody>\n",
       "</table>\n",
       "</div>"
      ],
      "text/plain": [
       "   user_id       city     month tariff  gigabytes\n",
       "0     1000  Краснодар    August  ultra     13.726\n",
       "1     1000  Краснодар  December  ultra      9.588\n",
       "2     1000  Краснодар      July  ultra     13.675\n",
       "3     1000  Краснодар      June  ultra     22.689\n",
       "4     1000  Краснодар       May  ultra      2.201"
      ]
     },
     "execution_count": 45,
     "metadata": {},
     "output_type": "execute_result"
    }
   ],
   "source": [
    "monthly_traffic = data_traffic.groupby(['user_id', 'city', 'month', 'tariff'], as_index=False).agg({'mb_used':'sum'})\n",
    "monthly_traffic.columns = ['user_id', 'city', 'month', 'tariff', 'gigabytes']\n",
    "monthly_traffic.gigabytes = round(monthly_traffic.gigabytes / 1024, 3)\n",
    "monthly_traffic.head()"
   ]
  },
  {
   "cell_type": "markdown",
   "metadata": {},
   "source": [
    "Необходимо округление в бОльшую сторону. Воспользуемся знакомой нам функцией ceil."
   ]
  },
  {
   "cell_type": "code",
   "execution_count": 46,
   "metadata": {},
   "outputs": [
    {
     "data": {
      "text/html": [
       "<div>\n",
       "<style scoped>\n",
       "    .dataframe tbody tr th:only-of-type {\n",
       "        vertical-align: middle;\n",
       "    }\n",
       "\n",
       "    .dataframe tbody tr th {\n",
       "        vertical-align: top;\n",
       "    }\n",
       "\n",
       "    .dataframe thead th {\n",
       "        text-align: right;\n",
       "    }\n",
       "</style>\n",
       "<table border=\"1\" class=\"dataframe\">\n",
       "  <thead>\n",
       "    <tr style=\"text-align: right;\">\n",
       "      <th></th>\n",
       "      <th>user_id</th>\n",
       "      <th>city</th>\n",
       "      <th>month</th>\n",
       "      <th>tariff</th>\n",
       "      <th>gigabytes</th>\n",
       "    </tr>\n",
       "  </thead>\n",
       "  <tbody>\n",
       "    <tr>\n",
       "      <td>0</td>\n",
       "      <td>1000</td>\n",
       "      <td>Краснодар</td>\n",
       "      <td>August</td>\n",
       "      <td>ultra</td>\n",
       "      <td>14</td>\n",
       "    </tr>\n",
       "    <tr>\n",
       "      <td>1</td>\n",
       "      <td>1000</td>\n",
       "      <td>Краснодар</td>\n",
       "      <td>December</td>\n",
       "      <td>ultra</td>\n",
       "      <td>10</td>\n",
       "    </tr>\n",
       "    <tr>\n",
       "      <td>2</td>\n",
       "      <td>1000</td>\n",
       "      <td>Краснодар</td>\n",
       "      <td>July</td>\n",
       "      <td>ultra</td>\n",
       "      <td>14</td>\n",
       "    </tr>\n",
       "    <tr>\n",
       "      <td>3</td>\n",
       "      <td>1000</td>\n",
       "      <td>Краснодар</td>\n",
       "      <td>June</td>\n",
       "      <td>ultra</td>\n",
       "      <td>23</td>\n",
       "    </tr>\n",
       "    <tr>\n",
       "      <td>4</td>\n",
       "      <td>1000</td>\n",
       "      <td>Краснодар</td>\n",
       "      <td>May</td>\n",
       "      <td>ultra</td>\n",
       "      <td>3</td>\n",
       "    </tr>\n",
       "  </tbody>\n",
       "</table>\n",
       "</div>"
      ],
      "text/plain": [
       "   user_id       city     month tariff  gigabytes\n",
       "0     1000  Краснодар    August  ultra         14\n",
       "1     1000  Краснодар  December  ultra         10\n",
       "2     1000  Краснодар      July  ultra         14\n",
       "3     1000  Краснодар      June  ultra         23\n",
       "4     1000  Краснодар       May  ultra          3"
      ]
     },
     "execution_count": 46,
     "metadata": {},
     "output_type": "execute_result"
    }
   ],
   "source": [
    "monthly_traffic['gigabytes'] = monthly_traffic['gigabytes'].apply(ceil)\n",
    "monthly_traffic.head()"
   ]
  },
  {
   "cell_type": "markdown",
   "metadata": {},
   "source": [
    "На очереди - объединение данных в одну **общую таблицу**."
   ]
  },
  {
   "cell_type": "code",
   "execution_count": 47,
   "metadata": {
    "scrolled": false
   },
   "outputs": [
    {
     "data": {
      "text/html": [
       "<div>\n",
       "<style scoped>\n",
       "    .dataframe tbody tr th:only-of-type {\n",
       "        vertical-align: middle;\n",
       "    }\n",
       "\n",
       "    .dataframe tbody tr th {\n",
       "        vertical-align: top;\n",
       "    }\n",
       "\n",
       "    .dataframe thead th {\n",
       "        text-align: right;\n",
       "    }\n",
       "</style>\n",
       "<table border=\"1\" class=\"dataframe\">\n",
       "  <thead>\n",
       "    <tr style=\"text-align: right;\">\n",
       "      <th></th>\n",
       "      <th>user_id</th>\n",
       "      <th>city</th>\n",
       "      <th>month</th>\n",
       "      <th>tariff</th>\n",
       "      <th>calls</th>\n",
       "      <th>minutes</th>\n",
       "      <th>messages</th>\n",
       "      <th>gigabytes</th>\n",
       "    </tr>\n",
       "  </thead>\n",
       "  <tbody>\n",
       "    <tr>\n",
       "      <td>0</td>\n",
       "      <td>1000</td>\n",
       "      <td>Краснодар</td>\n",
       "      <td>August</td>\n",
       "      <td>ultra</td>\n",
       "      <td>52.0</td>\n",
       "      <td>408.0</td>\n",
       "      <td>81.0</td>\n",
       "      <td>14.0</td>\n",
       "    </tr>\n",
       "    <tr>\n",
       "      <td>1</td>\n",
       "      <td>1000</td>\n",
       "      <td>Краснодар</td>\n",
       "      <td>December</td>\n",
       "      <td>ultra</td>\n",
       "      <td>46.0</td>\n",
       "      <td>333.0</td>\n",
       "      <td>70.0</td>\n",
       "      <td>10.0</td>\n",
       "    </tr>\n",
       "    <tr>\n",
       "      <td>2</td>\n",
       "      <td>1000</td>\n",
       "      <td>Краснодар</td>\n",
       "      <td>July</td>\n",
       "      <td>ultra</td>\n",
       "      <td>47.0</td>\n",
       "      <td>340.0</td>\n",
       "      <td>75.0</td>\n",
       "      <td>14.0</td>\n",
       "    </tr>\n",
       "    <tr>\n",
       "      <td>3</td>\n",
       "      <td>1000</td>\n",
       "      <td>Краснодар</td>\n",
       "      <td>June</td>\n",
       "      <td>ultra</td>\n",
       "      <td>43.0</td>\n",
       "      <td>172.0</td>\n",
       "      <td>60.0</td>\n",
       "      <td>23.0</td>\n",
       "    </tr>\n",
       "    <tr>\n",
       "      <td>4</td>\n",
       "      <td>1000</td>\n",
       "      <td>Краснодар</td>\n",
       "      <td>May</td>\n",
       "      <td>ultra</td>\n",
       "      <td>22.0</td>\n",
       "      <td>159.0</td>\n",
       "      <td>22.0</td>\n",
       "      <td>3.0</td>\n",
       "    </tr>\n",
       "    <tr>\n",
       "      <td>...</td>\n",
       "      <td>...</td>\n",
       "      <td>...</td>\n",
       "      <td>...</td>\n",
       "      <td>...</td>\n",
       "      <td>...</td>\n",
       "      <td>...</td>\n",
       "      <td>...</td>\n",
       "      <td>...</td>\n",
       "    </tr>\n",
       "    <tr>\n",
       "      <td>3209</td>\n",
       "      <td>1489</td>\n",
       "      <td>Санкт-Петербург</td>\n",
       "      <td>December</td>\n",
       "      <td>smart</td>\n",
       "      <td>NaN</td>\n",
       "      <td>NaN</td>\n",
       "      <td>35.0</td>\n",
       "      <td>17.0</td>\n",
       "    </tr>\n",
       "    <tr>\n",
       "      <td>3210</td>\n",
       "      <td>1489</td>\n",
       "      <td>Санкт-Петербург</td>\n",
       "      <td>November</td>\n",
       "      <td>smart</td>\n",
       "      <td>NaN</td>\n",
       "      <td>NaN</td>\n",
       "      <td>20.0</td>\n",
       "      <td>18.0</td>\n",
       "    </tr>\n",
       "    <tr>\n",
       "      <td>3211</td>\n",
       "      <td>1489</td>\n",
       "      <td>Санкт-Петербург</td>\n",
       "      <td>October</td>\n",
       "      <td>smart</td>\n",
       "      <td>NaN</td>\n",
       "      <td>NaN</td>\n",
       "      <td>21.0</td>\n",
       "      <td>20.0</td>\n",
       "    </tr>\n",
       "    <tr>\n",
       "      <td>3212</td>\n",
       "      <td>1489</td>\n",
       "      <td>Санкт-Петербург</td>\n",
       "      <td>September</td>\n",
       "      <td>smart</td>\n",
       "      <td>NaN</td>\n",
       "      <td>NaN</td>\n",
       "      <td>32.0</td>\n",
       "      <td>17.0</td>\n",
       "    </tr>\n",
       "    <tr>\n",
       "      <td>3213</td>\n",
       "      <td>1476</td>\n",
       "      <td>Москва</td>\n",
       "      <td>April</td>\n",
       "      <td>ultra</td>\n",
       "      <td>NaN</td>\n",
       "      <td>NaN</td>\n",
       "      <td>NaN</td>\n",
       "      <td>1.0</td>\n",
       "    </tr>\n",
       "  </tbody>\n",
       "</table>\n",
       "<p>3214 rows × 8 columns</p>\n",
       "</div>"
      ],
      "text/plain": [
       "      user_id             city      month tariff  calls  minutes  messages  \\\n",
       "0        1000        Краснодар     August  ultra   52.0    408.0      81.0   \n",
       "1        1000        Краснодар   December  ultra   46.0    333.0      70.0   \n",
       "2        1000        Краснодар       July  ultra   47.0    340.0      75.0   \n",
       "3        1000        Краснодар       June  ultra   43.0    172.0      60.0   \n",
       "4        1000        Краснодар        May  ultra   22.0    159.0      22.0   \n",
       "...       ...              ...        ...    ...    ...      ...       ...   \n",
       "3209     1489  Санкт-Петербург   December  smart    NaN      NaN      35.0   \n",
       "3210     1489  Санкт-Петербург   November  smart    NaN      NaN      20.0   \n",
       "3211     1489  Санкт-Петербург    October  smart    NaN      NaN      21.0   \n",
       "3212     1489  Санкт-Петербург  September  smart    NaN      NaN      32.0   \n",
       "3213     1476           Москва      April  ultra    NaN      NaN       NaN   \n",
       "\n",
       "      gigabytes  \n",
       "0          14.0  \n",
       "1          10.0  \n",
       "2          14.0  \n",
       "3          23.0  \n",
       "4           3.0  \n",
       "...         ...  \n",
       "3209       17.0  \n",
       "3210       18.0  \n",
       "3211       20.0  \n",
       "3212       17.0  \n",
       "3213        1.0  \n",
       "\n",
       "[3214 rows x 8 columns]"
      ]
     },
     "execution_count": 47,
     "metadata": {},
     "output_type": "execute_result"
    }
   ],
   "source": [
    "data_1 = pd.merge(calls_by_month, minutes_by_month, how='outer')\n",
    "data_2 = pd.merge(messages_by_month, monthly_traffic, how='outer')\n",
    "users_data = pd.merge(data_1, data_2, how='outer')\n",
    "users_data"
   ]
  },
  {
   "cell_type": "markdown",
   "metadata": {},
   "source": [
    "Добавляем к нашей сводной таблице данные по тарифам. Для удобства, переименуем столбец с названиями."
   ]
  },
  {
   "cell_type": "code",
   "execution_count": 48,
   "metadata": {},
   "outputs": [
    {
     "data": {
      "text/html": [
       "<div>\n",
       "<style scoped>\n",
       "    .dataframe tbody tr th:only-of-type {\n",
       "        vertical-align: middle;\n",
       "    }\n",
       "\n",
       "    .dataframe tbody tr th {\n",
       "        vertical-align: top;\n",
       "    }\n",
       "\n",
       "    .dataframe thead th {\n",
       "        text-align: right;\n",
       "    }\n",
       "</style>\n",
       "<table border=\"1\" class=\"dataframe\">\n",
       "  <thead>\n",
       "    <tr style=\"text-align: right;\">\n",
       "      <th></th>\n",
       "      <th>messages_included</th>\n",
       "      <th>mb_per_month_included</th>\n",
       "      <th>minutes_included</th>\n",
       "      <th>rub_monthly_fee</th>\n",
       "      <th>rub_per_gb</th>\n",
       "      <th>rub_per_message</th>\n",
       "      <th>rub_per_minute</th>\n",
       "      <th>tariff</th>\n",
       "    </tr>\n",
       "  </thead>\n",
       "  <tbody>\n",
       "    <tr>\n",
       "      <td>0</td>\n",
       "      <td>50</td>\n",
       "      <td>15360</td>\n",
       "      <td>500</td>\n",
       "      <td>550</td>\n",
       "      <td>200</td>\n",
       "      <td>3</td>\n",
       "      <td>3</td>\n",
       "      <td>smart</td>\n",
       "    </tr>\n",
       "    <tr>\n",
       "      <td>1</td>\n",
       "      <td>1000</td>\n",
       "      <td>30720</td>\n",
       "      <td>3000</td>\n",
       "      <td>1950</td>\n",
       "      <td>150</td>\n",
       "      <td>1</td>\n",
       "      <td>1</td>\n",
       "      <td>ultra</td>\n",
       "    </tr>\n",
       "  </tbody>\n",
       "</table>\n",
       "</div>"
      ],
      "text/plain": [
       "   messages_included  mb_per_month_included  minutes_included  \\\n",
       "0                 50                  15360               500   \n",
       "1               1000                  30720              3000   \n",
       "\n",
       "   rub_monthly_fee  rub_per_gb  rub_per_message  rub_per_minute tariff  \n",
       "0              550         200                3               3  smart  \n",
       "1             1950         150                1               1  ultra  "
      ]
     },
     "execution_count": 48,
     "metadata": {},
     "output_type": "execute_result"
    }
   ],
   "source": [
    "tariffs.rename(columns={'tariff_name': 'tariff'}, inplace=True)\n",
    "tariffs"
   ]
  },
  {
   "cell_type": "code",
   "execution_count": 49,
   "metadata": {},
   "outputs": [
    {
     "data": {
      "text/html": [
       "<div>\n",
       "<style scoped>\n",
       "    .dataframe tbody tr th:only-of-type {\n",
       "        vertical-align: middle;\n",
       "    }\n",
       "\n",
       "    .dataframe tbody tr th {\n",
       "        vertical-align: top;\n",
       "    }\n",
       "\n",
       "    .dataframe thead th {\n",
       "        text-align: right;\n",
       "    }\n",
       "</style>\n",
       "<table border=\"1\" class=\"dataframe\">\n",
       "  <thead>\n",
       "    <tr style=\"text-align: right;\">\n",
       "      <th></th>\n",
       "      <th>user_id</th>\n",
       "      <th>city</th>\n",
       "      <th>month</th>\n",
       "      <th>tariff</th>\n",
       "      <th>calls</th>\n",
       "      <th>minutes</th>\n",
       "      <th>messages</th>\n",
       "      <th>gigabytes</th>\n",
       "      <th>messages_included</th>\n",
       "      <th>mb_per_month_included</th>\n",
       "      <th>minutes_included</th>\n",
       "      <th>rub_monthly_fee</th>\n",
       "      <th>rub_per_gb</th>\n",
       "      <th>rub_per_message</th>\n",
       "      <th>rub_per_minute</th>\n",
       "    </tr>\n",
       "  </thead>\n",
       "  <tbody>\n",
       "    <tr>\n",
       "      <td>0</td>\n",
       "      <td>1000</td>\n",
       "      <td>Краснодар</td>\n",
       "      <td>August</td>\n",
       "      <td>ultra</td>\n",
       "      <td>52.0</td>\n",
       "      <td>408.0</td>\n",
       "      <td>81.0</td>\n",
       "      <td>14.0</td>\n",
       "      <td>1000</td>\n",
       "      <td>30720</td>\n",
       "      <td>3000</td>\n",
       "      <td>1950</td>\n",
       "      <td>150</td>\n",
       "      <td>1</td>\n",
       "      <td>1</td>\n",
       "    </tr>\n",
       "    <tr>\n",
       "      <td>1</td>\n",
       "      <td>1000</td>\n",
       "      <td>Краснодар</td>\n",
       "      <td>December</td>\n",
       "      <td>ultra</td>\n",
       "      <td>46.0</td>\n",
       "      <td>333.0</td>\n",
       "      <td>70.0</td>\n",
       "      <td>10.0</td>\n",
       "      <td>1000</td>\n",
       "      <td>30720</td>\n",
       "      <td>3000</td>\n",
       "      <td>1950</td>\n",
       "      <td>150</td>\n",
       "      <td>1</td>\n",
       "      <td>1</td>\n",
       "    </tr>\n",
       "    <tr>\n",
       "      <td>2</td>\n",
       "      <td>1000</td>\n",
       "      <td>Краснодар</td>\n",
       "      <td>July</td>\n",
       "      <td>ultra</td>\n",
       "      <td>47.0</td>\n",
       "      <td>340.0</td>\n",
       "      <td>75.0</td>\n",
       "      <td>14.0</td>\n",
       "      <td>1000</td>\n",
       "      <td>30720</td>\n",
       "      <td>3000</td>\n",
       "      <td>1950</td>\n",
       "      <td>150</td>\n",
       "      <td>1</td>\n",
       "      <td>1</td>\n",
       "    </tr>\n",
       "    <tr>\n",
       "      <td>3</td>\n",
       "      <td>1000</td>\n",
       "      <td>Краснодар</td>\n",
       "      <td>June</td>\n",
       "      <td>ultra</td>\n",
       "      <td>43.0</td>\n",
       "      <td>172.0</td>\n",
       "      <td>60.0</td>\n",
       "      <td>23.0</td>\n",
       "      <td>1000</td>\n",
       "      <td>30720</td>\n",
       "      <td>3000</td>\n",
       "      <td>1950</td>\n",
       "      <td>150</td>\n",
       "      <td>1</td>\n",
       "      <td>1</td>\n",
       "    </tr>\n",
       "    <tr>\n",
       "      <td>4</td>\n",
       "      <td>1000</td>\n",
       "      <td>Краснодар</td>\n",
       "      <td>May</td>\n",
       "      <td>ultra</td>\n",
       "      <td>22.0</td>\n",
       "      <td>159.0</td>\n",
       "      <td>22.0</td>\n",
       "      <td>3.0</td>\n",
       "      <td>1000</td>\n",
       "      <td>30720</td>\n",
       "      <td>3000</td>\n",
       "      <td>1950</td>\n",
       "      <td>150</td>\n",
       "      <td>1</td>\n",
       "      <td>1</td>\n",
       "    </tr>\n",
       "    <tr>\n",
       "      <td>...</td>\n",
       "      <td>...</td>\n",
       "      <td>...</td>\n",
       "      <td>...</td>\n",
       "      <td>...</td>\n",
       "      <td>...</td>\n",
       "      <td>...</td>\n",
       "      <td>...</td>\n",
       "      <td>...</td>\n",
       "      <td>...</td>\n",
       "      <td>...</td>\n",
       "      <td>...</td>\n",
       "      <td>...</td>\n",
       "      <td>...</td>\n",
       "      <td>...</td>\n",
       "      <td>...</td>\n",
       "    </tr>\n",
       "    <tr>\n",
       "      <td>3209</td>\n",
       "      <td>1489</td>\n",
       "      <td>Санкт-Петербург</td>\n",
       "      <td>August</td>\n",
       "      <td>smart</td>\n",
       "      <td>NaN</td>\n",
       "      <td>NaN</td>\n",
       "      <td>17.0</td>\n",
       "      <td>11.0</td>\n",
       "      <td>50</td>\n",
       "      <td>15360</td>\n",
       "      <td>500</td>\n",
       "      <td>550</td>\n",
       "      <td>200</td>\n",
       "      <td>3</td>\n",
       "      <td>3</td>\n",
       "    </tr>\n",
       "    <tr>\n",
       "      <td>3210</td>\n",
       "      <td>1489</td>\n",
       "      <td>Санкт-Петербург</td>\n",
       "      <td>December</td>\n",
       "      <td>smart</td>\n",
       "      <td>NaN</td>\n",
       "      <td>NaN</td>\n",
       "      <td>35.0</td>\n",
       "      <td>17.0</td>\n",
       "      <td>50</td>\n",
       "      <td>15360</td>\n",
       "      <td>500</td>\n",
       "      <td>550</td>\n",
       "      <td>200</td>\n",
       "      <td>3</td>\n",
       "      <td>3</td>\n",
       "    </tr>\n",
       "    <tr>\n",
       "      <td>3211</td>\n",
       "      <td>1489</td>\n",
       "      <td>Санкт-Петербург</td>\n",
       "      <td>November</td>\n",
       "      <td>smart</td>\n",
       "      <td>NaN</td>\n",
       "      <td>NaN</td>\n",
       "      <td>20.0</td>\n",
       "      <td>18.0</td>\n",
       "      <td>50</td>\n",
       "      <td>15360</td>\n",
       "      <td>500</td>\n",
       "      <td>550</td>\n",
       "      <td>200</td>\n",
       "      <td>3</td>\n",
       "      <td>3</td>\n",
       "    </tr>\n",
       "    <tr>\n",
       "      <td>3212</td>\n",
       "      <td>1489</td>\n",
       "      <td>Санкт-Петербург</td>\n",
       "      <td>October</td>\n",
       "      <td>smart</td>\n",
       "      <td>NaN</td>\n",
       "      <td>NaN</td>\n",
       "      <td>21.0</td>\n",
       "      <td>20.0</td>\n",
       "      <td>50</td>\n",
       "      <td>15360</td>\n",
       "      <td>500</td>\n",
       "      <td>550</td>\n",
       "      <td>200</td>\n",
       "      <td>3</td>\n",
       "      <td>3</td>\n",
       "    </tr>\n",
       "    <tr>\n",
       "      <td>3213</td>\n",
       "      <td>1489</td>\n",
       "      <td>Санкт-Петербург</td>\n",
       "      <td>September</td>\n",
       "      <td>smart</td>\n",
       "      <td>NaN</td>\n",
       "      <td>NaN</td>\n",
       "      <td>32.0</td>\n",
       "      <td>17.0</td>\n",
       "      <td>50</td>\n",
       "      <td>15360</td>\n",
       "      <td>500</td>\n",
       "      <td>550</td>\n",
       "      <td>200</td>\n",
       "      <td>3</td>\n",
       "      <td>3</td>\n",
       "    </tr>\n",
       "  </tbody>\n",
       "</table>\n",
       "<p>3214 rows × 15 columns</p>\n",
       "</div>"
      ],
      "text/plain": [
       "      user_id             city      month tariff  calls  minutes  messages  \\\n",
       "0        1000        Краснодар     August  ultra   52.0    408.0      81.0   \n",
       "1        1000        Краснодар   December  ultra   46.0    333.0      70.0   \n",
       "2        1000        Краснодар       July  ultra   47.0    340.0      75.0   \n",
       "3        1000        Краснодар       June  ultra   43.0    172.0      60.0   \n",
       "4        1000        Краснодар        May  ultra   22.0    159.0      22.0   \n",
       "...       ...              ...        ...    ...    ...      ...       ...   \n",
       "3209     1489  Санкт-Петербург     August  smart    NaN      NaN      17.0   \n",
       "3210     1489  Санкт-Петербург   December  smart    NaN      NaN      35.0   \n",
       "3211     1489  Санкт-Петербург   November  smart    NaN      NaN      20.0   \n",
       "3212     1489  Санкт-Петербург    October  smart    NaN      NaN      21.0   \n",
       "3213     1489  Санкт-Петербург  September  smart    NaN      NaN      32.0   \n",
       "\n",
       "      gigabytes  messages_included  mb_per_month_included  minutes_included  \\\n",
       "0          14.0               1000                  30720              3000   \n",
       "1          10.0               1000                  30720              3000   \n",
       "2          14.0               1000                  30720              3000   \n",
       "3          23.0               1000                  30720              3000   \n",
       "4           3.0               1000                  30720              3000   \n",
       "...         ...                ...                    ...               ...   \n",
       "3209       11.0                 50                  15360               500   \n",
       "3210       17.0                 50                  15360               500   \n",
       "3211       18.0                 50                  15360               500   \n",
       "3212       20.0                 50                  15360               500   \n",
       "3213       17.0                 50                  15360               500   \n",
       "\n",
       "      rub_monthly_fee  rub_per_gb  rub_per_message  rub_per_minute  \n",
       "0                1950         150                1               1  \n",
       "1                1950         150                1               1  \n",
       "2                1950         150                1               1  \n",
       "3                1950         150                1               1  \n",
       "4                1950         150                1               1  \n",
       "...               ...         ...              ...             ...  \n",
       "3209              550         200                3               3  \n",
       "3210              550         200                3               3  \n",
       "3211              550         200                3               3  \n",
       "3212              550         200                3               3  \n",
       "3213              550         200                3               3  \n",
       "\n",
       "[3214 rows x 15 columns]"
      ]
     },
     "execution_count": 49,
     "metadata": {},
     "output_type": "execute_result"
    }
   ],
   "source": [
    "users_data = pd.merge(users_data, tariffs)\n",
    "users_data"
   ]
  },
  {
   "cell_type": "markdown",
   "metadata": {},
   "source": [
    "Проверим таблицу на пропуски."
   ]
  },
  {
   "cell_type": "code",
   "execution_count": 50,
   "metadata": {},
   "outputs": [
    {
     "data": {
      "text/plain": [
       "user_id                    0\n",
       "city                       0\n",
       "month                      0\n",
       "tariff                     0\n",
       "calls                     40\n",
       "minutes                   40\n",
       "messages                 497\n",
       "gigabytes                 11\n",
       "messages_included          0\n",
       "mb_per_month_included      0\n",
       "minutes_included           0\n",
       "rub_monthly_fee            0\n",
       "rub_per_gb                 0\n",
       "rub_per_message            0\n",
       "rub_per_minute             0\n",
       "dtype: int64"
      ]
     },
     "execution_count": 50,
     "metadata": {},
     "output_type": "execute_result"
    }
   ],
   "source": [
    "users_data.isna().sum()"
   ]
  },
  {
   "cell_type": "markdown",
   "metadata": {},
   "source": [
    "Очевидно, что кто-то из пользователей мог **не звонить, не писать сообщения, или не пользоваться интернетом**. Заполним пропуски нулём."
   ]
  },
  {
   "cell_type": "code",
   "execution_count": 51,
   "metadata": {},
   "outputs": [],
   "source": [
    "users_data.fillna(0, inplace=True)"
   ]
  },
  {
   "cell_type": "markdown",
   "metadata": {},
   "source": [
    "Посчитаем **помесячную выручку с каждого пользователя**. Вычтем бесплатный лимит из суммарного количества звонков, сообщений и интернет-трафика. Остаток умножим на значение из тарифного плана. Прибавим абонентскую плату, соответствующую тарифу."
   ]
  },
  {
   "cell_type": "code",
   "execution_count": 52,
   "metadata": {},
   "outputs": [
    {
     "data": {
      "text/html": [
       "<div>\n",
       "<style scoped>\n",
       "    .dataframe tbody tr th:only-of-type {\n",
       "        vertical-align: middle;\n",
       "    }\n",
       "\n",
       "    .dataframe tbody tr th {\n",
       "        vertical-align: top;\n",
       "    }\n",
       "\n",
       "    .dataframe thead th {\n",
       "        text-align: right;\n",
       "    }\n",
       "</style>\n",
       "<table border=\"1\" class=\"dataframe\">\n",
       "  <thead>\n",
       "    <tr style=\"text-align: right;\">\n",
       "      <th></th>\n",
       "      <th>user_id</th>\n",
       "      <th>city</th>\n",
       "      <th>month</th>\n",
       "      <th>tariff</th>\n",
       "      <th>calls</th>\n",
       "      <th>minutes</th>\n",
       "      <th>messages</th>\n",
       "      <th>gigabytes</th>\n",
       "      <th>messages_included</th>\n",
       "      <th>mb_per_month_included</th>\n",
       "      <th>minutes_included</th>\n",
       "      <th>rub_monthly_fee</th>\n",
       "      <th>rub_per_gb</th>\n",
       "      <th>rub_per_message</th>\n",
       "      <th>rub_per_minute</th>\n",
       "      <th>calls_income</th>\n",
       "      <th>msg_income</th>\n",
       "      <th>int_income</th>\n",
       "      <th>total_income</th>\n",
       "    </tr>\n",
       "  </thead>\n",
       "  <tbody>\n",
       "    <tr>\n",
       "      <td>0</td>\n",
       "      <td>1000</td>\n",
       "      <td>Краснодар</td>\n",
       "      <td>August</td>\n",
       "      <td>ultra</td>\n",
       "      <td>52.0</td>\n",
       "      <td>408.0</td>\n",
       "      <td>81.0</td>\n",
       "      <td>14.0</td>\n",
       "      <td>1000</td>\n",
       "      <td>30720</td>\n",
       "      <td>3000</td>\n",
       "      <td>1950</td>\n",
       "      <td>150</td>\n",
       "      <td>1</td>\n",
       "      <td>1</td>\n",
       "      <td>0.0</td>\n",
       "      <td>0.0</td>\n",
       "      <td>0.0</td>\n",
       "      <td>1950.0</td>\n",
       "    </tr>\n",
       "    <tr>\n",
       "      <td>1</td>\n",
       "      <td>1000</td>\n",
       "      <td>Краснодар</td>\n",
       "      <td>December</td>\n",
       "      <td>ultra</td>\n",
       "      <td>46.0</td>\n",
       "      <td>333.0</td>\n",
       "      <td>70.0</td>\n",
       "      <td>10.0</td>\n",
       "      <td>1000</td>\n",
       "      <td>30720</td>\n",
       "      <td>3000</td>\n",
       "      <td>1950</td>\n",
       "      <td>150</td>\n",
       "      <td>1</td>\n",
       "      <td>1</td>\n",
       "      <td>0.0</td>\n",
       "      <td>0.0</td>\n",
       "      <td>0.0</td>\n",
       "      <td>1950.0</td>\n",
       "    </tr>\n",
       "    <tr>\n",
       "      <td>2</td>\n",
       "      <td>1000</td>\n",
       "      <td>Краснодар</td>\n",
       "      <td>July</td>\n",
       "      <td>ultra</td>\n",
       "      <td>47.0</td>\n",
       "      <td>340.0</td>\n",
       "      <td>75.0</td>\n",
       "      <td>14.0</td>\n",
       "      <td>1000</td>\n",
       "      <td>30720</td>\n",
       "      <td>3000</td>\n",
       "      <td>1950</td>\n",
       "      <td>150</td>\n",
       "      <td>1</td>\n",
       "      <td>1</td>\n",
       "      <td>0.0</td>\n",
       "      <td>0.0</td>\n",
       "      <td>0.0</td>\n",
       "      <td>1950.0</td>\n",
       "    </tr>\n",
       "    <tr>\n",
       "      <td>3</td>\n",
       "      <td>1000</td>\n",
       "      <td>Краснодар</td>\n",
       "      <td>June</td>\n",
       "      <td>ultra</td>\n",
       "      <td>43.0</td>\n",
       "      <td>172.0</td>\n",
       "      <td>60.0</td>\n",
       "      <td>23.0</td>\n",
       "      <td>1000</td>\n",
       "      <td>30720</td>\n",
       "      <td>3000</td>\n",
       "      <td>1950</td>\n",
       "      <td>150</td>\n",
       "      <td>1</td>\n",
       "      <td>1</td>\n",
       "      <td>0.0</td>\n",
       "      <td>0.0</td>\n",
       "      <td>0.0</td>\n",
       "      <td>1950.0</td>\n",
       "    </tr>\n",
       "    <tr>\n",
       "      <td>4</td>\n",
       "      <td>1000</td>\n",
       "      <td>Краснодар</td>\n",
       "      <td>May</td>\n",
       "      <td>ultra</td>\n",
       "      <td>22.0</td>\n",
       "      <td>159.0</td>\n",
       "      <td>22.0</td>\n",
       "      <td>3.0</td>\n",
       "      <td>1000</td>\n",
       "      <td>30720</td>\n",
       "      <td>3000</td>\n",
       "      <td>1950</td>\n",
       "      <td>150</td>\n",
       "      <td>1</td>\n",
       "      <td>1</td>\n",
       "      <td>0.0</td>\n",
       "      <td>0.0</td>\n",
       "      <td>0.0</td>\n",
       "      <td>1950.0</td>\n",
       "    </tr>\n",
       "    <tr>\n",
       "      <td>...</td>\n",
       "      <td>...</td>\n",
       "      <td>...</td>\n",
       "      <td>...</td>\n",
       "      <td>...</td>\n",
       "      <td>...</td>\n",
       "      <td>...</td>\n",
       "      <td>...</td>\n",
       "      <td>...</td>\n",
       "      <td>...</td>\n",
       "      <td>...</td>\n",
       "      <td>...</td>\n",
       "      <td>...</td>\n",
       "      <td>...</td>\n",
       "      <td>...</td>\n",
       "      <td>...</td>\n",
       "      <td>...</td>\n",
       "      <td>...</td>\n",
       "      <td>...</td>\n",
       "      <td>...</td>\n",
       "    </tr>\n",
       "    <tr>\n",
       "      <td>3209</td>\n",
       "      <td>1489</td>\n",
       "      <td>Санкт-Петербург</td>\n",
       "      <td>August</td>\n",
       "      <td>smart</td>\n",
       "      <td>0.0</td>\n",
       "      <td>0.0</td>\n",
       "      <td>17.0</td>\n",
       "      <td>11.0</td>\n",
       "      <td>50</td>\n",
       "      <td>15360</td>\n",
       "      <td>500</td>\n",
       "      <td>550</td>\n",
       "      <td>200</td>\n",
       "      <td>3</td>\n",
       "      <td>3</td>\n",
       "      <td>0.0</td>\n",
       "      <td>0.0</td>\n",
       "      <td>0.0</td>\n",
       "      <td>550.0</td>\n",
       "    </tr>\n",
       "    <tr>\n",
       "      <td>3210</td>\n",
       "      <td>1489</td>\n",
       "      <td>Санкт-Петербург</td>\n",
       "      <td>December</td>\n",
       "      <td>smart</td>\n",
       "      <td>0.0</td>\n",
       "      <td>0.0</td>\n",
       "      <td>35.0</td>\n",
       "      <td>17.0</td>\n",
       "      <td>50</td>\n",
       "      <td>15360</td>\n",
       "      <td>500</td>\n",
       "      <td>550</td>\n",
       "      <td>200</td>\n",
       "      <td>3</td>\n",
       "      <td>3</td>\n",
       "      <td>0.0</td>\n",
       "      <td>0.0</td>\n",
       "      <td>400.0</td>\n",
       "      <td>950.0</td>\n",
       "    </tr>\n",
       "    <tr>\n",
       "      <td>3211</td>\n",
       "      <td>1489</td>\n",
       "      <td>Санкт-Петербург</td>\n",
       "      <td>November</td>\n",
       "      <td>smart</td>\n",
       "      <td>0.0</td>\n",
       "      <td>0.0</td>\n",
       "      <td>20.0</td>\n",
       "      <td>18.0</td>\n",
       "      <td>50</td>\n",
       "      <td>15360</td>\n",
       "      <td>500</td>\n",
       "      <td>550</td>\n",
       "      <td>200</td>\n",
       "      <td>3</td>\n",
       "      <td>3</td>\n",
       "      <td>0.0</td>\n",
       "      <td>0.0</td>\n",
       "      <td>600.0</td>\n",
       "      <td>1150.0</td>\n",
       "    </tr>\n",
       "    <tr>\n",
       "      <td>3212</td>\n",
       "      <td>1489</td>\n",
       "      <td>Санкт-Петербург</td>\n",
       "      <td>October</td>\n",
       "      <td>smart</td>\n",
       "      <td>0.0</td>\n",
       "      <td>0.0</td>\n",
       "      <td>21.0</td>\n",
       "      <td>20.0</td>\n",
       "      <td>50</td>\n",
       "      <td>15360</td>\n",
       "      <td>500</td>\n",
       "      <td>550</td>\n",
       "      <td>200</td>\n",
       "      <td>3</td>\n",
       "      <td>3</td>\n",
       "      <td>0.0</td>\n",
       "      <td>0.0</td>\n",
       "      <td>1000.0</td>\n",
       "      <td>1550.0</td>\n",
       "    </tr>\n",
       "    <tr>\n",
       "      <td>3213</td>\n",
       "      <td>1489</td>\n",
       "      <td>Санкт-Петербург</td>\n",
       "      <td>September</td>\n",
       "      <td>smart</td>\n",
       "      <td>0.0</td>\n",
       "      <td>0.0</td>\n",
       "      <td>32.0</td>\n",
       "      <td>17.0</td>\n",
       "      <td>50</td>\n",
       "      <td>15360</td>\n",
       "      <td>500</td>\n",
       "      <td>550</td>\n",
       "      <td>200</td>\n",
       "      <td>3</td>\n",
       "      <td>3</td>\n",
       "      <td>0.0</td>\n",
       "      <td>0.0</td>\n",
       "      <td>400.0</td>\n",
       "      <td>950.0</td>\n",
       "    </tr>\n",
       "  </tbody>\n",
       "</table>\n",
       "<p>3214 rows × 19 columns</p>\n",
       "</div>"
      ],
      "text/plain": [
       "      user_id             city      month tariff  calls  minutes  messages  \\\n",
       "0        1000        Краснодар     August  ultra   52.0    408.0      81.0   \n",
       "1        1000        Краснодар   December  ultra   46.0    333.0      70.0   \n",
       "2        1000        Краснодар       July  ultra   47.0    340.0      75.0   \n",
       "3        1000        Краснодар       June  ultra   43.0    172.0      60.0   \n",
       "4        1000        Краснодар        May  ultra   22.0    159.0      22.0   \n",
       "...       ...              ...        ...    ...    ...      ...       ...   \n",
       "3209     1489  Санкт-Петербург     August  smart    0.0      0.0      17.0   \n",
       "3210     1489  Санкт-Петербург   December  smart    0.0      0.0      35.0   \n",
       "3211     1489  Санкт-Петербург   November  smart    0.0      0.0      20.0   \n",
       "3212     1489  Санкт-Петербург    October  smart    0.0      0.0      21.0   \n",
       "3213     1489  Санкт-Петербург  September  smart    0.0      0.0      32.0   \n",
       "\n",
       "      gigabytes  messages_included  mb_per_month_included  minutes_included  \\\n",
       "0          14.0               1000                  30720              3000   \n",
       "1          10.0               1000                  30720              3000   \n",
       "2          14.0               1000                  30720              3000   \n",
       "3          23.0               1000                  30720              3000   \n",
       "4           3.0               1000                  30720              3000   \n",
       "...         ...                ...                    ...               ...   \n",
       "3209       11.0                 50                  15360               500   \n",
       "3210       17.0                 50                  15360               500   \n",
       "3211       18.0                 50                  15360               500   \n",
       "3212       20.0                 50                  15360               500   \n",
       "3213       17.0                 50                  15360               500   \n",
       "\n",
       "      rub_monthly_fee  rub_per_gb  rub_per_message  rub_per_minute  \\\n",
       "0                1950         150                1               1   \n",
       "1                1950         150                1               1   \n",
       "2                1950         150                1               1   \n",
       "3                1950         150                1               1   \n",
       "4                1950         150                1               1   \n",
       "...               ...         ...              ...             ...   \n",
       "3209              550         200                3               3   \n",
       "3210              550         200                3               3   \n",
       "3211              550         200                3               3   \n",
       "3212              550         200                3               3   \n",
       "3213              550         200                3               3   \n",
       "\n",
       "      calls_income  msg_income  int_income  total_income  \n",
       "0              0.0         0.0         0.0        1950.0  \n",
       "1              0.0         0.0         0.0        1950.0  \n",
       "2              0.0         0.0         0.0        1950.0  \n",
       "3              0.0         0.0         0.0        1950.0  \n",
       "4              0.0         0.0         0.0        1950.0  \n",
       "...            ...         ...         ...           ...  \n",
       "3209           0.0         0.0         0.0         550.0  \n",
       "3210           0.0         0.0       400.0         950.0  \n",
       "3211           0.0         0.0       600.0        1150.0  \n",
       "3212           0.0         0.0      1000.0        1550.0  \n",
       "3213           0.0         0.0       400.0         950.0  \n",
       "\n",
       "[3214 rows x 19 columns]"
      ]
     },
     "execution_count": 52,
     "metadata": {},
     "output_type": "execute_result"
    }
   ],
   "source": [
    "# Отрицательные значения приравниваем к 0:\n",
    "users_data['calls_income'] = (users_data['minutes'] - users_data['minutes_included']) *  users_data['rub_per_minute']\n",
    "users_data.loc[users_data.calls_income <= 0, 'calls_income'] = 0\n",
    "\n",
    "users_data['msg_income'] = (users_data['messages'] - users_data['messages_included']) *  users_data['rub_per_message']\n",
    "users_data.loc[users_data.msg_income <= 0, 'msg_income'] = 0\n",
    "\n",
    "users_data['int_income'] = (users_data['gigabytes'] - (users_data['mb_per_month_included'] / 1024)) *  users_data['rub_per_gb']\n",
    "users_data.loc[users_data.int_income <= 0, 'int_income'] = 0\n",
    "\n",
    "users_data['total_income'] = users_data['calls_income'] + users_data['msg_income'] + users_data['int_income'] + users_data['rub_monthly_fee']\n",
    "users_data"
   ]
  },
  {
   "cell_type": "markdown",
   "metadata": {},
   "source": [
    "## Анализ данных"
   ]
  },
  {
   "cell_type": "markdown",
   "metadata": {},
   "source": [
    "**Посчитаем, сколько минут разговора, сколько сообщений и какой объём интернет-трафика требуется пользователям каждого тарифа в месяц**."
   ]
  },
  {
   "cell_type": "markdown",
   "metadata": {},
   "source": [
    "Начнём с **тарифа \"Ультра\"**."
   ]
  },
  {
   "cell_type": "markdown",
   "metadata": {},
   "source": [
    "Посчитаем, сколько в среднем, пользователи тратят минут, сообщений и интернет-трафика в месяц."
   ]
  },
  {
   "cell_type": "code",
   "execution_count": 53,
   "metadata": {},
   "outputs": [
    {
     "data": {
      "text/html": [
       "<div>\n",
       "<style scoped>\n",
       "    .dataframe tbody tr th:only-of-type {\n",
       "        vertical-align: middle;\n",
       "    }\n",
       "\n",
       "    .dataframe tbody tr th {\n",
       "        vertical-align: top;\n",
       "    }\n",
       "\n",
       "    .dataframe thead th {\n",
       "        text-align: right;\n",
       "    }\n",
       "</style>\n",
       "<table border=\"1\" class=\"dataframe\">\n",
       "  <thead>\n",
       "    <tr style=\"text-align: right;\">\n",
       "      <th></th>\n",
       "      <th>month</th>\n",
       "      <th>minutes</th>\n",
       "      <th>messages</th>\n",
       "      <th>gigabytes</th>\n",
       "    </tr>\n",
       "  </thead>\n",
       "  <tbody>\n",
       "    <tr>\n",
       "      <td>0</td>\n",
       "      <td>April</td>\n",
       "      <td>458.0</td>\n",
       "      <td>32.0</td>\n",
       "      <td>17.0</td>\n",
       "    </tr>\n",
       "    <tr>\n",
       "      <td>1</td>\n",
       "      <td>August</td>\n",
       "      <td>511.0</td>\n",
       "      <td>48.0</td>\n",
       "      <td>20.0</td>\n",
       "    </tr>\n",
       "    <tr>\n",
       "      <td>2</td>\n",
       "      <td>December</td>\n",
       "      <td>593.0</td>\n",
       "      <td>61.0</td>\n",
       "      <td>22.0</td>\n",
       "    </tr>\n",
       "    <tr>\n",
       "      <td>3</td>\n",
       "      <td>February</td>\n",
       "      <td>297.0</td>\n",
       "      <td>22.0</td>\n",
       "      <td>12.0</td>\n",
       "    </tr>\n",
       "    <tr>\n",
       "      <td>4</td>\n",
       "      <td>January</td>\n",
       "      <td>428.0</td>\n",
       "      <td>34.0</td>\n",
       "      <td>13.0</td>\n",
       "    </tr>\n",
       "    <tr>\n",
       "      <td>5</td>\n",
       "      <td>July</td>\n",
       "      <td>546.0</td>\n",
       "      <td>50.0</td>\n",
       "      <td>21.0</td>\n",
       "    </tr>\n",
       "    <tr>\n",
       "      <td>6</td>\n",
       "      <td>June</td>\n",
       "      <td>480.0</td>\n",
       "      <td>42.0</td>\n",
       "      <td>19.0</td>\n",
       "    </tr>\n",
       "    <tr>\n",
       "      <td>7</td>\n",
       "      <td>March</td>\n",
       "      <td>490.0</td>\n",
       "      <td>32.0</td>\n",
       "      <td>18.0</td>\n",
       "    </tr>\n",
       "    <tr>\n",
       "      <td>8</td>\n",
       "      <td>May</td>\n",
       "      <td>510.0</td>\n",
       "      <td>38.0</td>\n",
       "      <td>19.0</td>\n",
       "    </tr>\n",
       "    <tr>\n",
       "      <td>9</td>\n",
       "      <td>November</td>\n",
       "      <td>541.0</td>\n",
       "      <td>56.0</td>\n",
       "      <td>20.0</td>\n",
       "    </tr>\n",
       "    <tr>\n",
       "      <td>10</td>\n",
       "      <td>October</td>\n",
       "      <td>558.0</td>\n",
       "      <td>58.0</td>\n",
       "      <td>20.0</td>\n",
       "    </tr>\n",
       "    <tr>\n",
       "      <td>11</td>\n",
       "      <td>September</td>\n",
       "      <td>539.0</td>\n",
       "      <td>52.0</td>\n",
       "      <td>19.0</td>\n",
       "    </tr>\n",
       "  </tbody>\n",
       "</table>\n",
       "</div>"
      ],
      "text/plain": [
       "        month  minutes  messages  gigabytes\n",
       "0       April    458.0      32.0       17.0\n",
       "1      August    511.0      48.0       20.0\n",
       "2    December    593.0      61.0       22.0\n",
       "3    February    297.0      22.0       12.0\n",
       "4     January    428.0      34.0       13.0\n",
       "5        July    546.0      50.0       21.0\n",
       "6        June    480.0      42.0       19.0\n",
       "7       March    490.0      32.0       18.0\n",
       "8         May    510.0      38.0       19.0\n",
       "9    November    541.0      56.0       20.0\n",
       "10    October    558.0      58.0       20.0\n",
       "11  September    539.0      52.0       19.0"
      ]
     },
     "execution_count": 53,
     "metadata": {},
     "output_type": "execute_result"
    }
   ],
   "source": [
    "tariff_ultra_data = users_data.loc[users_data['tariff'] == 'ultra']\n",
    "\n",
    "round(tariff_ultra_data.groupby('month', as_index = False).\\\n",
    "agg({'minutes':'mean', 'messages':'mean', 'gigabytes':'mean'}))"
   ]
  },
  {
   "cell_type": "markdown",
   "metadata": {},
   "source": [
    "Рассмотрим общие статистики по тарифу. "
   ]
  },
  {
   "cell_type": "code",
   "execution_count": 54,
   "metadata": {},
   "outputs": [
    {
     "data": {
      "text/html": [
       "<div>\n",
       "<style scoped>\n",
       "    .dataframe tbody tr th:only-of-type {\n",
       "        vertical-align: middle;\n",
       "    }\n",
       "\n",
       "    .dataframe tbody tr th {\n",
       "        vertical-align: top;\n",
       "    }\n",
       "\n",
       "    .dataframe thead th {\n",
       "        text-align: right;\n",
       "    }\n",
       "</style>\n",
       "<table border=\"1\" class=\"dataframe\">\n",
       "  <thead>\n",
       "    <tr style=\"text-align: right;\">\n",
       "      <th></th>\n",
       "      <th>minutes</th>\n",
       "      <th>messages</th>\n",
       "      <th>gigabytes</th>\n",
       "    </tr>\n",
       "  </thead>\n",
       "  <tbody>\n",
       "    <tr>\n",
       "      <td>count</td>\n",
       "      <td>985.000000</td>\n",
       "      <td>985.000000</td>\n",
       "      <td>985.000000</td>\n",
       "    </tr>\n",
       "    <tr>\n",
       "      <td>mean</td>\n",
       "      <td>526.623350</td>\n",
       "      <td>49.363452</td>\n",
       "      <td>19.494416</td>\n",
       "    </tr>\n",
       "    <tr>\n",
       "      <td>std</td>\n",
       "      <td>317.606098</td>\n",
       "      <td>47.804457</td>\n",
       "      <td>9.853511</td>\n",
       "    </tr>\n",
       "    <tr>\n",
       "      <td>min</td>\n",
       "      <td>0.000000</td>\n",
       "      <td>0.000000</td>\n",
       "      <td>0.000000</td>\n",
       "    </tr>\n",
       "    <tr>\n",
       "      <td>25%</td>\n",
       "      <td>284.000000</td>\n",
       "      <td>6.000000</td>\n",
       "      <td>12.000000</td>\n",
       "    </tr>\n",
       "    <tr>\n",
       "      <td>50%</td>\n",
       "      <td>518.000000</td>\n",
       "      <td>38.000000</td>\n",
       "      <td>19.000000</td>\n",
       "    </tr>\n",
       "    <tr>\n",
       "      <td>75%</td>\n",
       "      <td>752.000000</td>\n",
       "      <td>79.000000</td>\n",
       "      <td>27.000000</td>\n",
       "    </tr>\n",
       "    <tr>\n",
       "      <td>max</td>\n",
       "      <td>1673.000000</td>\n",
       "      <td>224.000000</td>\n",
       "      <td>49.000000</td>\n",
       "    </tr>\n",
       "  </tbody>\n",
       "</table>\n",
       "</div>"
      ],
      "text/plain": [
       "           minutes    messages   gigabytes\n",
       "count   985.000000  985.000000  985.000000\n",
       "mean    526.623350   49.363452   19.494416\n",
       "std     317.606098   47.804457    9.853511\n",
       "min       0.000000    0.000000    0.000000\n",
       "25%     284.000000    6.000000   12.000000\n",
       "50%     518.000000   38.000000   19.000000\n",
       "75%     752.000000   79.000000   27.000000\n",
       "max    1673.000000  224.000000   49.000000"
      ]
     },
     "execution_count": 54,
     "metadata": {},
     "output_type": "execute_result"
    }
   ],
   "source": [
    "tariff_ultra_data[['minutes', 'messages', 'gigabytes']].describe()"
   ]
  },
  {
   "cell_type": "markdown",
   "metadata": {},
   "source": [
    "В среднем, пользователи тарифа \"Ультра\", разговаривали порядка 530 минут, отослали около 50 сообщений и потратили 20 гигабайт трафика. Любопытно, что эти данные пересекаются с тарифом \"Смарт\", где включены 500 минут разговора, 50 сообщений и 15 Гб интернет-трафика.\n",
    "\n",
    "\n",
    "Кто-то вообще не пользовался звонками и сообщениями, а кто-то наговорил 1673 минуты и отправил 224 послания. Если это один человек, то он очень деятельный :)\n",
    "\n",
    "\n",
    "Медиана и среднее достаточно близко, значит выбросов в данных не так много. "
   ]
  },
  {
   "cell_type": "markdown",
   "metadata": {},
   "source": [
    "Рассмотрим **тариф \"Смарт\"**."
   ]
  },
  {
   "cell_type": "markdown",
   "metadata": {},
   "source": [
    "Посчитаем среднее по пользователям."
   ]
  },
  {
   "cell_type": "code",
   "execution_count": 55,
   "metadata": {},
   "outputs": [
    {
     "data": {
      "text/html": [
       "<div>\n",
       "<style scoped>\n",
       "    .dataframe tbody tr th:only-of-type {\n",
       "        vertical-align: middle;\n",
       "    }\n",
       "\n",
       "    .dataframe tbody tr th {\n",
       "        vertical-align: top;\n",
       "    }\n",
       "\n",
       "    .dataframe thead th {\n",
       "        text-align: right;\n",
       "    }\n",
       "</style>\n",
       "<table border=\"1\" class=\"dataframe\">\n",
       "  <thead>\n",
       "    <tr style=\"text-align: right;\">\n",
       "      <th></th>\n",
       "      <th>month</th>\n",
       "      <th>minutes</th>\n",
       "      <th>messages</th>\n",
       "      <th>gigabytes</th>\n",
       "    </tr>\n",
       "  </thead>\n",
       "  <tbody>\n",
       "    <tr>\n",
       "      <td>0</td>\n",
       "      <td>April</td>\n",
       "      <td>367.0</td>\n",
       "      <td>31.0</td>\n",
       "      <td>14.0</td>\n",
       "    </tr>\n",
       "    <tr>\n",
       "      <td>1</td>\n",
       "      <td>August</td>\n",
       "      <td>421.0</td>\n",
       "      <td>34.0</td>\n",
       "      <td>17.0</td>\n",
       "    </tr>\n",
       "    <tr>\n",
       "      <td>2</td>\n",
       "      <td>December</td>\n",
       "      <td>479.0</td>\n",
       "      <td>36.0</td>\n",
       "      <td>18.0</td>\n",
       "    </tr>\n",
       "    <tr>\n",
       "      <td>3</td>\n",
       "      <td>February</td>\n",
       "      <td>299.0</td>\n",
       "      <td>24.0</td>\n",
       "      <td>12.0</td>\n",
       "    </tr>\n",
       "    <tr>\n",
       "      <td>4</td>\n",
       "      <td>January</td>\n",
       "      <td>204.0</td>\n",
       "      <td>18.0</td>\n",
       "      <td>9.0</td>\n",
       "    </tr>\n",
       "    <tr>\n",
       "      <td>5</td>\n",
       "      <td>July</td>\n",
       "      <td>408.0</td>\n",
       "      <td>34.0</td>\n",
       "      <td>16.0</td>\n",
       "    </tr>\n",
       "    <tr>\n",
       "      <td>6</td>\n",
       "      <td>June</td>\n",
       "      <td>396.0</td>\n",
       "      <td>33.0</td>\n",
       "      <td>16.0</td>\n",
       "    </tr>\n",
       "    <tr>\n",
       "      <td>7</td>\n",
       "      <td>March</td>\n",
       "      <td>390.0</td>\n",
       "      <td>32.0</td>\n",
       "      <td>15.0</td>\n",
       "    </tr>\n",
       "    <tr>\n",
       "      <td>8</td>\n",
       "      <td>May</td>\n",
       "      <td>387.0</td>\n",
       "      <td>34.0</td>\n",
       "      <td>16.0</td>\n",
       "    </tr>\n",
       "    <tr>\n",
       "      <td>9</td>\n",
       "      <td>November</td>\n",
       "      <td>435.0</td>\n",
       "      <td>34.0</td>\n",
       "      <td>17.0</td>\n",
       "    </tr>\n",
       "    <tr>\n",
       "      <td>10</td>\n",
       "      <td>October</td>\n",
       "      <td>426.0</td>\n",
       "      <td>34.0</td>\n",
       "      <td>17.0</td>\n",
       "    </tr>\n",
       "    <tr>\n",
       "      <td>11</td>\n",
       "      <td>September</td>\n",
       "      <td>429.0</td>\n",
       "      <td>34.0</td>\n",
       "      <td>16.0</td>\n",
       "    </tr>\n",
       "  </tbody>\n",
       "</table>\n",
       "</div>"
      ],
      "text/plain": [
       "        month  minutes  messages  gigabytes\n",
       "0       April    367.0      31.0       14.0\n",
       "1      August    421.0      34.0       17.0\n",
       "2    December    479.0      36.0       18.0\n",
       "3    February    299.0      24.0       12.0\n",
       "4     January    204.0      18.0        9.0\n",
       "5        July    408.0      34.0       16.0\n",
       "6        June    396.0      33.0       16.0\n",
       "7       March    390.0      32.0       15.0\n",
       "8         May    387.0      34.0       16.0\n",
       "9    November    435.0      34.0       17.0\n",
       "10    October    426.0      34.0       17.0\n",
       "11  September    429.0      34.0       16.0"
      ]
     },
     "execution_count": 55,
     "metadata": {},
     "output_type": "execute_result"
    }
   ],
   "source": [
    "tariff_smart_data = users_data.loc[users_data['tariff'] == 'smart']\n",
    "\n",
    "round(tariff_smart_data.groupby('month', as_index = False).\\\n",
    "agg({'minutes':'mean', 'messages':'mean', 'gigabytes':'mean'}))"
   ]
  },
  {
   "cell_type": "code",
   "execution_count": 56,
   "metadata": {},
   "outputs": [
    {
     "data": {
      "text/html": [
       "<div>\n",
       "<style scoped>\n",
       "    .dataframe tbody tr th:only-of-type {\n",
       "        vertical-align: middle;\n",
       "    }\n",
       "\n",
       "    .dataframe tbody tr th {\n",
       "        vertical-align: top;\n",
       "    }\n",
       "\n",
       "    .dataframe thead th {\n",
       "        text-align: right;\n",
       "    }\n",
       "</style>\n",
       "<table border=\"1\" class=\"dataframe\">\n",
       "  <thead>\n",
       "    <tr style=\"text-align: right;\">\n",
       "      <th></th>\n",
       "      <th>minutes</th>\n",
       "      <th>messages</th>\n",
       "      <th>gigabytes</th>\n",
       "    </tr>\n",
       "  </thead>\n",
       "  <tbody>\n",
       "    <tr>\n",
       "      <td>count</td>\n",
       "      <td>2229.000000</td>\n",
       "      <td>2229.000000</td>\n",
       "      <td>2229.000000</td>\n",
       "    </tr>\n",
       "    <tr>\n",
       "      <td>mean</td>\n",
       "      <td>417.934948</td>\n",
       "      <td>33.384029</td>\n",
       "      <td>16.328847</td>\n",
       "    </tr>\n",
       "    <tr>\n",
       "      <td>std</td>\n",
       "      <td>190.313730</td>\n",
       "      <td>28.227876</td>\n",
       "      <td>5.747061</td>\n",
       "    </tr>\n",
       "    <tr>\n",
       "      <td>min</td>\n",
       "      <td>0.000000</td>\n",
       "      <td>0.000000</td>\n",
       "      <td>0.000000</td>\n",
       "    </tr>\n",
       "    <tr>\n",
       "      <td>25%</td>\n",
       "      <td>282.000000</td>\n",
       "      <td>10.000000</td>\n",
       "      <td>13.000000</td>\n",
       "    </tr>\n",
       "    <tr>\n",
       "      <td>50%</td>\n",
       "      <td>422.000000</td>\n",
       "      <td>28.000000</td>\n",
       "      <td>17.000000</td>\n",
       "    </tr>\n",
       "    <tr>\n",
       "      <td>75%</td>\n",
       "      <td>545.000000</td>\n",
       "      <td>51.000000</td>\n",
       "      <td>20.000000</td>\n",
       "    </tr>\n",
       "    <tr>\n",
       "      <td>max</td>\n",
       "      <td>1435.000000</td>\n",
       "      <td>143.000000</td>\n",
       "      <td>38.000000</td>\n",
       "    </tr>\n",
       "  </tbody>\n",
       "</table>\n",
       "</div>"
      ],
      "text/plain": [
       "           minutes     messages    gigabytes\n",
       "count  2229.000000  2229.000000  2229.000000\n",
       "mean    417.934948    33.384029    16.328847\n",
       "std     190.313730    28.227876     5.747061\n",
       "min       0.000000     0.000000     0.000000\n",
       "25%     282.000000    10.000000    13.000000\n",
       "50%     422.000000    28.000000    17.000000\n",
       "75%     545.000000    51.000000    20.000000\n",
       "max    1435.000000   143.000000    38.000000"
      ]
     },
     "execution_count": 56,
     "metadata": {},
     "output_type": "execute_result"
    }
   ],
   "source": [
    "tariff_smart_data[['minutes', 'messages', 'gigabytes']].describe()"
   ]
  },
  {
   "cell_type": "markdown",
   "metadata": {},
   "source": [
    "Судя по количеству строк, тариф более популярный. \n",
    "\n",
    "\n",
    "Пользователи этого тарифа, в среднем потратили на разговоры порядка 420 минут, отослали около 30 сообщений и потратили чуть более 16 гигабайт трафика. В среднем, тарифный лимит превысил только интернет-трафик.\n",
    "\n",
    "\n",
    "В минимальных и максимальных значениях ситуация как в \"Ультра\". Есть \"молчуны\" и \"говоруны\", с почти полутора тысячью минутами разговора.\n",
    "\n",
    "\n",
    "Данные тарифа \"Смарт\" так же не лишены выбросов."
   ]
  },
  {
   "cell_type": "markdown",
   "metadata": {},
   "source": [
    "Узнаем дисперсию внутри тарифов по минутам, сообщениям и трафику."
   ]
  },
  {
   "cell_type": "markdown",
   "metadata": {},
   "source": [
    "Тариф \"Ультра\"."
   ]
  },
  {
   "cell_type": "code",
   "execution_count": 57,
   "metadata": {},
   "outputs": [
    {
     "data": {
      "text/plain": [
       "minutes      100771.223617\n",
       "messages       2282.946075\n",
       "gigabytes        96.993116\n",
       "dtype: float64"
      ]
     },
     "execution_count": 57,
     "metadata": {},
     "output_type": "execute_result"
    }
   ],
   "source": [
    "np.var(tariff_ultra_data[['minutes', 'messages', 'gigabytes']])"
   ]
  },
  {
   "cell_type": "markdown",
   "metadata": {},
   "source": [
    "Тариф \"Смарт\"."
   ]
  },
  {
   "cell_type": "code",
   "execution_count": 58,
   "metadata": {},
   "outputs": [
    {
     "data": {
      "text/plain": [
       "minutes      36203.066652\n",
       "messages       796.455483\n",
       "gigabytes       33.013887\n",
       "dtype: float64"
      ]
     },
     "execution_count": 58,
     "metadata": {},
     "output_type": "execute_result"
    }
   ],
   "source": [
    "np.var(tariff_smart_data[['minutes', 'messages', 'gigabytes']])"
   ]
  },
  {
   "cell_type": "markdown",
   "metadata": {},
   "source": [
    "Пользователи тарифа \"Смарт\" более последовательны. Разброс данных внутри тарифа меньше."
   ]
  },
  {
   "cell_type": "markdown",
   "metadata": {},
   "source": [
    "**Сравним тарифы**."
   ]
  },
  {
   "cell_type": "markdown",
   "metadata": {},
   "source": [
    "Построим гистограмму минут разговора, потраченных по тарифам."
   ]
  },
  {
   "cell_type": "code",
   "execution_count": 59,
   "metadata": {},
   "outputs": [
    {
     "data": {
      "image/png": "[encoded data removed]",
      "text/plain": [
       "<Figure size 1008x432 with 1 Axes>"
      ]
     },
     "metadata": {
      "needs_background": "light"
     },
     "output_type": "display_data"
    }
   ],
   "source": [
    "plt.figure(figsize=(14, 6))\n",
    "plt.hist(tariff_ultra_data.minutes, bins=60, label='Ультра')\n",
    "plt.hist(tariff_smart_data.minutes, bins=60, label='Смарт', alpha=0.7)\n",
    "plt.xlabel('Минуты')\n",
    "plt.ylabel('Количество звонков')\n",
    "plt.legend()\n",
    "plt.show()"
   ]
  },
  {
   "cell_type": "markdown",
   "metadata": {},
   "source": [
    "В тарифе \"Смарт\", как в более массовом, количество звонков больше, но длительность выше в \"Ультра\"."
   ]
  },
  {
   "cell_type": "markdown",
   "metadata": {},
   "source": [
    "Построим диаграммы размаха, чтобы посмотреть на **скошенность данных**."
   ]
  },
  {
   "cell_type": "code",
   "execution_count": 60,
   "metadata": {},
   "outputs": [
    {
     "data": {
      "image/png": "[encoded data removed]",
      "text/plain": [
       "<Figure size 1008x288 with 1 Axes>"
      ]
     },
     "metadata": {
      "needs_background": "light"
     },
     "output_type": "display_data"
    }
   ],
   "source": [
    "plt.figure(figsize=(14, 4))\n",
    "tariff_ultra_data.minutes.plot(kind='box', grid=True, vert=False)\n",
    "plt.xlim(-10, 1500)\n",
    "plt.title('Ультра')\n",
    "plt.show()"
   ]
  },
  {
   "cell_type": "code",
   "execution_count": 61,
   "metadata": {},
   "outputs": [
    {
     "data": {
      "image/png": "[encoded data removed]",
      "text/plain": [
       "<Figure size 1008x288 with 1 Axes>"
      ]
     },
     "metadata": {
      "needs_background": "light"
     },
     "output_type": "display_data"
    }
   ],
   "source": [
    "plt.figure(figsize=(14, 4))\n",
    "tariff_smart_data.minutes.plot(kind='box', grid=True, vert=False)\n",
    "plt.xlim(-10, 1500)\n",
    "plt.title('Смарт')\n",
    "plt.show()"
   ]
  },
  {
   "cell_type": "markdown",
   "metadata": {},
   "source": [
    "Скошенность данных внутри тарифов почти не наблюдается. Абоненты достаточно стабильны в своём поведении. Однако, в тарифе \"Ультра\", пользователи говорят дольше. Третий квартиль заканчивается на 750 минутах, а \"ус\" тянется до 1400. Тогда как в \"Смарте\", основная масса звонков обрывается на, примерно, 550 минутах, а после 900 минут и, вовсе, начинаются выбросы.\n",
    "\n",
    "\n",
    "Пользователи \"Смарта\" стараются **не превышать лимит**, заложенный в тарифе. Превысить лимит \"Ультра\", в 3000 минут, под силу не каждому."
   ]
  },
  {
   "cell_type": "markdown",
   "metadata": {},
   "source": [
    "Что же в абсолютных цифрах дохода со звонков?"
   ]
  },
  {
   "cell_type": "code",
   "execution_count": 62,
   "metadata": {},
   "outputs": [
    {
     "data": {
      "text/html": [
       "<div>\n",
       "<style scoped>\n",
       "    .dataframe tbody tr th:only-of-type {\n",
       "        vertical-align: middle;\n",
       "    }\n",
       "\n",
       "    .dataframe tbody tr th {\n",
       "        vertical-align: top;\n",
       "    }\n",
       "\n",
       "    .dataframe thead th {\n",
       "        text-align: right;\n",
       "    }\n",
       "</style>\n",
       "<table border=\"1\" class=\"dataframe\">\n",
       "  <thead>\n",
       "    <tr style=\"text-align: right;\">\n",
       "      <th></th>\n",
       "      <th>tariff</th>\n",
       "      <th>calls_income</th>\n",
       "    </tr>\n",
       "  </thead>\n",
       "  <tbody>\n",
       "    <tr>\n",
       "      <td>0</td>\n",
       "      <td>smart</td>\n",
       "      <td>278217.0</td>\n",
       "    </tr>\n",
       "    <tr>\n",
       "      <td>1</td>\n",
       "      <td>ultra</td>\n",
       "      <td>0.0</td>\n",
       "    </tr>\n",
       "  </tbody>\n",
       "</table>\n",
       "</div>"
      ],
      "text/plain": [
       "  tariff  calls_income\n",
       "0  smart      278217.0\n",
       "1  ultra           0.0"
      ]
     },
     "execution_count": 62,
     "metadata": {},
     "output_type": "execute_result"
    }
   ],
   "source": [
    "users_data.groupby('tariff', as_index=False).calls_income.sum()"
   ]
  },
  {
   "cell_type": "markdown",
   "metadata": {},
   "source": [
    "Любопытно, но на звонках тарифа \"Ультра\", оператор не зарабатывает.\n",
    "\n",
    "\n",
    "Продолжаем исследование."
   ]
  },
  {
   "cell_type": "markdown",
   "metadata": {},
   "source": [
    "Изучим **сообщения**."
   ]
  },
  {
   "cell_type": "code",
   "execution_count": 63,
   "metadata": {},
   "outputs": [
    {
     "data": {
      "image/png": "[encoded data removed]",
      "text/plain": [
       "<Figure size 1008x432 with 1 Axes>"
      ]
     },
     "metadata": {
      "needs_background": "light"
     },
     "output_type": "display_data"
    }
   ],
   "source": [
    "plt.figure(figsize=(14, 6))\n",
    "plt.hist(tariff_ultra_data.messages, bins=30, label='Ультра')\n",
    "plt.hist(tariff_smart_data.messages, bins=30, label='Смарт', alpha=0.7)\n",
    "plt.xlabel('Кол-во сообщений')\n",
    "plt.legend()\n",
    "plt.show()"
   ]
  },
  {
   "cell_type": "code",
   "execution_count": 64,
   "metadata": {},
   "outputs": [
    {
     "data": {
      "image/png": "[encoded data removed]",
      "text/plain": [
       "<Figure size 720x288 with 1 Axes>"
      ]
     },
     "metadata": {
      "needs_background": "light"
     },
     "output_type": "display_data"
    }
   ],
   "source": [
    "plt.figure(figsize=(10, 4))\n",
    "tariff_ultra_data.messages.plot(kind='box', grid=True, vert=False)\n",
    "plt.xlim(-10, 200)\n",
    "plt.title('Ультра')\n",
    "plt.show()"
   ]
  },
  {
   "cell_type": "code",
   "execution_count": 65,
   "metadata": {},
   "outputs": [
    {
     "data": {
      "image/png": "[encoded data removed]",
      "text/plain": [
       "<Figure size 720x288 with 1 Axes>"
      ]
     },
     "metadata": {
      "needs_background": "light"
     },
     "output_type": "display_data"
    }
   ],
   "source": [
    "plt.figure(figsize=(10, 4))\n",
    "tariff_smart_data.messages.plot(kind='box', grid=True, vert=False)\n",
    "plt.xlim(-10, 200)\n",
    "plt.title('Смарт')\n",
    "plt.show()"
   ]
  },
  {
   "cell_type": "markdown",
   "metadata": {},
   "source": [
    "На \"Ультре\" пишут больше. Когда в \"Смарте\" уже иссяк словарный запас, \"Ультра\" только разогревается. Для них 100 сообщений в месяц - не предел.\n",
    "\n",
    "\n",
    "Как и в звонках, основная масса пользователей \"Смарта\", стараются не превышать лимит в 50 сообщений."
   ]
  },
  {
   "cell_type": "markdown",
   "metadata": {},
   "source": [
    "С кого же мы зарабатываем на сообщениях?"
   ]
  },
  {
   "cell_type": "code",
   "execution_count": 66,
   "metadata": {},
   "outputs": [
    {
     "data": {
      "text/html": [
       "<div>\n",
       "<style scoped>\n",
       "    .dataframe tbody tr th:only-of-type {\n",
       "        vertical-align: middle;\n",
       "    }\n",
       "\n",
       "    .dataframe tbody tr th {\n",
       "        vertical-align: top;\n",
       "    }\n",
       "\n",
       "    .dataframe thead th {\n",
       "        text-align: right;\n",
       "    }\n",
       "</style>\n",
       "<table border=\"1\" class=\"dataframe\">\n",
       "  <thead>\n",
       "    <tr style=\"text-align: right;\">\n",
       "      <th></th>\n",
       "      <th>tariff</th>\n",
       "      <th>msg_income</th>\n",
       "    </tr>\n",
       "  </thead>\n",
       "  <tbody>\n",
       "    <tr>\n",
       "      <td>0</td>\n",
       "      <td>smart</td>\n",
       "      <td>38784.0</td>\n",
       "    </tr>\n",
       "    <tr>\n",
       "      <td>1</td>\n",
       "      <td>ultra</td>\n",
       "      <td>0.0</td>\n",
       "    </tr>\n",
       "  </tbody>\n",
       "</table>\n",
       "</div>"
      ],
      "text/plain": [
       "  tariff  msg_income\n",
       "0  smart     38784.0\n",
       "1  ultra         0.0"
      ]
     },
     "execution_count": 66,
     "metadata": {},
     "output_type": "execute_result"
    }
   ],
   "source": [
    "users_data.groupby('tariff', as_index=False).msg_income.sum()"
   ]
  },
  {
   "cell_type": "markdown",
   "metadata": {},
   "source": [
    "И опять \"Смарт\" вне конкуренции."
   ]
  },
  {
   "cell_type": "markdown",
   "metadata": {},
   "source": [
    "На очереди - **интернет**."
   ]
  },
  {
   "cell_type": "code",
   "execution_count": 67,
   "metadata": {},
   "outputs": [
    {
     "data": {
      "image/png": "[encoded data removed]",
      "text/plain": [
       "<Figure size 1008x432 with 1 Axes>"
      ]
     },
     "metadata": {
      "needs_background": "light"
     },
     "output_type": "display_data"
    }
   ],
   "source": [
    "plt.figure(figsize=(14, 6))\n",
    "plt.hist(tariff_ultra_data.gigabytes, bins=30, label='Ультра')\n",
    "plt.hist(tariff_smart_data.gigabytes, bins=30, label='Смарт', alpha=0.7)\n",
    "plt.xlabel('Гигабайт')\n",
    "plt.legend()\n",
    "plt.show()"
   ]
  },
  {
   "cell_type": "code",
   "execution_count": 68,
   "metadata": {},
   "outputs": [
    {
     "data": {
      "image/png": "[encoded data removed]",
      "text/plain": [
       "<Figure size 720x288 with 1 Axes>"
      ]
     },
     "metadata": {
      "needs_background": "light"
     },
     "output_type": "display_data"
    }
   ],
   "source": [
    "plt.figure(figsize=(10, 4))\n",
    "tariff_ultra_data.gigabytes.plot(kind='box', grid=True, vert=False)\n",
    "plt.xlim(-1, 50)\n",
    "plt.title('Ультра')\n",
    "plt.show()"
   ]
  },
  {
   "cell_type": "code",
   "execution_count": 69,
   "metadata": {
    "scrolled": false
   },
   "outputs": [
    {
     "data": {
      "image/png": "[encoded data removed]",
      "text/plain": [
       "<Figure size 720x288 with 1 Axes>"
      ]
     },
     "metadata": {
      "needs_background": "light"
     },
     "output_type": "display_data"
    }
   ],
   "source": [
    "plt.figure(figsize=(10, 4))\n",
    "tariff_smart_data.gigabytes.plot(kind='box', grid=True, vert=False)\n",
    "plt.xlim(-1, 50)\n",
    "plt.title('Смарт')\n",
    "plt.show()"
   ]
  },
  {
   "cell_type": "markdown",
   "metadata": {},
   "source": [
    "Оказывается, в тарифе \"Ультра\", много людей, которые вообще не пользуются интернетом. Левый \"ус\" совершенно спокойно упирается в нулевую отметку. Тогда как на \"Смарте\", значения ниже, примерно, четырёх гигабайт, являются выбросами.\n",
    "\n",
    "\n",
    "В среднем, пользователи \"Смарта\" превышают лимит в 15 гигабайт в месяц, но берут себя в руки и останавливаются на 20. Барьер \"Ультры\" в 30 гигабайт берётся с трудом, но некоторые пробивают отметку и в 40."
   ]
  },
  {
   "cell_type": "markdown",
   "metadata": {},
   "source": [
    "Что по фактической прибыли с интернета?"
   ]
  },
  {
   "cell_type": "code",
   "execution_count": 70,
   "metadata": {
    "scrolled": true
   },
   "outputs": [
    {
     "data": {
      "text/html": [
       "<div>\n",
       "<style scoped>\n",
       "    .dataframe tbody tr th:only-of-type {\n",
       "        vertical-align: middle;\n",
       "    }\n",
       "\n",
       "    .dataframe tbody tr th {\n",
       "        vertical-align: top;\n",
       "    }\n",
       "\n",
       "    .dataframe thead th {\n",
       "        text-align: right;\n",
       "    }\n",
       "</style>\n",
       "<table border=\"1\" class=\"dataframe\">\n",
       "  <thead>\n",
       "    <tr style=\"text-align: right;\">\n",
       "      <th></th>\n",
       "      <th>tariff</th>\n",
       "      <th>int_income</th>\n",
       "    </tr>\n",
       "  </thead>\n",
       "  <tbody>\n",
       "    <tr>\n",
       "      <td>0</td>\n",
       "      <td>smart</td>\n",
       "      <td>1332400.0</td>\n",
       "    </tr>\n",
       "    <tr>\n",
       "      <td>1</td>\n",
       "      <td>ultra</td>\n",
       "      <td>118350.0</td>\n",
       "    </tr>\n",
       "  </tbody>\n",
       "</table>\n",
       "</div>"
      ],
      "text/plain": [
       "  tariff  int_income\n",
       "0  smart   1332400.0\n",
       "1  ultra    118350.0"
      ]
     },
     "execution_count": 70,
     "metadata": {},
     "output_type": "execute_result"
    }
   ],
   "source": [
    "users_data.groupby('tariff', as_index=False).int_income.sum()"
   ]
  },
  {
   "cell_type": "markdown",
   "metadata": {},
   "source": [
    "\"Ультра\" показал нос, но, разница более чем в один миллион, делает его попытки тщетными."
   ]
  },
  {
   "cell_type": "markdown",
   "metadata": {},
   "source": [
    "**Что же по общим цифрам прибыли с тарифов?**"
   ]
  },
  {
   "cell_type": "code",
   "execution_count": 71,
   "metadata": {},
   "outputs": [
    {
     "data": {
      "text/html": [
       "<div>\n",
       "<style scoped>\n",
       "    .dataframe tbody tr th:only-of-type {\n",
       "        vertical-align: middle;\n",
       "    }\n",
       "\n",
       "    .dataframe tbody tr th {\n",
       "        vertical-align: top;\n",
       "    }\n",
       "\n",
       "    .dataframe thead th {\n",
       "        text-align: right;\n",
       "    }\n",
       "</style>\n",
       "<table border=\"1\" class=\"dataframe\">\n",
       "  <thead>\n",
       "    <tr style=\"text-align: right;\">\n",
       "      <th></th>\n",
       "      <th>tariff</th>\n",
       "      <th>total_income</th>\n",
       "    </tr>\n",
       "  </thead>\n",
       "  <tbody>\n",
       "    <tr>\n",
       "      <td>0</td>\n",
       "      <td>smart</td>\n",
       "      <td>2875351.0</td>\n",
       "    </tr>\n",
       "    <tr>\n",
       "      <td>1</td>\n",
       "      <td>ultra</td>\n",
       "      <td>2039100.0</td>\n",
       "    </tr>\n",
       "  </tbody>\n",
       "</table>\n",
       "</div>"
      ],
      "text/plain": [
       "  tariff  total_income\n",
       "0  smart     2875351.0\n",
       "1  ultra     2039100.0"
      ]
     },
     "execution_count": 71,
     "metadata": {},
     "output_type": "execute_result"
    }
   ],
   "source": [
    "users_data.groupby('tariff', as_index=False).total_income.sum()"
   ]
  },
  {
   "cell_type": "markdown",
   "metadata": {},
   "source": [
    "При разгромном лидировании тарифа \"Смарт\", по всем предыдущим пунктам, абонентская плата тарифа \"Ультра\", не дала ему остаться совсем в аутсайдерах, и быть выброшенным на свалку истории, из списка тарифов «Мегалайна». Да, разница между тарифами почти в миллион, но и тарифом \"Ультра\" пользуется гораздо меньше человек. Можно пошевелить маркетологов, чтобы придумали интересные способы привлечения клиентов в \"Ультра\". "
   ]
  },
  {
   "cell_type": "markdown",
   "metadata": {},
   "source": [
    "А что по **средней прибыли** с каждого тарифа?"
   ]
  },
  {
   "cell_type": "code",
   "execution_count": 72,
   "metadata": {},
   "outputs": [
    {
     "data": {
      "text/html": [
       "<div>\n",
       "<style scoped>\n",
       "    .dataframe tbody tr th:only-of-type {\n",
       "        vertical-align: middle;\n",
       "    }\n",
       "\n",
       "    .dataframe tbody tr th {\n",
       "        vertical-align: top;\n",
       "    }\n",
       "\n",
       "    .dataframe thead th {\n",
       "        text-align: right;\n",
       "    }\n",
       "</style>\n",
       "<table border=\"1\" class=\"dataframe\">\n",
       "  <thead>\n",
       "    <tr style=\"text-align: right;\">\n",
       "      <th></th>\n",
       "      <th>tariff</th>\n",
       "      <th>total_income</th>\n",
       "    </tr>\n",
       "  </thead>\n",
       "  <tbody>\n",
       "    <tr>\n",
       "      <td>0</td>\n",
       "      <td>smart</td>\n",
       "      <td>1290.0</td>\n",
       "    </tr>\n",
       "    <tr>\n",
       "      <td>1</td>\n",
       "      <td>ultra</td>\n",
       "      <td>2070.0</td>\n",
       "    </tr>\n",
       "  </tbody>\n",
       "</table>\n",
       "</div>"
      ],
      "text/plain": [
       "  tariff  total_income\n",
       "0  smart        1290.0\n",
       "1  ultra        2070.0"
      ]
     },
     "execution_count": 72,
     "metadata": {},
     "output_type": "execute_result"
    }
   ],
   "source": [
    "round(users_data.groupby('tariff', as_index=False).total_income.mean())"
   ]
  },
  {
   "cell_type": "markdown",
   "metadata": {},
   "source": [
    "Вот где \"Ультра\" вышла в лидеры."
   ]
  },
  {
   "cell_type": "markdown",
   "metadata": {},
   "source": [
    "Однако, чтобы понять, различается ли средняя выручка пользователей разных тарифов, недостаточно просто сравнить значения за определённый период. Без проведения **корректного теста** нельзя считать отличия случайными или разницу достаточной, чтобы называть суммы разными."
   ]
  },
  {
   "cell_type": "markdown",
   "metadata": {},
   "source": [
    "## Проверяем гипотезы"
   ]
  },
  {
   "cell_type": "markdown",
   "metadata": {},
   "source": [
    "В наших подсчётах, мы будем проверять гипотезы о равенстве средних двух генеральных совокупностей."
   ]
  },
  {
   "cell_type": "markdown",
   "metadata": {},
   "source": [
    "###  Средняя выручка пользователей тарифов «Ультра» и «Смарт» различаются"
   ]
  },
  {
   "cell_type": "markdown",
   "metadata": {},
   "source": [
    "Для начала, сформулируем нулевую и альтернативную гипотезы:\n",
    "\n",
    "- H₀ - средняя выручка тарифов **не различается**\n",
    "\n",
    "- H₁ - средняя выручка тарифов **различается**"
   ]
  },
  {
   "cell_type": "markdown",
   "metadata": {},
   "source": [
    "Смотрим дисперсии двух выборок по тарифам."
   ]
  },
  {
   "cell_type": "code",
   "execution_count": 73,
   "metadata": {},
   "outputs": [
    {
     "data": {
      "text/plain": [
       "141373.07325620347"
      ]
     },
     "execution_count": 73,
     "metadata": {},
     "output_type": "execute_result"
    }
   ],
   "source": [
    "np.var(tariff_ultra_data.total_income)"
   ]
  },
  {
   "cell_type": "code",
   "execution_count": 74,
   "metadata": {},
   "outputs": [
    {
     "data": {
      "text/plain": [
       "669485.2209234245"
      ]
     },
     "execution_count": 74,
     "metadata": {},
     "output_type": "execute_result"
    }
   ],
   "source": [
    "np.var(tariff_smart_data.total_income)"
   ]
  },
  {
   "cell_type": "markdown",
   "metadata": {},
   "source": [
    "Зададим **критический уровень значимости alpha - 5%**. Если p-value окажется меньше него - отвергнем нулевую гипотезу."
   ]
  },
  {
   "cell_type": "code",
   "execution_count": 75,
   "metadata": {},
   "outputs": [
    {
     "name": "stdout",
     "output_type": "stream",
     "text": [
      "p-value: 4.2606313931076085e-250\n",
      "Отвергаем нулевую гипотезу\n"
     ]
    }
   ],
   "source": [
    "alpha = 0.05\n",
    "\n",
    "#Поскольку, дисперсии выборок различаются, ставим параметр equal_var=False\n",
    "results = st.ttest_ind(tariff_ultra_data.total_income, tariff_smart_data.total_income, equal_var=False)\n",
    "print('p-value:', results.pvalue)\n",
    "\n",
    "if results.pvalue < alpha:\n",
    "    print('Отвергаем нулевую гипотезу')\n",
    "else:\n",
    "    print('Не получилось отвергнуть нулевую гипотезу')"
   ]
  },
  {
   "cell_type": "markdown",
   "metadata": {},
   "source": [
    "**P-значение** меньше критического уровня значимости. **Отвергаем нулевую гипотезу**. Средняя выручка тарифов **различается**.\n",
    "\n",
    "\n",
    "Полученное значение p-value говорит нам о том, что разница в средней выручке, не случайна. На основании этого, можно сделать вывод о значимом различии между средней выручкой тарифов."
   ]
  },
  {
   "cell_type": "markdown",
   "metadata": {},
   "source": [
    "### Средняя выручка пользователей из Москвы отличается от выручки пользователей из других регионов"
   ]
  },
  {
   "cell_type": "markdown",
   "metadata": {},
   "source": [
    "- H₀ - средняя выручка пользователей из Москвы **не отличается** от выручки пользователей из других регионов\n",
    "\n",
    "- H₁ - средняя выручка пользователей из Москвы **отличается** от выручки пользователей из других регионов"
   ]
  },
  {
   "cell_type": "markdown",
   "metadata": {},
   "source": [
    "Для начала, посмотрим на фактическую выручку по городам."
   ]
  },
  {
   "cell_type": "code",
   "execution_count": 76,
   "metadata": {},
   "outputs": [
    {
     "data": {
      "text/html": [
       "<div>\n",
       "<style scoped>\n",
       "    .dataframe tbody tr th:only-of-type {\n",
       "        vertical-align: middle;\n",
       "    }\n",
       "\n",
       "    .dataframe tbody tr th {\n",
       "        vertical-align: top;\n",
       "    }\n",
       "\n",
       "    .dataframe thead th {\n",
       "        text-align: right;\n",
       "    }\n",
       "</style>\n",
       "<table border=\"1\" class=\"dataframe\">\n",
       "  <thead>\n",
       "    <tr style=\"text-align: right;\">\n",
       "      <th></th>\n",
       "      <th>city</th>\n",
       "      <th>total_income</th>\n",
       "    </tr>\n",
       "  </thead>\n",
       "  <tbody>\n",
       "    <tr>\n",
       "      <td>31</td>\n",
       "      <td>Москва</td>\n",
       "      <td>945042.0</td>\n",
       "    </tr>\n",
       "    <tr>\n",
       "      <td>50</td>\n",
       "      <td>Санкт-Петербург</td>\n",
       "      <td>436982.0</td>\n",
       "    </tr>\n",
       "    <tr>\n",
       "      <td>39</td>\n",
       "      <td>Новосибирск</td>\n",
       "      <td>174542.0</td>\n",
       "    </tr>\n",
       "    <tr>\n",
       "      <td>67</td>\n",
       "      <td>Уфа</td>\n",
       "      <td>145762.0</td>\n",
       "    </tr>\n",
       "    <tr>\n",
       "      <td>24</td>\n",
       "      <td>Краснодар</td>\n",
       "      <td>132790.0</td>\n",
       "    </tr>\n",
       "  </tbody>\n",
       "</table>\n",
       "</div>"
      ],
      "text/plain": [
       "               city  total_income\n",
       "31           Москва      945042.0\n",
       "50  Санкт-Петербург      436982.0\n",
       "39      Новосибирск      174542.0\n",
       "67              Уфа      145762.0\n",
       "24        Краснодар      132790.0"
      ]
     },
     "execution_count": 76,
     "metadata": {},
     "output_type": "execute_result"
    }
   ],
   "source": [
    "city_total_income = round(users_data.groupby('city', as_index=False).agg({'total_income': 'sum'}).\\\n",
    "sort_values(by='total_income', ascending=False))\n",
    "city_total_income.head()"
   ]
  },
  {
   "cell_type": "markdown",
   "metadata": {},
   "source": [
    "Москва в лидерах. Не удивительно."
   ]
  },
  {
   "cell_type": "markdown",
   "metadata": {},
   "source": [
    "Сделаем выборки по Москве и другим городам."
   ]
  },
  {
   "cell_type": "code",
   "execution_count": 77,
   "metadata": {},
   "outputs": [],
   "source": [
    "moscow_city = users_data.loc[users_data['city'] == 'Москва']\n",
    "other_cities = users_data.loc[users_data['city'] != 'Москва']"
   ]
  },
  {
   "cell_type": "markdown",
   "metadata": {},
   "source": [
    "Подсчитаем дисперсию по выборкам."
   ]
  },
  {
   "cell_type": "code",
   "execution_count": 78,
   "metadata": {},
   "outputs": [
    {
     "data": {
      "text/plain": [
       "564710.7117467273"
      ]
     },
     "execution_count": 78,
     "metadata": {},
     "output_type": "execute_result"
    }
   ],
   "source": [
    "np.var(moscow_city.total_income)"
   ]
  },
  {
   "cell_type": "code",
   "execution_count": 79,
   "metadata": {},
   "outputs": [
    {
     "data": {
      "text/plain": [
       "653886.3270894174"
      ]
     },
     "execution_count": 79,
     "metadata": {},
     "output_type": "execute_result"
    }
   ],
   "source": [
    "np.var(other_cities.total_income)"
   ]
  },
  {
   "cell_type": "markdown",
   "metadata": {},
   "source": [
    "Зададим **критический уровень значимости alpha - 5%**. Если p-value окажется меньше него - отвергнем нулевую гипотезу."
   ]
  },
  {
   "cell_type": "code",
   "execution_count": 80,
   "metadata": {},
   "outputs": [
    {
     "name": "stdout",
     "output_type": "stream",
     "text": [
      "p-value: 0.5257376663729298\n",
      "Не получилось отвергнуть нулевую гипотезу\n"
     ]
    }
   ],
   "source": [
    "alpha=0.05\n",
    "\n",
    "#Поскольку, дисперсии выборок различаются, ставим параметр equal_var=False\n",
    "results = st.ttest_ind(moscow_city.total_income, other_cities.total_income, equal_var=False)\n",
    "print('p-value:', results.pvalue)\n",
    "\n",
    "if results.pvalue < alpha:\n",
    "    print('Отвергаем нулевую гипотезу')\n",
    "else:\n",
    "    print('Не получилось отвергнуть нулевую гипотезу')"
   ]
  },
  {
   "cell_type": "markdown",
   "metadata": {},
   "source": [
    "**Отвергнуть нулевую гипотезу не получилось**. Средняя выручка пользователей из Москвы, **не отличается** от средней выручки пользователей из других регионов."
   ]
  },
  {
   "cell_type": "markdown",
   "metadata": {},
   "source": [
    "## Вывод"
   ]
  },
  {
   "cell_type": "markdown",
   "metadata": {},
   "source": [
    "Компания «Мегалайн», федеральный оператор сотовой связи, предлагает клиентам два тарифных плана: «Смарт» и «Ультра». Коммерческий департамент хочет понять, какой тариф приносит больше денег. \n",
    "\n",
    "Мы проанализировали поведение клиентов внутри тарифа и пришли к выводам:\n",
    "\n",
    "- тариф \"Смарт\" имеет более широкий охват аудитории\n",
    "\n",
    "- в среднем, пользователи тарифа \"Ультра\", тратят больше минут звонков в месяц, отсылают больше сообщений и тратят больше гигабайт интернет-трафика, однако не выходят за рамки тарифного лимита и не платят за дополнительные минуты и гигабайты.\n",
    "\n",
    "- пользователи тарифа \"Смарт\", в среднем, так же неохотно преодолевают тарифные лимиты. Исключение составляет интернет-трафик, лимит которого преодолевается гораздо чаще.\n",
    "\n",
    "- несмотря на околонулевую прибыль от преодоления пользователями лимитного барьера, тариф \"Ультра\" покрывает всё абонентской платой.\n",
    "\n",
    "\n",
    "Чтобы понять, является ли разность в выручке из разных тарифов статистически значимой, мы провели статистические тесты и выяснили:\n",
    "\n",
    "- средняя выручка разных тарифов, отличатеся не только фактически, но и статистически значимо.\n",
    "\n",
    "- средняя выручка пользователей из Москвы, не отличается от средней выручки пользователей из других регионов.\n",
    "\n",
    "\n",
    "Подытожив, можно сказать, что оба тарифа приносят компании, в среднем, разную прибыль. \n",
    "\n",
    "Пользователи тарифа \"Ультра\", хоть и в меньшинстве, но более активные, совершают больше звонков, тратят больше интернет-трафика. Они готовы считаться с высокой абонентской платой, чтобы не ограничивать себя.\n",
    "\n",
    "- по нашим данным, общая выручка с тарифа, за выбранный период, составила 2 039 100 рублей.\n",
    "\n",
    "- средняя выручка на пользователя составляет 2 070 рублей.\n",
    "\n",
    "Тариф \"Смарт\" рассчитан на массовость и покрывает более широкую аудиторию. Также, низкий тарифный лимит, способствует более частому его преодолению и, как следствие, необходимость оплаты услуг сверх тарифного пакета.\n",
    "\n",
    "- общая выручка с тарифа, за выбранный период, составила 2 875 351 рубль.\n",
    "\n",
    "- средняя выручка на пользователя 1 290 рублей.\n",
    "\n",
    "Отвечая на вопрос коммерческого департамента «Мегалайн» - тариф \"Смарт\" приносит больше денег. В него стоит направить рекламный бюджет. "
   ]
  }
 ],
 "metadata": {
  "ExecuteTimeLog": [
   {
    "duration": 1295,
    "start_time": "2021-08-13T08:49:24.360Z"
   },
   {
    "duration": 508,
    "start_time": "2021-08-13T08:49:25.658Z"
   },
   {
    "duration": 9,
    "start_time": "2021-08-13T08:49:26.169Z"
   },
   {
    "duration": 24,
    "start_time": "2021-08-13T08:49:26.181Z"
   },
   {
    "duration": 6,
    "start_time": "2021-08-13T08:49:26.208Z"
   },
   {
    "duration": 11,
    "start_time": "2021-08-13T08:49:26.217Z"
   },
   {
    "duration": 17,
    "start_time": "2021-08-13T08:49:26.231Z"
   },
   {
    "duration": 46,
    "start_time": "2021-08-13T08:49:26.255Z"
   },
   {
    "duration": 27,
    "start_time": "2021-08-13T08:49:26.305Z"
   },
   {
    "duration": 11,
    "start_time": "2021-08-13T08:49:26.335Z"
   },
   {
    "duration": 59,
    "start_time": "2021-08-13T08:49:26.349Z"
   },
   {
    "duration": 39,
    "start_time": "2021-08-13T08:49:26.411Z"
   },
   {
    "duration": 10,
    "start_time": "2021-08-13T08:49:26.452Z"
   },
   {
    "duration": 3,
    "start_time": "2021-08-13T08:49:26.465Z"
   },
   {
    "duration": 115,
    "start_time": "2021-08-13T08:49:26.470Z"
   },
   {
    "duration": 22,
    "start_time": "2021-08-13T08:49:26.587Z"
   },
   {
    "duration": 24,
    "start_time": "2021-08-13T08:49:26.612Z"
   },
   {
    "duration": 11,
    "start_time": "2021-08-13T08:49:26.639Z"
   },
   {
    "duration": 62,
    "start_time": "2021-08-13T08:49:26.652Z"
   },
   {
    "duration": 28,
    "start_time": "2021-08-13T08:49:26.717Z"
   },
   {
    "duration": 16,
    "start_time": "2021-08-13T08:49:26.747Z"
   },
   {
    "duration": 53,
    "start_time": "2021-08-13T08:49:26.766Z"
   },
   {
    "duration": 11,
    "start_time": "2021-08-13T08:49:26.828Z"
   },
   {
    "duration": 17,
    "start_time": "2021-08-13T08:49:26.845Z"
   },
   {
    "duration": 45,
    "start_time": "2021-08-13T08:49:26.864Z"
   },
   {
    "duration": 34,
    "start_time": "2021-08-13T08:49:26.912Z"
   },
   {
    "duration": 12,
    "start_time": "2021-08-13T08:49:26.949Z"
   },
   {
    "duration": 43,
    "start_time": "2021-08-13T08:49:26.964Z"
   },
   {
    "duration": 13,
    "start_time": "2021-08-13T08:49:27.010Z"
   },
   {
    "duration": 142,
    "start_time": "2021-08-13T08:49:27.025Z"
   },
   {
    "duration": 97,
    "start_time": "2021-08-13T08:49:27.170Z"
   },
   {
    "duration": 33,
    "start_time": "2021-08-13T08:49:27.269Z"
   },
   {
    "duration": 149,
    "start_time": "2021-08-13T08:49:27.305Z"
   },
   {
    "duration": 82,
    "start_time": "2021-08-13T08:49:27.457Z"
   },
   {
    "duration": 126,
    "start_time": "2021-08-13T08:49:27.542Z"
   },
   {
    "duration": 171,
    "start_time": "2021-08-13T08:49:27.671Z"
   },
   {
    "duration": 392,
    "start_time": "2021-08-13T08:49:27.845Z"
   },
   {
    "duration": 298,
    "start_time": "2021-08-13T08:49:28.240Z"
   },
   {
    "duration": 15,
    "start_time": "2021-08-13T08:49:28.541Z"
   },
   {
    "duration": 81,
    "start_time": "2021-08-13T08:49:28.559Z"
   },
   {
    "duration": 56,
    "start_time": "2021-08-13T08:49:28.643Z"
   },
   {
    "duration": 34,
    "start_time": "2021-08-13T08:49:28.702Z"
   },
   {
    "duration": 66,
    "start_time": "2021-08-13T08:49:28.738Z"
   },
   {
    "duration": 6,
    "start_time": "2021-08-13T08:49:28.806Z"
   },
   {
    "duration": 105,
    "start_time": "2021-08-13T08:49:28.814Z"
   },
   {
    "duration": 22,
    "start_time": "2021-08-13T08:49:28.921Z"
   },
   {
    "duration": 26,
    "start_time": "2021-08-13T08:49:29.001Z"
   },
   {
    "duration": 72,
    "start_time": "2021-08-13T08:49:29.030Z"
   },
   {
    "duration": 29,
    "start_time": "2021-08-13T08:49:29.104Z"
   },
   {
    "duration": 1217,
    "start_time": "2021-08-13T08:49:29.135Z"
   },
   {
    "duration": 549,
    "start_time": "2021-08-13T08:49:30.354Z"
   },
   {
    "duration": 500,
    "start_time": "2021-08-13T08:49:30.906Z"
   },
   {
    "duration": 15,
    "start_time": "2021-08-13T08:49:31.409Z"
   },
   {
    "duration": 1029,
    "start_time": "2021-08-13T08:49:31.426Z"
   },
   {
    "duration": 853,
    "start_time": "2021-08-13T08:49:32.458Z"
   },
   {
    "duration": 538,
    "start_time": "2021-08-13T08:49:33.314Z"
   },
   {
    "duration": 15,
    "start_time": "2021-08-13T08:49:33.855Z"
   },
   {
    "duration": 649,
    "start_time": "2021-08-13T08:49:33.873Z"
   },
   {
    "duration": 298,
    "start_time": "2021-08-13T08:49:34.525Z"
   },
   {
    "duration": 295,
    "start_time": "2021-08-13T08:49:34.826Z"
   },
   {
    "duration": 14,
    "start_time": "2021-08-13T08:49:35.124Z"
   },
   {
    "duration": 31,
    "start_time": "2021-08-13T08:49:35.141Z"
   },
   {
    "duration": 34,
    "start_time": "2021-08-13T08:49:35.175Z"
   },
   {
    "duration": 9,
    "start_time": "2021-08-13T08:49:35.211Z"
   },
   {
    "duration": 28,
    "start_time": "2021-08-13T08:49:35.223Z"
   },
   {
    "duration": 25,
    "start_time": "2021-08-13T08:49:35.254Z"
   },
   {
    "duration": 59,
    "start_time": "2021-08-13T08:49:35.281Z"
   },
   {
    "duration": 22,
    "start_time": "2021-08-13T08:49:35.347Z"
   },
   {
    "duration": 26,
    "start_time": "2021-08-13T08:49:35.371Z"
   },
   {
    "duration": 32,
    "start_time": "2021-08-13T08:49:35.399Z"
   },
   {
    "duration": 31,
    "start_time": "2021-08-13T08:49:35.434Z"
   },
   {
    "duration": 26,
    "start_time": "2021-08-13T09:24:42.353Z"
   },
   {
    "duration": 32,
    "start_time": "2021-08-13T09:24:46.378Z"
   },
   {
    "duration": 313,
    "start_time": "2021-08-13T09:26:59.307Z"
   },
   {
    "duration": 276,
    "start_time": "2021-08-13T09:27:05.011Z"
   },
   {
    "duration": 306,
    "start_time": "2021-08-13T09:27:08.617Z"
   },
   {
    "duration": 317,
    "start_time": "2021-08-13T09:27:08.972Z"
   },
   {
    "duration": 6,
    "start_time": "2021-08-13T09:35:51.385Z"
   },
   {
    "duration": 5,
    "start_time": "2021-08-13T09:38:30.394Z"
   },
   {
    "duration": 5,
    "start_time": "2021-08-13T09:44:28.468Z"
   },
   {
    "duration": 6,
    "start_time": "2021-08-13T09:44:35.343Z"
   },
   {
    "duration": 7,
    "start_time": "2021-08-13T09:44:38.086Z"
   },
   {
    "duration": 5,
    "start_time": "2021-08-13T09:44:38.862Z"
   },
   {
    "duration": 6,
    "start_time": "2021-08-13T09:44:39.159Z"
   },
   {
    "duration": 97,
    "start_time": "2021-08-13T09:45:47.216Z"
   },
   {
    "duration": 90,
    "start_time": "2021-08-13T11:12:09.424Z"
   },
   {
    "duration": 1317,
    "start_time": "2021-08-13T11:12:13.107Z"
   },
   {
    "duration": 525,
    "start_time": "2021-08-13T11:12:14.427Z"
   },
   {
    "duration": 9,
    "start_time": "2021-08-13T11:12:14.955Z"
   },
   {
    "duration": 21,
    "start_time": "2021-08-13T11:12:14.967Z"
   },
   {
    "duration": 7,
    "start_time": "2021-08-13T11:12:14.990Z"
   },
   {
    "duration": 10,
    "start_time": "2021-08-13T11:12:15.000Z"
   },
   {
    "duration": 49,
    "start_time": "2021-08-13T11:12:15.012Z"
   },
   {
    "duration": 13,
    "start_time": "2021-08-13T11:12:15.064Z"
   },
   {
    "duration": 30,
    "start_time": "2021-08-13T11:12:15.080Z"
   },
   {
    "duration": 11,
    "start_time": "2021-08-13T11:12:15.112Z"
   },
   {
    "duration": 54,
    "start_time": "2021-08-13T11:12:15.125Z"
   },
   {
    "duration": 40,
    "start_time": "2021-08-13T11:12:15.181Z"
   },
   {
    "duration": 33,
    "start_time": "2021-08-13T11:12:15.224Z"
   },
   {
    "duration": 9,
    "start_time": "2021-08-13T11:12:15.260Z"
   },
   {
    "duration": 106,
    "start_time": "2021-08-13T11:12:15.272Z"
   },
   {
    "duration": 12,
    "start_time": "2021-08-13T11:12:15.380Z"
   },
   {
    "duration": 27,
    "start_time": "2021-08-13T11:12:15.394Z"
   },
   {
    "duration": 10,
    "start_time": "2021-08-13T11:12:15.423Z"
   },
   {
    "duration": 37,
    "start_time": "2021-08-13T11:12:15.435Z"
   },
   {
    "duration": 24,
    "start_time": "2021-08-13T11:12:15.474Z"
   },
   {
    "duration": 13,
    "start_time": "2021-08-13T11:12:15.500Z"
   },
   {
    "duration": 58,
    "start_time": "2021-08-13T11:12:15.516Z"
   },
   {
    "duration": 11,
    "start_time": "2021-08-13T11:12:15.580Z"
   },
   {
    "duration": 16,
    "start_time": "2021-08-13T11:12:15.595Z"
   },
   {
    "duration": 12,
    "start_time": "2021-08-13T11:12:15.613Z"
   },
   {
    "duration": 58,
    "start_time": "2021-08-13T11:12:15.628Z"
   },
   {
    "duration": 11,
    "start_time": "2021-08-13T11:12:15.688Z"
   },
   {
    "duration": 13,
    "start_time": "2021-08-13T11:12:15.701Z"
   },
   {
    "duration": 45,
    "start_time": "2021-08-13T11:12:15.717Z"
   },
   {
    "duration": 121,
    "start_time": "2021-08-13T11:12:15.765Z"
   },
   {
    "duration": 98,
    "start_time": "2021-08-13T11:12:15.888Z"
   },
   {
    "duration": 20,
    "start_time": "2021-08-13T11:12:15.988Z"
   },
   {
    "duration": 164,
    "start_time": "2021-08-13T11:12:16.010Z"
   },
   {
    "duration": 79,
    "start_time": "2021-08-13T11:12:16.176Z"
   },
   {
    "duration": 119,
    "start_time": "2021-08-13T11:12:16.257Z"
   },
   {
    "duration": 101,
    "start_time": "2021-08-13T11:12:16.378Z"
   },
   {
    "duration": 145,
    "start_time": "2021-08-13T11:12:16.481Z"
   },
   {
    "duration": 123,
    "start_time": "2021-08-13T11:12:16.628Z"
   },
   {
    "duration": 14,
    "start_time": "2021-08-13T11:12:16.753Z"
   },
   {
    "duration": 53,
    "start_time": "2021-08-13T11:12:16.769Z"
   },
   {
    "duration": 32,
    "start_time": "2021-08-13T11:12:16.825Z"
   },
   {
    "duration": 35,
    "start_time": "2021-08-13T11:12:16.860Z"
   },
   {
    "duration": 10,
    "start_time": "2021-08-13T11:12:16.897Z"
   },
   {
    "duration": 7,
    "start_time": "2021-08-13T11:12:16.909Z"
   },
   {
    "duration": 91,
    "start_time": "2021-08-13T11:12:16.919Z"
   },
   {
    "duration": 53,
    "start_time": "2021-08-13T11:12:17.014Z"
   },
   {
    "duration": 29,
    "start_time": "2021-08-13T11:12:17.070Z"
   },
   {
    "duration": 55,
    "start_time": "2021-08-13T11:12:17.102Z"
   },
   {
    "duration": 29,
    "start_time": "2021-08-13T11:12:17.160Z"
   },
   {
    "duration": 913,
    "start_time": "2021-08-13T11:12:17.192Z"
   },
   {
    "duration": 337,
    "start_time": "2021-08-13T11:12:18.107Z"
   },
   {
    "duration": 331,
    "start_time": "2021-08-13T11:12:18.446Z"
   },
   {
    "duration": 14,
    "start_time": "2021-08-13T11:12:18.779Z"
   },
   {
    "duration": 582,
    "start_time": "2021-08-13T11:12:18.795Z"
   },
   {
    "duration": 300,
    "start_time": "2021-08-13T11:12:19.379Z"
   },
   {
    "duration": 310,
    "start_time": "2021-08-13T11:12:19.682Z"
   },
   {
    "duration": 14,
    "start_time": "2021-08-13T11:12:19.995Z"
   },
   {
    "duration": 665,
    "start_time": "2021-08-13T11:12:20.011Z"
   },
   {
    "duration": 284,
    "start_time": "2021-08-13T11:12:20.678Z"
   },
   {
    "duration": 277,
    "start_time": "2021-08-13T11:12:20.964Z"
   },
   {
    "duration": 22,
    "start_time": "2021-08-13T11:12:21.244Z"
   },
   {
    "duration": 14,
    "start_time": "2021-08-13T11:12:21.269Z"
   },
   {
    "duration": 16,
    "start_time": "2021-08-13T11:12:21.286Z"
   },
   {
    "duration": 7,
    "start_time": "2021-08-13T11:12:21.305Z"
   },
   {
    "duration": 43,
    "start_time": "2021-08-13T11:12:21.314Z"
   },
   {
    "duration": 136,
    "start_time": "2021-08-13T11:12:21.359Z"
   },
   {
    "duration": 409,
    "start_time": "2021-08-13T11:12:21.088Z"
   },
   {
    "duration": 408,
    "start_time": "2021-08-13T11:12:21.091Z"
   },
   {
    "duration": 407,
    "start_time": "2021-08-13T11:12:21.093Z"
   },
   {
    "duration": 406,
    "start_time": "2021-08-13T11:12:21.096Z"
   },
   {
    "duration": 404,
    "start_time": "2021-08-13T11:12:21.099Z"
   },
   {
    "duration": 98,
    "start_time": "2021-08-13T11:14:24.228Z"
   },
   {
    "duration": 6,
    "start_time": "2021-08-13T11:14:27.752Z"
   },
   {
    "duration": 86,
    "start_time": "2021-08-13T11:14:46.387Z"
   },
   {
    "duration": 108,
    "start_time": "2021-08-13T11:14:48.835Z"
   },
   {
    "duration": 98,
    "start_time": "2021-08-13T11:15:15.171Z"
   },
   {
    "duration": 6,
    "start_time": "2021-08-13T11:15:41.122Z"
   },
   {
    "duration": 6,
    "start_time": "2021-08-13T11:16:15.019Z"
   },
   {
    "duration": 8,
    "start_time": "2021-08-13T11:16:45.267Z"
   },
   {
    "duration": 89,
    "start_time": "2021-08-13T11:17:27.389Z"
   },
   {
    "duration": 7,
    "start_time": "2021-08-13T11:17:34.707Z"
   },
   {
    "duration": 391,
    "start_time": "2021-08-13T11:17:58.690Z"
   },
   {
    "duration": 7,
    "start_time": "2021-08-13T11:18:07.139Z"
   },
   {
    "duration": 19,
    "start_time": "2021-08-13T11:18:13.082Z"
   },
   {
    "duration": 8,
    "start_time": "2021-08-13T11:18:15.378Z"
   },
   {
    "duration": 8,
    "start_time": "2021-08-13T11:18:17.314Z"
   },
   {
    "duration": 6,
    "start_time": "2021-08-13T11:18:17.810Z"
   },
   {
    "duration": 7,
    "start_time": "2021-08-13T11:18:20.242Z"
   },
   {
    "duration": 276,
    "start_time": "2021-08-13T11:29:11.569Z"
   },
   {
    "duration": 282,
    "start_time": "2021-08-13T11:30:31.985Z"
   },
   {
    "duration": 265,
    "start_time": "2021-08-13T11:30:37.825Z"
   },
   {
    "duration": 264,
    "start_time": "2021-08-13T11:30:40.833Z"
   },
   {
    "duration": 242,
    "start_time": "2021-08-13T11:30:45.745Z"
   },
   {
    "duration": 242,
    "start_time": "2021-08-13T11:30:48.465Z"
   },
   {
    "duration": 352,
    "start_time": "2021-08-13T18:43:16.239Z"
   },
   {
    "duration": 1455,
    "start_time": "2021-08-13T18:43:21.612Z"
   },
   {
    "duration": 583,
    "start_time": "2021-08-13T18:43:23.070Z"
   },
   {
    "duration": 13,
    "start_time": "2021-08-13T18:43:23.656Z"
   },
   {
    "duration": 32,
    "start_time": "2021-08-13T18:43:23.672Z"
   },
   {
    "duration": 7,
    "start_time": "2021-08-13T18:43:23.707Z"
   },
   {
    "duration": 31,
    "start_time": "2021-08-13T18:43:23.717Z"
   },
   {
    "duration": 36,
    "start_time": "2021-08-13T18:43:23.750Z"
   },
   {
    "duration": 24,
    "start_time": "2021-08-13T18:43:23.790Z"
   },
   {
    "duration": 31,
    "start_time": "2021-08-13T18:43:23.817Z"
   },
   {
    "duration": 12,
    "start_time": "2021-08-13T18:43:23.850Z"
   },
   {
    "duration": 39,
    "start_time": "2021-08-13T18:43:23.865Z"
   },
   {
    "duration": 41,
    "start_time": "2021-08-13T18:43:23.907Z"
   },
   {
    "duration": 11,
    "start_time": "2021-08-13T18:43:23.950Z"
   },
   {
    "duration": 14,
    "start_time": "2021-08-13T18:43:23.964Z"
   },
   {
    "duration": 119,
    "start_time": "2021-08-13T18:43:23.981Z"
   },
   {
    "duration": 13,
    "start_time": "2021-08-13T18:43:24.104Z"
   },
   {
    "duration": 26,
    "start_time": "2021-08-13T18:43:24.119Z"
   },
   {
    "duration": 23,
    "start_time": "2021-08-13T18:43:24.147Z"
   },
   {
    "duration": 43,
    "start_time": "2021-08-13T18:43:24.173Z"
   },
   {
    "duration": 88,
    "start_time": "2021-08-13T18:43:24.219Z"
   },
   {
    "duration": 14,
    "start_time": "2021-08-13T18:43:24.309Z"
   },
   {
    "duration": 75,
    "start_time": "2021-08-13T18:43:24.326Z"
   },
   {
    "duration": 17,
    "start_time": "2021-08-13T18:43:24.409Z"
   },
   {
    "duration": 29,
    "start_time": "2021-08-13T18:43:24.431Z"
   },
   {
    "duration": 13,
    "start_time": "2021-08-13T18:43:24.463Z"
   },
   {
    "duration": 57,
    "start_time": "2021-08-13T18:43:24.479Z"
   },
   {
    "duration": 15,
    "start_time": "2021-08-13T18:43:24.539Z"
   },
   {
    "duration": 24,
    "start_time": "2021-08-13T18:43:24.556Z"
   },
   {
    "duration": 36,
    "start_time": "2021-08-13T18:43:24.582Z"
   },
   {
    "duration": 225,
    "start_time": "2021-08-13T18:43:24.620Z"
   },
   {
    "duration": 221,
    "start_time": "2021-08-13T18:43:24.902Z"
   },
   {
    "duration": 20,
    "start_time": "2021-08-13T18:43:25.125Z"
   },
   {
    "duration": 171,
    "start_time": "2021-08-13T18:43:25.148Z"
   },
   {
    "duration": 92,
    "start_time": "2021-08-13T18:43:25.322Z"
   },
   {
    "duration": 126,
    "start_time": "2021-08-13T18:43:25.417Z"
   },
   {
    "duration": 108,
    "start_time": "2021-08-13T18:43:25.547Z"
   },
   {
    "duration": 151,
    "start_time": "2021-08-13T18:43:25.658Z"
   },
   {
    "duration": 127,
    "start_time": "2021-08-13T18:43:25.811Z"
   },
   {
    "duration": 16,
    "start_time": "2021-08-13T18:43:25.940Z"
   },
   {
    "duration": 74,
    "start_time": "2021-08-13T18:43:25.958Z"
   },
   {
    "duration": 12,
    "start_time": "2021-08-13T18:43:26.035Z"
   },
   {
    "duration": 63,
    "start_time": "2021-08-13T18:43:26.049Z"
   },
   {
    "duration": 9,
    "start_time": "2021-08-13T18:43:26.114Z"
   },
   {
    "duration": 6,
    "start_time": "2021-08-13T18:43:26.125Z"
   },
   {
    "duration": 92,
    "start_time": "2021-08-13T18:43:26.134Z"
   },
   {
    "duration": 25,
    "start_time": "2021-08-13T18:43:26.228Z"
   },
   {
    "duration": 54,
    "start_time": "2021-08-13T18:43:26.256Z"
   },
   {
    "duration": 29,
    "start_time": "2021-08-13T18:43:26.312Z"
   },
   {
    "duration": 59,
    "start_time": "2021-08-13T18:43:26.344Z"
   },
   {
    "duration": 786,
    "start_time": "2021-08-13T18:43:26.406Z"
   },
   {
    "duration": 311,
    "start_time": "2021-08-13T18:43:27.194Z"
   },
   {
    "duration": 303,
    "start_time": "2021-08-13T18:43:27.509Z"
   },
   {
    "duration": 15,
    "start_time": "2021-08-13T18:43:27.814Z"
   },
   {
    "duration": 592,
    "start_time": "2021-08-13T18:43:27.831Z"
   },
   {
    "duration": 270,
    "start_time": "2021-08-13T18:43:28.425Z"
   },
   {
    "duration": 275,
    "start_time": "2021-08-13T18:43:28.701Z"
   },
   {
    "duration": 22,
    "start_time": "2021-08-13T18:43:28.978Z"
   },
   {
    "duration": 640,
    "start_time": "2021-08-13T18:43:29.002Z"
   },
   {
    "duration": 358,
    "start_time": "2021-08-13T18:43:29.645Z"
   },
   {
    "duration": 257,
    "start_time": "2021-08-13T18:43:30.007Z"
   },
   {
    "duration": 33,
    "start_time": "2021-08-13T18:43:30.266Z"
   },
   {
    "duration": 15,
    "start_time": "2021-08-13T18:43:30.302Z"
   },
   {
    "duration": 21,
    "start_time": "2021-08-13T18:43:30.320Z"
   },
   {
    "duration": 6,
    "start_time": "2021-08-13T18:43:30.343Z"
   },
   {
    "duration": 17,
    "start_time": "2021-08-13T18:43:30.352Z"
   },
   {
    "duration": 8,
    "start_time": "2021-08-13T18:43:30.402Z"
   },
   {
    "duration": 20,
    "start_time": "2021-08-13T18:43:30.413Z"
   },
   {
    "duration": 7,
    "start_time": "2021-08-13T18:43:30.442Z"
   },
   {
    "duration": 48,
    "start_time": "2021-08-13T18:43:30.453Z"
   },
   {
    "duration": 7,
    "start_time": "2021-08-13T18:43:30.504Z"
   },
   {
    "duration": 9,
    "start_time": "2021-08-13T18:43:30.513Z"
   },
   {
    "duration": 17,
    "start_time": "2021-08-13T18:43:55.826Z"
   },
   {
    "duration": 32,
    "start_time": "2021-08-13T18:45:03.585Z"
   },
   {
    "duration": 556,
    "start_time": "2021-08-13T18:45:53.689Z"
   },
   {
    "duration": 487,
    "start_time": "2021-08-13T18:46:12.176Z"
   },
   {
    "duration": 710,
    "start_time": "2021-08-13T18:46:52.841Z"
   },
   {
    "duration": 3595,
    "start_time": "2021-08-13T18:48:23.263Z"
   },
   {
    "duration": 407,
    "start_time": "2021-08-13T18:48:40.696Z"
   },
   {
    "duration": 13,
    "start_time": "2021-08-13T18:54:28.941Z"
   },
   {
    "duration": 6,
    "start_time": "2021-08-13T18:55:05.378Z"
   },
   {
    "duration": 512,
    "start_time": "2021-08-13T18:55:05.387Z"
   },
   {
    "duration": 8,
    "start_time": "2021-08-13T18:55:05.902Z"
   },
   {
    "duration": 15,
    "start_time": "2021-08-13T18:55:05.913Z"
   },
   {
    "duration": 7,
    "start_time": "2021-08-13T18:55:05.931Z"
   },
   {
    "duration": 11,
    "start_time": "2021-08-13T18:55:05.941Z"
   },
   {
    "duration": 47,
    "start_time": "2021-08-13T18:55:05.955Z"
   },
   {
    "duration": 12,
    "start_time": "2021-08-13T18:55:06.005Z"
   },
   {
    "duration": 27,
    "start_time": "2021-08-13T18:55:08.852Z"
   },
   {
    "duration": 13,
    "start_time": "2021-08-13T18:55:10.068Z"
   },
   {
    "duration": 11,
    "start_time": "2021-08-13T18:59:00.755Z"
   },
   {
    "duration": 8,
    "start_time": "2021-08-13T18:59:36.332Z"
   },
   {
    "duration": 33,
    "start_time": "2021-08-13T19:00:49.314Z"
   },
   {
    "duration": 35,
    "start_time": "2021-08-13T19:00:57.483Z"
   },
   {
    "duration": 380,
    "start_time": "2021-08-13T19:01:17.427Z"
   },
   {
    "duration": 460,
    "start_time": "2021-08-13T19:01:31.628Z"
   },
   {
    "duration": 449,
    "start_time": "2021-08-13T19:01:42.498Z"
   },
   {
    "duration": -3647,
    "start_time": "2021-08-13T19:02:43.380Z"
   },
   {
    "duration": 40,
    "start_time": "2021-08-13T19:02:47.026Z"
   },
   {
    "duration": 270,
    "start_time": "2021-08-13T19:32:46.972Z"
   },
   {
    "duration": 120,
    "start_time": "2021-08-13T19:32:58.149Z"
   },
   {
    "duration": 38,
    "start_time": "2021-08-13T19:33:37.717Z"
   },
   {
    "duration": 13,
    "start_time": "2021-08-13T19:37:21.043Z"
   },
   {
    "duration": 36,
    "start_time": "2021-08-13T19:37:23.803Z"
   },
   {
    "duration": 374,
    "start_time": "2021-08-13T19:38:56.963Z"
   },
   {
    "duration": 35,
    "start_time": "2021-08-13T19:39:38.691Z"
   },
   {
    "duration": 35,
    "start_time": "2021-08-13T19:42:53.857Z"
   },
   {
    "duration": 357,
    "start_time": "2021-08-13T19:45:52.663Z"
   },
   {
    "duration": 19494,
    "start_time": "2021-08-13T19:46:23.320Z"
   },
   {
    "duration": 463,
    "start_time": "2021-08-13T19:48:30.478Z"
   },
   {
    "duration": 582,
    "start_time": "2021-08-13T19:48:51.046Z"
   },
   {
    "duration": 447,
    "start_time": "2021-08-13T19:48:59.534Z"
   },
   {
    "duration": 559,
    "start_time": "2021-08-13T19:49:04.293Z"
   },
   {
    "duration": 521,
    "start_time": "2021-08-13T19:50:46.451Z"
   },
   {
    "duration": 297,
    "start_time": "2021-08-13T19:51:29.581Z"
   },
   {
    "duration": 291,
    "start_time": "2021-08-13T19:51:59.093Z"
   },
   {
    "duration": 307,
    "start_time": "2021-08-13T19:52:06.428Z"
   },
   {
    "duration": 413,
    "start_time": "2021-08-13T19:52:17.765Z"
   },
   {
    "duration": 405,
    "start_time": "2021-08-13T19:52:23.188Z"
   },
   {
    "duration": 410,
    "start_time": "2021-08-13T19:52:29.444Z"
   },
   {
    "duration": 26,
    "start_time": "2021-08-13T20:10:19.153Z"
   },
   {
    "duration": 279,
    "start_time": "2021-08-13T20:14:16.706Z"
   },
   {
    "duration": 525,
    "start_time": "2021-08-13T20:15:52.306Z"
   },
   {
    "duration": 465,
    "start_time": "2021-08-13T20:15:59.825Z"
   },
   {
    "duration": 490,
    "start_time": "2021-08-13T20:16:06.201Z"
   },
   {
    "duration": 27,
    "start_time": "2021-08-13T20:26:37.586Z"
   },
   {
    "duration": 36,
    "start_time": "2021-08-13T20:26:38.484Z"
   },
   {
    "duration": 11,
    "start_time": "2021-08-13T20:26:39.908Z"
   },
   {
    "duration": 3,
    "start_time": "2021-08-13T20:26:43.340Z"
   },
   {
    "duration": 88,
    "start_time": "2021-08-13T20:26:44.454Z"
   },
   {
    "duration": 12,
    "start_time": "2021-08-13T20:26:47.337Z"
   },
   {
    "duration": 20,
    "start_time": "2021-08-13T20:26:49.516Z"
   },
   {
    "duration": 14,
    "start_time": "2021-08-13T20:26:51.269Z"
   },
   {
    "duration": 19,
    "start_time": "2021-08-13T20:26:52.540Z"
   },
   {
    "duration": 25,
    "start_time": "2021-08-13T20:26:54.580Z"
   },
   {
    "duration": 15,
    "start_time": "2021-08-13T20:26:54.956Z"
   },
   {
    "duration": 8,
    "start_time": "2021-08-13T20:27:03.176Z"
   },
   {
    "duration": 520,
    "start_time": "2021-08-13T20:27:03.187Z"
   },
   {
    "duration": 9,
    "start_time": "2021-08-13T20:27:03.711Z"
   },
   {
    "duration": 17,
    "start_time": "2021-08-13T20:27:03.725Z"
   },
   {
    "duration": 11,
    "start_time": "2021-08-13T20:27:03.745Z"
   },
   {
    "duration": 49,
    "start_time": "2021-08-13T20:27:03.758Z"
   },
   {
    "duration": 21,
    "start_time": "2021-08-13T20:27:03.810Z"
   },
   {
    "duration": 13,
    "start_time": "2021-08-13T20:27:03.837Z"
   },
   {
    "duration": 65,
    "start_time": "2021-08-13T20:27:03.854Z"
   },
   {
    "duration": 11,
    "start_time": "2021-08-13T20:27:03.922Z"
   },
   {
    "duration": 36,
    "start_time": "2021-08-13T20:27:03.935Z"
   },
   {
    "duration": 519,
    "start_time": "2021-08-13T20:27:03.974Z"
   },
   {
    "duration": 283,
    "start_time": "2021-08-13T20:27:04.499Z"
   },
   {
    "duration": 33,
    "start_time": "2021-08-13T20:27:04.785Z"
   },
   {
    "duration": 37,
    "start_time": "2021-08-13T20:27:04.821Z"
   },
   {
    "duration": 11,
    "start_time": "2021-08-13T20:27:04.860Z"
   },
   {
    "duration": 4,
    "start_time": "2021-08-13T20:27:04.901Z"
   },
   {
    "duration": 97,
    "start_time": "2021-08-13T20:27:04.907Z"
   },
   {
    "duration": 12,
    "start_time": "2021-08-13T20:27:05.006Z"
   },
   {
    "duration": 23,
    "start_time": "2021-08-13T20:27:05.020Z"
   },
   {
    "duration": 10,
    "start_time": "2021-08-13T20:27:05.046Z"
   },
   {
    "duration": 50,
    "start_time": "2021-08-13T20:27:05.058Z"
   },
   {
    "duration": 26,
    "start_time": "2021-08-13T20:27:05.112Z"
   },
   {
    "duration": 14,
    "start_time": "2021-08-13T20:27:05.141Z"
   },
   {
    "duration": 50,
    "start_time": "2021-08-13T20:27:05.158Z"
   },
   {
    "duration": 13,
    "start_time": "2021-08-13T20:27:05.211Z"
   },
   {
    "duration": 38,
    "start_time": "2021-08-13T20:28:55.692Z"
   },
   {
    "duration": 14,
    "start_time": "2021-08-13T20:29:02.892Z"
   },
   {
    "duration": 10,
    "start_time": "2021-08-13T20:29:05.787Z"
   },
   {
    "duration": 32,
    "start_time": "2021-08-13T20:29:06.699Z"
   },
   {
    "duration": 12,
    "start_time": "2021-08-13T20:29:07.092Z"
   },
   {
    "duration": 32,
    "start_time": "2021-08-13T20:29:08.356Z"
   },
   {
    "duration": 251,
    "start_time": "2021-08-13T20:40:43.814Z"
   },
   {
    "duration": 7,
    "start_time": "2021-08-13T20:40:50.823Z"
   },
   {
    "duration": 7,
    "start_time": "2021-08-13T20:41:04.095Z"
   },
   {
    "duration": 31,
    "start_time": "2021-08-13T20:41:13.415Z"
   },
   {
    "duration": 30,
    "start_time": "2021-08-13T20:41:54.182Z"
   },
   {
    "duration": 31,
    "start_time": "2021-08-13T20:41:58.005Z"
   },
   {
    "duration": 32,
    "start_time": "2021-08-13T20:42:26.830Z"
   },
   {
    "duration": 102,
    "start_time": "2021-08-13T20:43:30.742Z"
   },
   {
    "duration": 20,
    "start_time": "2021-08-13T20:43:37.125Z"
   },
   {
    "duration": 272,
    "start_time": "2021-08-13T20:44:14.621Z"
   },
   {
    "duration": 14,
    "start_time": "2021-08-13T20:44:24.117Z"
   },
   {
    "duration": 9,
    "start_time": "2021-08-13T20:44:35.020Z"
   },
   {
    "duration": 8,
    "start_time": "2021-08-13T20:44:46.628Z"
   },
   {
    "duration": 8,
    "start_time": "2021-08-13T20:44:49.227Z"
   },
   {
    "duration": 8,
    "start_time": "2021-08-13T20:44:51.973Z"
   },
   {
    "duration": 8,
    "start_time": "2021-08-13T20:44:54.365Z"
   },
   {
    "duration": 8,
    "start_time": "2021-08-13T20:44:57.348Z"
   },
   {
    "duration": 8,
    "start_time": "2021-08-13T20:44:59.908Z"
   },
   {
    "duration": 7,
    "start_time": "2021-08-13T20:45:02.988Z"
   },
   {
    "duration": 8,
    "start_time": "2021-08-13T20:45:06.381Z"
   },
   {
    "duration": 7,
    "start_time": "2021-08-13T20:45:10.490Z"
   },
   {
    "duration": 7,
    "start_time": "2021-08-13T20:45:13.221Z"
   },
   {
    "duration": 7,
    "start_time": "2021-08-13T20:45:16.868Z"
   },
   {
    "duration": 9,
    "start_time": "2021-08-13T20:45:26.405Z"
   },
   {
    "duration": 8,
    "start_time": "2021-08-13T20:45:30.332Z"
   },
   {
    "duration": 8,
    "start_time": "2021-08-13T20:45:33.772Z"
   },
   {
    "duration": 679,
    "start_time": "2021-08-13T20:57:31.911Z"
   },
   {
    "duration": 508,
    "start_time": "2021-08-13T20:57:55.191Z"
   },
   {
    "duration": 7,
    "start_time": "2021-08-13T20:58:16.734Z"
   },
   {
    "duration": 519,
    "start_time": "2021-08-13T20:58:20.070Z"
   },
   {
    "duration": 279,
    "start_time": "2021-08-13T20:58:54.814Z"
   },
   {
    "duration": 285,
    "start_time": "2021-08-13T20:59:03.622Z"
   },
   {
    "duration": 9,
    "start_time": "2021-08-13T21:34:34.270Z"
   },
   {
    "duration": 9,
    "start_time": "2021-08-13T21:39:41.539Z"
   },
   {
    "duration": 9,
    "start_time": "2021-08-13T21:40:52.442Z"
   },
   {
    "duration": 100,
    "start_time": "2021-08-13T21:42:06.738Z"
   },
   {
    "duration": 6,
    "start_time": "2021-08-13T21:58:17.319Z"
   },
   {
    "duration": 488,
    "start_time": "2021-08-13T21:58:17.327Z"
   },
   {
    "duration": 9,
    "start_time": "2021-08-13T21:58:17.818Z"
   },
   {
    "duration": 19,
    "start_time": "2021-08-13T21:58:17.830Z"
   },
   {
    "duration": 8,
    "start_time": "2021-08-13T21:58:17.851Z"
   },
   {
    "duration": 9,
    "start_time": "2021-08-13T21:58:17.861Z"
   },
   {
    "duration": 39,
    "start_time": "2021-08-13T21:58:17.872Z"
   },
   {
    "duration": 9,
    "start_time": "2021-08-13T21:58:17.914Z"
   },
   {
    "duration": 32,
    "start_time": "2021-08-13T21:58:17.926Z"
   },
   {
    "duration": 10,
    "start_time": "2021-08-13T21:58:17.961Z"
   },
   {
    "duration": 35,
    "start_time": "2021-08-13T21:58:18.000Z"
   },
   {
    "duration": 508,
    "start_time": "2021-08-13T21:58:18.037Z"
   },
   {
    "duration": 284,
    "start_time": "2021-08-13T21:58:18.547Z"
   },
   {
    "duration": 25,
    "start_time": "2021-08-13T21:58:18.833Z"
   },
   {
    "duration": 59,
    "start_time": "2021-08-13T21:58:18.861Z"
   },
   {
    "duration": 11,
    "start_time": "2021-08-13T21:58:18.923Z"
   },
   {
    "duration": 3,
    "start_time": "2021-08-13T21:58:22.723Z"
   },
   {
    "duration": 5,
    "start_time": "2021-08-13T21:58:41.355Z"
   },
   {
    "duration": 13,
    "start_time": "2021-08-13T21:58:42.930Z"
   },
   {
    "duration": 1436,
    "start_time": "2021-08-14T08:18:27.767Z"
   },
   {
    "duration": 509,
    "start_time": "2021-08-14T08:18:29.206Z"
   },
   {
    "duration": 10,
    "start_time": "2021-08-14T08:18:29.718Z"
   },
   {
    "duration": 26,
    "start_time": "2021-08-14T08:18:29.731Z"
   },
   {
    "duration": 8,
    "start_time": "2021-08-14T08:18:29.760Z"
   },
   {
    "duration": 16,
    "start_time": "2021-08-14T08:18:29.770Z"
   },
   {
    "duration": 24,
    "start_time": "2021-08-14T08:18:29.789Z"
   },
   {
    "duration": 9,
    "start_time": "2021-08-14T08:18:29.818Z"
   },
   {
    "duration": 26,
    "start_time": "2021-08-14T08:18:29.830Z"
   },
   {
    "duration": 44,
    "start_time": "2021-08-14T08:18:29.859Z"
   },
   {
    "duration": 42,
    "start_time": "2021-08-14T08:18:29.907Z"
   },
   {
    "duration": 527,
    "start_time": "2021-08-14T08:18:29.952Z"
   },
   {
    "duration": 297,
    "start_time": "2021-08-14T08:18:30.483Z"
   },
   {
    "duration": 37,
    "start_time": "2021-08-14T08:18:30.784Z"
   },
   {
    "duration": 49,
    "start_time": "2021-08-14T08:18:30.824Z"
   },
   {
    "duration": 30,
    "start_time": "2021-08-14T08:18:30.876Z"
   },
   {
    "duration": 6,
    "start_time": "2021-08-14T08:18:30.909Z"
   },
   {
    "duration": 25,
    "start_time": "2021-08-14T08:18:30.917Z"
   },
   {
    "duration": 20,
    "start_time": "2021-08-14T08:18:30.945Z"
   },
   {
    "duration": 22,
    "start_time": "2021-08-14T08:18:30.967Z"
   },
   {
    "duration": 12,
    "start_time": "2021-08-14T08:18:31.001Z"
   },
   {
    "duration": 24,
    "start_time": "2021-08-14T08:18:31.016Z"
   },
   {
    "duration": 34,
    "start_time": "2021-08-14T08:18:31.047Z"
   },
   {
    "duration": 27,
    "start_time": "2021-08-14T08:18:31.085Z"
   },
   {
    "duration": 36,
    "start_time": "2021-08-14T08:18:31.114Z"
   },
   {
    "duration": 22,
    "start_time": "2021-08-14T08:18:31.153Z"
   },
   {
    "duration": 39,
    "start_time": "2021-08-14T08:18:31.177Z"
   },
   {
    "duration": 11,
    "start_time": "2021-08-14T08:18:31.218Z"
   },
   {
    "duration": 47,
    "start_time": "2021-08-14T08:18:31.232Z"
   },
   {
    "duration": 22,
    "start_time": "2021-08-14T08:18:31.282Z"
   },
   {
    "duration": 55,
    "start_time": "2021-08-14T08:18:31.307Z"
   },
   {
    "duration": 8,
    "start_time": "2021-08-14T08:18:31.365Z"
   },
   {
    "duration": 545,
    "start_time": "2021-08-14T08:18:31.376Z"
   },
   {
    "duration": 295,
    "start_time": "2021-08-14T08:18:31.924Z"
   },
   {
    "duration": 9,
    "start_time": "2021-08-14T08:18:32.222Z"
   },
   {
    "duration": 28,
    "start_time": "2021-08-14T08:18:32.235Z"
   },
   {
    "duration": 131,
    "start_time": "2021-08-14T08:18:32.265Z"
   },
   {
    "duration": 100,
    "start_time": "2021-08-14T08:18:32.400Z"
   },
   {
    "duration": 21,
    "start_time": "2021-08-14T08:18:32.503Z"
   },
   {
    "duration": 156,
    "start_time": "2021-08-14T08:18:32.526Z"
   },
   {
    "duration": 120,
    "start_time": "2021-08-14T08:18:32.685Z"
   },
   {
    "duration": 170,
    "start_time": "2021-08-14T08:18:32.808Z"
   },
   {
    "duration": 137,
    "start_time": "2021-08-14T08:18:32.981Z"
   },
   {
    "duration": 216,
    "start_time": "2021-08-14T08:18:33.121Z"
   },
   {
    "duration": 161,
    "start_time": "2021-08-14T08:18:33.341Z"
   },
   {
    "duration": 21,
    "start_time": "2021-08-14T08:18:33.506Z"
   },
   {
    "duration": 97,
    "start_time": "2021-08-14T08:18:33.530Z"
   },
   {
    "duration": 17,
    "start_time": "2021-08-14T08:18:33.630Z"
   },
   {
    "duration": 69,
    "start_time": "2021-08-14T08:18:33.650Z"
   },
   {
    "duration": 11,
    "start_time": "2021-08-14T08:18:33.721Z"
   },
   {
    "duration": 10,
    "start_time": "2021-08-14T08:18:33.734Z"
   },
   {
    "duration": 77,
    "start_time": "2021-08-14T08:18:33.747Z"
   },
   {
    "duration": 23,
    "start_time": "2021-08-14T08:18:33.826Z"
   },
   {
    "duration": 51,
    "start_time": "2021-08-14T08:18:33.852Z"
   },
   {
    "duration": 24,
    "start_time": "2021-08-14T08:18:33.906Z"
   },
   {
    "duration": 28,
    "start_time": "2021-08-14T08:18:33.933Z"
   },
   {
    "duration": 41,
    "start_time": "2021-08-14T08:18:33.963Z"
   },
   {
    "duration": 20,
    "start_time": "2021-08-14T08:18:34.007Z"
   },
   {
    "duration": 781,
    "start_time": "2021-08-14T08:18:34.029Z"
   },
   {
    "duration": 345,
    "start_time": "2021-08-14T08:18:34.813Z"
   },
   {
    "duration": 293,
    "start_time": "2021-08-14T08:18:35.161Z"
   },
   {
    "duration": 14,
    "start_time": "2021-08-14T08:18:35.456Z"
   },
   {
    "duration": 587,
    "start_time": "2021-08-14T08:18:35.472Z"
   },
   {
    "duration": 343,
    "start_time": "2021-08-14T08:18:36.062Z"
   },
   {
    "duration": 285,
    "start_time": "2021-08-14T08:18:36.408Z"
   },
   {
    "duration": 14,
    "start_time": "2021-08-14T08:18:36.696Z"
   },
   {
    "duration": 589,
    "start_time": "2021-08-14T08:18:36.713Z"
   },
   {
    "duration": 262,
    "start_time": "2021-08-14T08:18:37.309Z"
   },
   {
    "duration": 259,
    "start_time": "2021-08-14T08:18:37.574Z"
   },
   {
    "duration": 14,
    "start_time": "2021-08-14T08:18:37.836Z"
   },
   {
    "duration": 26,
    "start_time": "2021-08-14T08:18:37.852Z"
   },
   {
    "duration": 26,
    "start_time": "2021-08-14T08:18:37.881Z"
   },
   {
    "duration": 35,
    "start_time": "2021-08-14T08:18:37.909Z"
   },
   {
    "duration": 27,
    "start_time": "2021-08-14T08:18:37.946Z"
   },
   {
    "duration": 23,
    "start_time": "2021-08-14T08:18:37.975Z"
   },
   {
    "duration": 33,
    "start_time": "2021-08-14T08:18:38.001Z"
   },
   {
    "duration": 8,
    "start_time": "2021-08-14T08:18:38.038Z"
   },
   {
    "duration": 20,
    "start_time": "2021-08-14T08:18:38.049Z"
   },
   {
    "duration": 21,
    "start_time": "2021-08-14T08:18:38.072Z"
   },
   {
    "duration": 22,
    "start_time": "2021-08-14T08:18:38.096Z"
   }
  ],
  "kernelspec": {
   "display_name": "Python 3",
   "language": "python",
   "name": "python3"
  },
  "language_info": {
   "codemirror_mode": {
    "name": "ipython",
    "version": 3
   },
   "file_extension": ".py",
   "mimetype": "text/x-python",
   "name": "python",
   "nbconvert_exporter": "python",
   "pygments_lexer": "ipython3",
   "version": "3.8.5"
  },
  "toc": {
   "base_numbering": 1,
   "nav_menu": {},
   "number_sections": true,
   "sideBar": true,
   "skip_h1_title": true,
   "title_cell": "Table of Contents",
   "title_sidebar": "Contents",
   "toc_cell": false,
   "toc_position": {},
   "toc_section_display": true,
   "toc_window_display": false
  }
 },
 "nbformat": 4,
 "nbformat_minor": 4
}
